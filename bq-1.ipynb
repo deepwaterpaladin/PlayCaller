{
 "cells": [
  {
   "cell_type": "code",
   "execution_count": 1,
   "metadata": {},
   "outputs": [],
   "source": [
    "import polars as pl"
   ]
  },
  {
   "cell_type": "code",
   "execution_count": 2,
   "metadata": {},
   "outputs": [],
   "source": [
    "plays = pl.read_csv(\"data/plays.csv\", null_values=[\"NA\"])"
   ]
  },
  {
   "cell_type": "code",
   "execution_count": 3,
   "metadata": {},
   "outputs": [
    {
     "data": {
      "text/html": [
       "<div><style>\n",
       ".dataframe > thead > tr,\n",
       ".dataframe > tbody > tr {\n",
       "  text-align: right;\n",
       "  white-space: pre-wrap;\n",
       "}\n",
       "</style>\n",
       "<small>shape: (16_124, 50)</small><table border=\"1\" class=\"dataframe\"><thead><tr><th>gameId</th><th>playId</th><th>playDescription</th><th>quarter</th><th>down</th><th>yardsToGo</th><th>possessionTeam</th><th>defensiveTeam</th><th>yardlineSide</th><th>yardlineNumber</th><th>gameClock</th><th>preSnapHomeScore</th><th>preSnapVisitorScore</th><th>playNullifiedByPenalty</th><th>absoluteYardlineNumber</th><th>preSnapHomeTeamWinProbability</th><th>preSnapVisitorTeamWinProbability</th><th>expectedPoints</th><th>offenseFormation</th><th>receiverAlignment</th><th>playClockAtSnap</th><th>passResult</th><th>passLength</th><th>targetX</th><th>targetY</th><th>playAction</th><th>dropbackType</th><th>dropbackDistance</th><th>passLocationType</th><th>timeToThrow</th><th>timeInTackleBox</th><th>timeToSack</th><th>passTippedAtLine</th><th>unblockedPressure</th><th>qbSpike</th><th>qbKneel</th><th>qbSneak</th><th>rushLocationType</th><th>penaltyYards</th><th>prePenaltyYardsGained</th><th>yardsGained</th><th>homeTeamWinProbabilityAdded</th><th>visitorTeamWinProbilityAdded</th><th>expectedPointsAdded</th><th>isDropback</th><th>pff_runConceptPrimary</th><th>pff_runConceptSecondary</th><th>pff_runPassOption</th><th>pff_passCoverage</th><th>pff_manZone</th></tr><tr><td>i64</td><td>i64</td><td>str</td><td>i64</td><td>i64</td><td>i64</td><td>str</td><td>str</td><td>str</td><td>i64</td><td>str</td><td>i64</td><td>i64</td><td>str</td><td>i64</td><td>f64</td><td>f64</td><td>f64</td><td>str</td><td>str</td><td>i64</td><td>str</td><td>i64</td><td>f64</td><td>f64</td><td>bool</td><td>str</td><td>f64</td><td>str</td><td>f64</td><td>f64</td><td>f64</td><td>bool</td><td>bool</td><td>bool</td><td>i64</td><td>bool</td><td>str</td><td>i64</td><td>i64</td><td>i64</td><td>f64</td><td>f64</td><td>f64</td><td>bool</td><td>str</td><td>str</td><td>i64</td><td>str</td><td>str</td></tr></thead><tbody><tr><td>2022102302</td><td>2655</td><td>&quot;(1:54) (Shotgun) J.Burrow pass…</td><td>3</td><td>1</td><td>10</td><td>&quot;CIN&quot;</td><td>&quot;ATL&quot;</td><td>&quot;CIN&quot;</td><td>21</td><td>&quot;01:54&quot;</td><td>35</td><td>17</td><td>&quot;N&quot;</td><td>31</td><td>0.982017</td><td>0.017983</td><td>0.719313</td><td>&quot;EMPTY&quot;</td><td>&quot;3x2&quot;</td><td>10</td><td>&quot;C&quot;</td><td>6</td><td>36.69</td><td>16.51</td><td>false</td><td>&quot;TRADITIONAL&quot;</td><td>2.4</td><td>&quot;INSIDE_BOX&quot;</td><td>2.99</td><td>2.99</td><td>null</td><td>false</td><td>false</td><td>false</td><td>0</td><td>null</td><td>null</td><td>null</td><td>9</td><td>9</td><td>0.004634</td><td>-0.004634</td><td>0.702717</td><td>true</td><td>null</td><td>null</td><td>0</td><td>&quot;Cover-3&quot;</td><td>&quot;Zone&quot;</td></tr><tr><td>2022091809</td><td>3698</td><td>&quot;(2:13) (Shotgun) J.Burrow pass…</td><td>4</td><td>1</td><td>10</td><td>&quot;CIN&quot;</td><td>&quot;DAL&quot;</td><td>&quot;CIN&quot;</td><td>8</td><td>&quot;02:13&quot;</td><td>17</td><td>17</td><td>&quot;N&quot;</td><td>18</td><td>0.424356</td><td>0.575644</td><td>0.607746</td><td>&quot;EMPTY&quot;</td><td>&quot;3x2&quot;</td><td>9</td><td>&quot;C&quot;</td><td>4</td><td>20.83</td><td>20.49</td><td>false</td><td>&quot;TRADITIONAL&quot;</td><td>1.14</td><td>&quot;INSIDE_BOX&quot;</td><td>1.836</td><td>1.836</td><td>null</td><td>false</td><td>false</td><td>false</td><td>0</td><td>null</td><td>null</td><td>null</td><td>4</td><td>4</td><td>0.002847</td><td>-0.002847</td><td>-0.240509</td><td>true</td><td>null</td><td>null</td><td>0</td><td>&quot;Quarters&quot;</td><td>&quot;Zone&quot;</td></tr><tr><td>2022103004</td><td>3146</td><td>&quot;(2:00) (Shotgun) D.Mills pass …</td><td>4</td><td>3</td><td>12</td><td>&quot;HOU&quot;</td><td>&quot;TEN&quot;</td><td>&quot;HOU&quot;</td><td>20</td><td>&quot;02:00&quot;</td><td>3</td><td>17</td><td>&quot;N&quot;</td><td>30</td><td>0.006291</td><td>0.993709</td><td>-0.291485</td><td>&quot;SHOTGUN&quot;</td><td>&quot;2x2&quot;</td><td>12</td><td>&quot;C&quot;</td><td>-4</td><td>26.02</td><td>17.56</td><td>false</td><td>&quot;TRADITIONAL&quot;</td><td>3.2</td><td>&quot;INSIDE_BOX&quot;</td><td>2.236</td><td>2.236</td><td>null</td><td>false</td><td>false</td><td>false</td><td>0</td><td>null</td><td>null</td><td>null</td><td>6</td><td>6</td><td>0.000205</td><td>-0.000205</td><td>-0.21848</td><td>true</td><td>null</td><td>null</td><td>0</td><td>&quot;Quarters&quot;</td><td>&quot;Zone&quot;</td></tr><tr><td>2022110610</td><td>348</td><td>&quot;(9:28) (Shotgun) P.Mahomes pas…</td><td>1</td><td>2</td><td>10</td><td>&quot;KC&quot;</td><td>&quot;TEN&quot;</td><td>&quot;TEN&quot;</td><td>23</td><td>&quot;09:28&quot;</td><td>0</td><td>0</td><td>&quot;N&quot;</td><td>33</td><td>0.884223</td><td>0.115777</td><td>4.249382</td><td>&quot;SHOTGUN&quot;</td><td>&quot;2x2&quot;</td><td>11</td><td>&quot;C&quot;</td><td>-6</td><td>38.95</td><td>14.19</td><td>false</td><td>&quot;TRADITIONAL&quot;</td><td>3.02</td><td>&quot;INSIDE_BOX&quot;</td><td>2.202</td><td>2.202</td><td>null</td><td>false</td><td>false</td><td>false</td><td>0</td><td>null</td><td>null</td><td>null</td><td>4</td><td>4</td><td>-0.001308</td><td>0.001308</td><td>-0.427749</td><td>true</td><td>null</td><td>null</td><td>0</td><td>&quot;Quarters&quot;</td><td>&quot;Zone&quot;</td></tr><tr><td>2022102700</td><td>2799</td><td>&quot;(2:16) (Shotgun) L.Jackson up …</td><td>3</td><td>2</td><td>8</td><td>&quot;BAL&quot;</td><td>&quot;TB&quot;</td><td>&quot;TB&quot;</td><td>27</td><td>&quot;02:16&quot;</td><td>10</td><td>10</td><td>&quot;N&quot;</td><td>37</td><td>0.410371</td><td>0.589629</td><td>3.928413</td><td>&quot;PISTOL&quot;</td><td>&quot;3x1&quot;</td><td>8</td><td>&quot;&quot;</td><td>null</td><td>null</td><td>null</td><td>true</td><td>&quot;DESIGNED_RUN&quot;</td><td>2.03</td><td>null</td><td>null</td><td>null</td><td>null</td><td>null</td><td>null</td><td>null</td><td>0</td><td>false</td><td>&quot;INSIDE_LEFT&quot;</td><td>null</td><td>-1</td><td>-1</td><td>0.027141</td><td>-0.027141</td><td>-0.638912</td><td>false</td><td>&quot;MAN&quot;</td><td>&quot;READ OPTION&quot;</td><td>0</td><td>&quot;Cover-1&quot;</td><td>&quot;Man&quot;</td></tr><tr><td>&hellip;</td><td>&hellip;</td><td>&hellip;</td><td>&hellip;</td><td>&hellip;</td><td>&hellip;</td><td>&hellip;</td><td>&hellip;</td><td>&hellip;</td><td>&hellip;</td><td>&hellip;</td><td>&hellip;</td><td>&hellip;</td><td>&hellip;</td><td>&hellip;</td><td>&hellip;</td><td>&hellip;</td><td>&hellip;</td><td>&hellip;</td><td>&hellip;</td><td>&hellip;</td><td>&hellip;</td><td>&hellip;</td><td>&hellip;</td><td>&hellip;</td><td>&hellip;</td><td>&hellip;</td><td>&hellip;</td><td>&hellip;</td><td>&hellip;</td><td>&hellip;</td><td>&hellip;</td><td>&hellip;</td><td>&hellip;</td><td>&hellip;</td><td>&hellip;</td><td>&hellip;</td><td>&hellip;</td><td>&hellip;</td><td>&hellip;</td><td>&hellip;</td><td>&hellip;</td><td>&hellip;</td><td>&hellip;</td><td>&hellip;</td><td>&hellip;</td><td>&hellip;</td><td>&hellip;</td><td>&hellip;</td><td>&hellip;</td></tr><tr><td>2022110604</td><td>1051</td><td>&quot;(12:49) (Shotgun) T.Lawrence p…</td><td>2</td><td>3</td><td>4</td><td>&quot;JAX&quot;</td><td>&quot;LV&quot;</td><td>&quot;JAX&quot;</td><td>31</td><td>&quot;12:49&quot;</td><td>0</td><td>10</td><td>&quot;N&quot;</td><td>79</td><td>0.207444</td><td>0.792556</td><td>0.702276</td><td>&quot;SHOTGUN&quot;</td><td>&quot;2x2&quot;</td><td>9</td><td>&quot;I&quot;</td><td>6</td><td>72.69</td><td>39.92</td><td>false</td><td>&quot;TRADITIONAL&quot;</td><td>1.67</td><td>&quot;INSIDE_BOX&quot;</td><td>1.86</td><td>1.86</td><td>null</td><td>false</td><td>false</td><td>false</td><td>0</td><td>null</td><td>null</td><td>null</td><td>0</td><td>0</td><td>-0.024741</td><td>0.024741</td><td>-1.391687</td><td>true</td><td>null</td><td>null</td><td>0</td><td>&quot;Cover-2&quot;</td><td>&quot;Zone&quot;</td></tr><tr><td>2022103005</td><td>3492</td><td>&quot;(12:32) (Shotgun) K.Cousins pa…</td><td>4</td><td>1</td><td>10</td><td>&quot;MIN&quot;</td><td>&quot;ARI&quot;</td><td>&quot;MIN&quot;</td><td>25</td><td>&quot;12:32&quot;</td><td>28</td><td>26</td><td>&quot;N&quot;</td><td>35</td><td>0.724565</td><td>0.275435</td><td>1.600202</td><td>&quot;SHOTGUN&quot;</td><td>&quot;2x2&quot;</td><td>12</td><td>&quot;I&quot;</td><td>20</td><td>null</td><td>null</td><td>false</td><td>&quot;TRADITIONAL&quot;</td><td>2.24</td><td>&quot;INSIDE_BOX&quot;</td><td>3.136</td><td>3.136</td><td>null</td><td>false</td><td>false</td><td>false</td><td>0</td><td>null</td><td>null</td><td>null</td><td>0</td><td>0</td><td>-0.02658</td><td>0.02658</td><td>-0.503208</td><td>true</td><td>null</td><td>null</td><td>0</td><td>&quot;Cover-3&quot;</td><td>&quot;Zone&quot;</td></tr><tr><td>2022092502</td><td>2337</td><td>&quot;(9:59) (Shotgun) P.Mahomes scr…</td><td>3</td><td>1</td><td>10</td><td>&quot;KC&quot;</td><td>&quot;IND&quot;</td><td>&quot;IND&quot;</td><td>13</td><td>&quot;09:59&quot;</td><td>10</td><td>14</td><td>&quot;N&quot;</td><td>97</td><td>0.165774</td><td>0.834226</td><td>5.127508</td><td>&quot;SHOTGUN&quot;</td><td>&quot;2x2&quot;</td><td>6</td><td>&quot;R&quot;</td><td>null</td><td>null</td><td>null</td><td>false</td><td>&quot;SCRAMBLE&quot;</td><td>3.28</td><td>null</td><td>null</td><td>null</td><td>null</td><td>null</td><td>false</td><td>null</td><td>0</td><td>false</td><td>&quot;INSIDE_RIGHT&quot;</td><td>null</td><td>10</td><td>10</td><td>-0.01379</td><td>0.01379</td><td>1.073898</td><td>true</td><td>null</td><td>null</td><td>0</td><td>&quot;Quarters&quot;</td><td>&quot;Zone&quot;</td></tr><tr><td>2022091809</td><td>719</td><td>&quot;(:45) C.Rush pass incomplete d…</td><td>1</td><td>1</td><td>10</td><td>&quot;DAL&quot;</td><td>&quot;CIN&quot;</td><td>&quot;CIN&quot;</td><td>47</td><td>&quot;00:45&quot;</td><td>7</td><td>3</td><td>&quot;N&quot;</td><td>57</td><td>0.519735</td><td>0.480265</td><td>2.926312</td><td>&quot;SINGLEBACK&quot;</td><td>&quot;2x2&quot;</td><td>3</td><td>&quot;I&quot;</td><td>38</td><td>21.89</td><td>49.48</td><td>true</td><td>&quot;TRADITIONAL&quot;</td><td>6.64</td><td>&quot;INSIDE_BOX&quot;</td><td>3.07</td><td>3.07</td><td>null</td><td>false</td><td>false</td><td>false</td><td>0</td><td>null</td><td>null</td><td>null</td><td>0</td><td>0</td><td>-0.011561</td><td>0.011561</td><td>-0.522397</td><td>true</td><td>&quot;UNDEFINED&quot;</td><td>null</td><td>0</td><td>&quot;Cover-3&quot;</td><td>&quot;Zone&quot;</td></tr><tr><td>2022101602</td><td>3046</td><td>&quot;(15:00) Br.Hall up the middle …</td><td>4</td><td>1</td><td>10</td><td>&quot;NYJ&quot;</td><td>&quot;GB&quot;</td><td>&quot;GB&quot;</td><td>34</td><td>&quot;15:00&quot;</td><td>10</td><td>17</td><td>&quot;N&quot;</td><td>44</td><td>0.139006</td><td>0.860994</td><td>3.844564</td><td>&quot;SINGLEBACK&quot;</td><td>&quot;3x1&quot;</td><td>13</td><td>&quot;&quot;</td><td>null</td><td>null</td><td>null</td><td>false</td><td>null</td><td>null</td><td>null</td><td>null</td><td>null</td><td>null</td><td>null</td><td>null</td><td>null</td><td>0</td><td>false</td><td>&quot;INSIDE_LEFT&quot;</td><td>null</td><td>34</td><td>34</td><td>-0.051177</td><td>0.051177</td><td>3.155436</td><td>false</td><td>&quot;COUNTER&quot;</td><td>&quot;MISDIRECTION&quot;</td><td>0</td><td>&quot;Cover-3&quot;</td><td>&quot;Zone&quot;</td></tr></tbody></table></div>"
      ],
      "text/plain": [
       "shape: (16_124, 50)\n",
       "┌────────────┬────────┬────────────┬─────────┬───┬────────────┬────────────┬───────────┬───────────┐\n",
       "│ gameId     ┆ playId ┆ playDescri ┆ quarter ┆ … ┆ pff_runCon ┆ pff_runPas ┆ pff_passC ┆ pff_manZo │\n",
       "│ ---        ┆ ---    ┆ ption      ┆ ---     ┆   ┆ ceptSecond ┆ sOption    ┆ overage   ┆ ne        │\n",
       "│ i64        ┆ i64    ┆ ---        ┆ i64     ┆   ┆ ary        ┆ ---        ┆ ---       ┆ ---       │\n",
       "│            ┆        ┆ str        ┆         ┆   ┆ ---        ┆ i64        ┆ str       ┆ str       │\n",
       "│            ┆        ┆            ┆         ┆   ┆ str        ┆            ┆           ┆           │\n",
       "╞════════════╪════════╪════════════╪═════════╪═══╪════════════╪════════════╪═══════════╪═══════════╡\n",
       "│ 2022102302 ┆ 2655   ┆ (1:54)     ┆ 3       ┆ … ┆ null       ┆ 0          ┆ Cover-3   ┆ Zone      │\n",
       "│            ┆        ┆ (Shotgun)  ┆         ┆   ┆            ┆            ┆           ┆           │\n",
       "│            ┆        ┆ J.Burrow   ┆         ┆   ┆            ┆            ┆           ┆           │\n",
       "│            ┆        ┆ pass…      ┆         ┆   ┆            ┆            ┆           ┆           │\n",
       "│ 2022091809 ┆ 3698   ┆ (2:13)     ┆ 4       ┆ … ┆ null       ┆ 0          ┆ Quarters  ┆ Zone      │\n",
       "│            ┆        ┆ (Shotgun)  ┆         ┆   ┆            ┆            ┆           ┆           │\n",
       "│            ┆        ┆ J.Burrow   ┆         ┆   ┆            ┆            ┆           ┆           │\n",
       "│            ┆        ┆ pass…      ┆         ┆   ┆            ┆            ┆           ┆           │\n",
       "│ 2022103004 ┆ 3146   ┆ (2:00)     ┆ 4       ┆ … ┆ null       ┆ 0          ┆ Quarters  ┆ Zone      │\n",
       "│            ┆        ┆ (Shotgun)  ┆         ┆   ┆            ┆            ┆           ┆           │\n",
       "│            ┆        ┆ D.Mills    ┆         ┆   ┆            ┆            ┆           ┆           │\n",
       "│            ┆        ┆ pass …     ┆         ┆   ┆            ┆            ┆           ┆           │\n",
       "│ 2022110610 ┆ 348    ┆ (9:28)     ┆ 1       ┆ … ┆ null       ┆ 0          ┆ Quarters  ┆ Zone      │\n",
       "│            ┆        ┆ (Shotgun)  ┆         ┆   ┆            ┆            ┆           ┆           │\n",
       "│            ┆        ┆ P.Mahomes  ┆         ┆   ┆            ┆            ┆           ┆           │\n",
       "│            ┆        ┆ pas…       ┆         ┆   ┆            ┆            ┆           ┆           │\n",
       "│ 2022102700 ┆ 2799   ┆ (2:16)     ┆ 3       ┆ … ┆ READ       ┆ 0          ┆ Cover-1   ┆ Man       │\n",
       "│            ┆        ┆ (Shotgun)  ┆         ┆   ┆ OPTION     ┆            ┆           ┆           │\n",
       "│            ┆        ┆ L.Jackson  ┆         ┆   ┆            ┆            ┆           ┆           │\n",
       "│            ┆        ┆ up …       ┆         ┆   ┆            ┆            ┆           ┆           │\n",
       "│ …          ┆ …      ┆ …          ┆ …       ┆ … ┆ …          ┆ …          ┆ …         ┆ …         │\n",
       "│ 2022110604 ┆ 1051   ┆ (12:49)    ┆ 2       ┆ … ┆ null       ┆ 0          ┆ Cover-2   ┆ Zone      │\n",
       "│            ┆        ┆ (Shotgun)  ┆         ┆   ┆            ┆            ┆           ┆           │\n",
       "│            ┆        ┆ T.Lawrence ┆         ┆   ┆            ┆            ┆           ┆           │\n",
       "│            ┆        ┆ p…         ┆         ┆   ┆            ┆            ┆           ┆           │\n",
       "│ 2022103005 ┆ 3492   ┆ (12:32)    ┆ 4       ┆ … ┆ null       ┆ 0          ┆ Cover-3   ┆ Zone      │\n",
       "│            ┆        ┆ (Shotgun)  ┆         ┆   ┆            ┆            ┆           ┆           │\n",
       "│            ┆        ┆ K.Cousins  ┆         ┆   ┆            ┆            ┆           ┆           │\n",
       "│            ┆        ┆ pa…        ┆         ┆   ┆            ┆            ┆           ┆           │\n",
       "│ 2022092502 ┆ 2337   ┆ (9:59)     ┆ 3       ┆ … ┆ null       ┆ 0          ┆ Quarters  ┆ Zone      │\n",
       "│            ┆        ┆ (Shotgun)  ┆         ┆   ┆            ┆            ┆           ┆           │\n",
       "│            ┆        ┆ P.Mahomes  ┆         ┆   ┆            ┆            ┆           ┆           │\n",
       "│            ┆        ┆ scr…       ┆         ┆   ┆            ┆            ┆           ┆           │\n",
       "│ 2022091809 ┆ 719    ┆ (:45)      ┆ 1       ┆ … ┆ null       ┆ 0          ┆ Cover-3   ┆ Zone      │\n",
       "│            ┆        ┆ C.Rush     ┆         ┆   ┆            ┆            ┆           ┆           │\n",
       "│            ┆        ┆ pass       ┆         ┆   ┆            ┆            ┆           ┆           │\n",
       "│            ┆        ┆ incomplete ┆         ┆   ┆            ┆            ┆           ┆           │\n",
       "│            ┆        ┆ d…         ┆         ┆   ┆            ┆            ┆           ┆           │\n",
       "│ 2022101602 ┆ 3046   ┆ (15:00)    ┆ 4       ┆ … ┆ MISDIRECTI ┆ 0          ┆ Cover-3   ┆ Zone      │\n",
       "│            ┆        ┆ Br.Hall up ┆         ┆   ┆ ON         ┆            ┆           ┆           │\n",
       "│            ┆        ┆ the middle ┆         ┆   ┆            ┆            ┆           ┆           │\n",
       "│            ┆        ┆ …          ┆         ┆   ┆            ┆            ┆           ┆           │\n",
       "└────────────┴────────┴────────────┴─────────┴───┴────────────┴────────────┴───────────┴───────────┘"
      ]
     },
     "execution_count": 3,
     "metadata": {},
     "output_type": "execute_result"
    }
   ],
   "source": [
    "plays"
   ]
  },
  {
   "cell_type": "code",
   "execution_count": 4,
   "metadata": {},
   "outputs": [
    {
     "data": {
      "text/html": [
       "<div><style>\n",
       ".dataframe > thead > tr,\n",
       ".dataframe > tbody > tr {\n",
       "  text-align: right;\n",
       "  white-space: pre-wrap;\n",
       "}\n",
       "</style>\n",
       "<small>shape: (8,)</small><table border=\"1\" class=\"dataframe\"><thead><tr><th>offenseFormation</th></tr><tr><td>str</td></tr></thead><tbody><tr><td>&quot;PISTOL&quot;</td></tr><tr><td>&quot;SINGLEBACK&quot;</td></tr><tr><td>&quot;SHOTGUN&quot;</td></tr><tr><td>&quot;JUMBO&quot;</td></tr><tr><td>&quot;I_FORM&quot;</td></tr><tr><td>null</td></tr><tr><td>&quot;EMPTY&quot;</td></tr><tr><td>&quot;WILDCAT&quot;</td></tr></tbody></table></div>"
      ],
      "text/plain": [
       "shape: (8,)\n",
       "Series: 'offenseFormation' [str]\n",
       "[\n",
       "\t\"PISTOL\"\n",
       "\t\"SINGLEBACK\"\n",
       "\t\"SHOTGUN\"\n",
       "\t\"JUMBO\"\n",
       "\t\"I_FORM\"\n",
       "\tnull\n",
       "\t\"EMPTY\"\n",
       "\t\"WILDCAT\"\n",
       "]"
      ]
     },
     "execution_count": 4,
     "metadata": {},
     "output_type": "execute_result"
    }
   ],
   "source": [
    "plays['offenseFormation'].unique()"
   ]
  },
  {
   "cell_type": "code",
   "execution_count": 5,
   "metadata": {},
   "outputs": [
    {
     "data": {
      "text/html": [
       "<div><style>\n",
       ".dataframe > thead > tr,\n",
       ".dataframe > tbody > tr {\n",
       "  text-align: right;\n",
       "  white-space: pre-wrap;\n",
       "}\n",
       "</style>\n",
       "<small>shape: (5,)</small><table border=\"1\" class=\"dataframe\"><thead><tr><th>passLocationType</th></tr><tr><td>str</td></tr></thead><tbody><tr><td>null</td></tr><tr><td>&quot;OUTSIDE_RIGHT&quot;</td></tr><tr><td>&quot;UNKNOWN&quot;</td></tr><tr><td>&quot;INSIDE_BOX&quot;</td></tr><tr><td>&quot;OUTSIDE_LEFT&quot;</td></tr></tbody></table></div>"
      ],
      "text/plain": [
       "shape: (5,)\n",
       "Series: 'passLocationType' [str]\n",
       "[\n",
       "\tnull\n",
       "\t\"OUTSIDE_RIGHT\"\n",
       "\t\"UNKNOWN\"\n",
       "\t\"INSIDE_BOX\"\n",
       "\t\"OUTSIDE_LEFT\"\n",
       "]"
      ]
     },
     "execution_count": 5,
     "metadata": {},
     "output_type": "execute_result"
    }
   ],
   "source": [
    "plays['passLocationType'].unique()"
   ]
  },
  {
   "cell_type": "code",
   "execution_count": null,
   "metadata": {},
   "outputs": [
    {
     "data": {
      "text/html": [
       "<div><style>\n",
       ".dataframe > thead > tr,\n",
       ".dataframe > tbody > tr {\n",
       "  text-align: right;\n",
       "  white-space: pre-wrap;\n",
       "}\n",
       "</style>\n",
       "<small>shape: (10,)</small><table border=\"1\" class=\"dataframe\"><thead><tr><th>dropbackType</th></tr><tr><td>str</td></tr></thead><tbody><tr><td>&quot;UNKNOWN&quot;</td></tr><tr><td>&quot;SCRAMBLE&quot;</td></tr><tr><td>&quot;SCRAMBLE_ROLLOUT_LEFT&quot;</td></tr><tr><td>&quot;TRADITIONAL&quot;</td></tr><tr><td>&quot;QB_SNEAK&quot;</td></tr><tr><td>null</td></tr><tr><td>&quot;DESIGNED_ROLLOUT_RIGHT&quot;</td></tr><tr><td>&quot;SCRAMBLE_ROLLOUT_RIGHT&quot;</td></tr><tr><td>&quot;DESIGNED_RUN&quot;</td></tr><tr><td>&quot;DESIGNED_ROLLOUT_LEFT&quot;</td></tr></tbody></table></div>"
      ],
      "text/plain": [
       "shape: (10,)\n",
       "Series: 'dropbackType' [str]\n",
       "[\n",
       "\t\"UNKNOWN\"\n",
       "\t\"SCRAMBLE\"\n",
       "\t\"SCRAMBLE_ROLLOUT_LEFT\"\n",
       "\t\"TRADITIONAL\"\n",
       "\t\"QB_SNEAK\"\n",
       "\tnull\n",
       "\t\"DESIGNED_ROLLOUT_RIGHT\"\n",
       "\t\"SCRAMBLE_ROLLOUT_RIGHT\"\n",
       "\t\"DESIGNED_RUN\"\n",
       "\t\"DESIGNED_ROLLOUT_LEFT\"\n",
       "]"
      ]
     },
     "execution_count": 6,
     "metadata": {},
     "output_type": "execute_result"
    }
   ],
   "source": [
    "plays['dropbackType'].unique()"
   ]
  },
  {
   "cell_type": "markdown",
   "metadata": {},
   "source": [
    "# BQ: Can we predict the direction of the ball post-snap based on the offence's formation?"
   ]
  },
  {
   "cell_type": "markdown",
   "metadata": {},
   "source": [
    "## What do we need "
   ]
  }
 ],
 "metadata": {
  "kernelspec": {
   "display_name": "Python 3",
   "language": "python",
   "name": "python3"
  },
  "language_info": {
   "codemirror_mode": {
    "name": "ipython",
    "version": 3
   },
   "file_extension": ".py",
   "mimetype": "text/x-python",
   "name": "python",
   "nbconvert_exporter": "python",
   "pygments_lexer": "ipython3",
   "version": "3.10.1"
  }
 },
 "nbformat": 4,
 "nbformat_minor": 2
}
