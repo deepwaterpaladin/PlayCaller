{
 "cells": [
  {
   "cell_type": "code",
   "execution_count": 1,
   "metadata": {},
   "outputs": [],
   "source": [
    "import polars as pl\n",
    "from sklearn.model_selection import train_test_split\n",
    "from sklearn.ensemble import RandomForestClassifier\n",
    "from sklearn.metrics import classification_report\n",
    "import glob\n"
   ]
  },
  {
   "cell_type": "markdown",
   "metadata": {},
   "source": [
    "#### Load Dataframes"
   ]
  },
  {
   "cell_type": "code",
   "execution_count": 2,
   "metadata": {},
   "outputs": [],
   "source": [
    "player_plays = pl.read_csv(\"data/player_play.csv\", null_values=[\"NA\"])\n",
    "games = pl.read_csv(\"data/games.csv\", null_values=[\"NA\"])\n",
    "plays = pl.read_csv(\"data/plays.csv\", null_values=[\"NA\"])\n",
    "players = pl.read_csv(\"data/players.csv\", null_values=[\"NA\"])"
   ]
  },
  {
   "cell_type": "code",
   "execution_count": 3,
   "metadata": {},
   "outputs": [],
   "source": [
    "tracking_files = glob.glob(\"data/tracking_week_*.csv\")\n",
    "tracking_data = pl.concat([pl.read_csv(f, null_values= [\"NA\"]) for f in tracking_files])"
   ]
  },
  {
   "cell_type": "code",
   "execution_count": null,
   "metadata": {},
   "outputs": [],
   "source": [
    "tfl = player_plays.filter(\n",
    "    (pl.col(\"tackleForALoss\") == True)\n",
    ")\n",
    "tfl"
   ]
  },
  {
   "cell_type": "code",
   "execution_count": 30,
   "metadata": {},
   "outputs": [],
   "source": [
    "# Filter for plays that are relevant to quarterback scrambling (e.g., dropbacks with defensive pressures)\n",
    "scramble_plays = player_plays.filter(\n",
    "    (pl.col(\"hadDropback\") == True)\n",
    ")"
   ]
  },
  {
   "cell_type": "code",
   "execution_count": 38,
   "metadata": {},
   "outputs": [],
   "source": [
    "inMotionAtBallSnapDf = player_plays.filter(\n",
    "    (pl.col(\"inMotionAtBallSnap\") == \"TRUE\")\n",
    ")"
   ]
  },
  {
   "cell_type": "code",
   "execution_count": null,
   "metadata": {},
   "outputs": [],
   "source": [
    "inMotionAtBallSnapDf"
   ]
  },
  {
   "cell_type": "code",
   "execution_count": null,
   "metadata": {},
   "outputs": [],
   "source": [
    "scramble_plays"
   ]
  },
  {
   "cell_type": "code",
   "execution_count": 11,
   "metadata": {},
   "outputs": [],
   "source": [
    "# Load and process tracking data for all weeks\n",
    "tracking_files = glob.glob(\"data/tracking_week_*.csv\")\n",
    "tracking_data = []\n",
    "for file in tracking_files:\n",
    "    week_data = pl.read_csv(\n",
    "        file,\n",
    "        columns=[\n",
    "            \"gameId\", \"playId\", \"nflId\", \"displayName\", \"frameId\", \"frameType\",\n",
    "            \"time\", \"jerseyNumber\", \"club\", \"playDirection\", \"x\", \"y\", \"s\", \"a\",\n",
    "            \"dis\", \"o\", \"dir\", \"event\"\n",
    "        ],\n",
    "        null_values= [\"NA\"]\n",
    "    )\n",
    "    # Feature engineering: Aggregate relevant tracking metrics per play\n",
    "    week_data_grouped = (\n",
    "        week_data.group_by([\"gameId\", \"playId\"])\n",
    "        .agg([\n",
    "            pl.col(\"s\").mean().alias(\"avg_speed\"),\n",
    "            pl.col(\"a\").mean().alias(\"avg_acceleration\"),\n",
    "            pl.col(\"o\").mean().alias(\"avg_orientation\"),\n",
    "            pl.col(\"dir\").mean().alias(\"avg_direction\"),\n",
    "            (pl.col(\"displayName\") == \"QB\").sum().alias(\"qb_in_play\")\n",
    "        ])\n",
    "    )\n",
    "    tracking_data.append(week_data_grouped)\n",
    "\n",
    "# Concatenate all tracking data for each week\n",
    "all_tracking_data = pl.concat(tracking_data)"
   ]
  }
 ],
 "metadata": {
  "kernelspec": {
   "display_name": "Python 3",
   "language": "python",
   "name": "python3"
  },
  "language_info": {
   "codemirror_mode": {
    "name": "ipython",
    "version": 3
   },
   "file_extension": ".py",
   "mimetype": "text/x-python",
   "name": "python",
   "nbconvert_exporter": "python",
   "pygments_lexer": "ipython3",
   "version": "3.9.7"
  }
 },
 "nbformat": 4,
 "nbformat_minor": 2
}
