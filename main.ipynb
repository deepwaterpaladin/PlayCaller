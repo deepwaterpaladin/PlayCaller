{
 "cells": [
  {
   "cell_type": "markdown",
   "metadata": {},
   "source": [
    "### Setup"
   ]
  },
  {
   "cell_type": "code",
   "execution_count": 1,
   "metadata": {},
   "outputs": [],
   "source": [
    "import polars as pl\n",
    "from sklearn.model_selection import train_test_split\n",
    "from sklearn.ensemble import RandomForestClassifier\n",
    "from sklearn.metrics import classification_report\n",
    "import glob"
   ]
  },
  {
   "cell_type": "code",
   "execution_count": 2,
   "metadata": {},
   "outputs": [
    {
     "data": {
      "text/plain": [
       "polars.config.Config"
      ]
     },
     "execution_count": 2,
     "metadata": {},
     "output_type": "execute_result"
    }
   ],
   "source": [
    "pl.Config.set_tbl_rows(100)"
   ]
  },
  {
   "cell_type": "markdown",
   "metadata": {},
   "source": [
    "### Load Dataframes"
   ]
  },
  {
   "cell_type": "code",
   "execution_count": 3,
   "metadata": {},
   "outputs": [],
   "source": [
    "player_plays = pl.read_csv(\"data/player_play.csv\", null_values=[\"NA\"])\n",
    "games = pl.read_csv(\"data/games.csv\", null_values=[\"NA\"])\n",
    "plays = pl.read_csv(\"data/plays.csv\", null_values=[\"NA\"])\n",
    "players = pl.read_csv(\"data/players.csv\", null_values=[\"NA\"])"
   ]
  },
  {
   "cell_type": "code",
   "execution_count": 4,
   "metadata": {},
   "outputs": [],
   "source": [
    "tracking_files = glob.glob(\"data/tracking_week_*.csv\")\n",
    "tracking_data = pl.concat([pl.read_csv(f, null_values= [\"NA\"]) for f in tracking_files])"
   ]
  },
  {
   "cell_type": "markdown",
   "metadata": {},
   "source": [
    "### Exploration"
   ]
  },
  {
   "cell_type": "code",
   "execution_count": null,
   "metadata": {},
   "outputs": [],
   "source": [
    "player_plays.head(3)"
   ]
  },
  {
   "cell_type": "code",
   "execution_count": null,
   "metadata": {},
   "outputs": [],
   "source": [
    "player_plays.columns"
   ]
  },
  {
   "cell_type": "code",
   "execution_count": null,
   "metadata": {},
   "outputs": [],
   "source": [
    "games.head(2)"
   ]
  },
  {
   "cell_type": "code",
   "execution_count": null,
   "metadata": {},
   "outputs": [],
   "source": [
    "games.columns"
   ]
  },
  {
   "cell_type": "code",
   "execution_count": null,
   "metadata": {},
   "outputs": [],
   "source": [
    "players.head(3)"
   ]
  },
  {
   "cell_type": "code",
   "execution_count": null,
   "metadata": {},
   "outputs": [],
   "source": [
    "players[\"position\"].unique()"
   ]
  },
  {
   "cell_type": "code",
   "execution_count": null,
   "metadata": {},
   "outputs": [],
   "source": [
    "plays.head(3)"
   ]
  },
  {
   "cell_type": "code",
   "execution_count": null,
   "metadata": {},
   "outputs": [],
   "source": [
    "plays.columns"
   ]
  },
  {
   "cell_type": "code",
   "execution_count": null,
   "metadata": {},
   "outputs": [],
   "source": [
    "tracking_data.head(3)"
   ]
  },
  {
   "cell_type": "code",
   "execution_count": null,
   "metadata": {},
   "outputs": [],
   "source": [
    "tracking_data.columns"
   ]
  },
  {
   "cell_type": "markdown",
   "metadata": {},
   "source": [
    "### Feature Engineering"
   ]
  },
  {
   "cell_type": "code",
   "execution_count": 5,
   "metadata": {},
   "outputs": [],
   "source": [
    "# Rename columns in `tracking_data`\n",
    "tracking_data = tracking_data.rename({\"s\":\"yardsPerSecond\", \"a\":\"acceleration\",\"o\":\"orientation\"})"
   ]
  },
  {
   "cell_type": "code",
   "execution_count": 29,
   "metadata": {},
   "outputs": [
    {
     "data": {
      "text/html": [
       "<div><style>\n",
       ".dataframe > thead > tr,\n",
       ".dataframe > tbody > tr {\n",
       "  text-align: right;\n",
       "  white-space: pre-wrap;\n",
       "}\n",
       "</style>\n",
       "<small>shape: (3,)</small><table border=\"1\" class=\"dataframe\"><thead><tr><th>frameType</th></tr><tr><td>str</td></tr></thead><tbody><tr><td>&quot;BEFORE_SNAP&quot;</td></tr><tr><td>&quot;AFTER_SNAP&quot;</td></tr><tr><td>&quot;SNAP&quot;</td></tr></tbody></table></div>"
      ],
      "text/plain": [
       "shape: (3,)\n",
       "Series: 'frameType' [str]\n",
       "[\n",
       "\t\"BEFORE_SNAP\"\n",
       "\t\"AFTER_SNAP\"\n",
       "\t\"SNAP\"\n",
       "]"
      ]
     },
     "execution_count": 29,
     "metadata": {},
     "output_type": "execute_result"
    }
   ],
   "source": [
    "tracking_data['frameType'].unique()"
   ]
  },
  {
   "cell_type": "markdown",
   "metadata": {},
   "source": [
    "##### Presnap movements "
   ]
  },
  {
   "cell_type": "code",
   "execution_count": 6,
   "metadata": {},
   "outputs": [],
   "source": [
    "presnap_movements = tracking_data.filter(\n",
    "    (pl.col(\"frameType\") == \"BEFORE_SNAP\")\n",
    ")"
   ]
  },
  {
   "cell_type": "code",
   "execution_count": 48,
   "metadata": {},
   "outputs": [],
   "source": [
    "df = tracking_data.filter(\n",
    "    (pl.col(\"gameId\") == 2022101000) & \n",
    "    (pl.col(\"event\") == \"man_in_motion\")\n",
    ")"
   ]
  },
  {
   "cell_type": "code",
   "execution_count": 12,
   "metadata": {},
   "outputs": [],
   "source": [
    "snap = tracking_data.filter(\n",
    "    (pl.col(\"gameId\") == 2022101000) &\n",
    "    (pl.col(\"frameType\") == \"SNAP\")\n",
    ")"
   ]
  },
  {
   "cell_type": "code",
   "execution_count": 13,
   "metadata": {},
   "outputs": [],
   "source": [
    "unique_plays = snap[\"playId\"].unique()"
   ]
  },
  {
   "cell_type": "code",
   "execution_count": null,
   "metadata": {},
   "outputs": [],
   "source": [
    "unique_plays"
   ]
  },
  {
   "cell_type": "code",
   "execution_count": 22,
   "metadata": {},
   "outputs": [],
   "source": [
    "df = df.filter(\n",
    "    (pl.col(\"playId\") == 57)\n",
    ")"
   ]
  },
  {
   "cell_type": "code",
   "execution_count": null,
   "metadata": {},
   "outputs": [],
   "source": [
    "df"
   ]
  },
  {
   "cell_type": "code",
   "execution_count": 24,
   "metadata": {},
   "outputs": [],
   "source": [
    "snap = snap.filter(\n",
    "    (pl.col(\"playId\") == 57)\n",
    ")"
   ]
  },
  {
   "cell_type": "code",
   "execution_count": null,
   "metadata": {},
   "outputs": [],
   "source": [
    "snap"
   ]
  },
  {
   "cell_type": "markdown",
   "metadata": {},
   "source": [
    "#### Game Analysis"
   ]
  },
  {
   "cell_type": "code",
   "execution_count": 48,
   "metadata": {},
   "outputs": [],
   "source": [
    "def calculate_presnap_movement(presnap:pl.DataFrame, snap:pl.DataFrame) -> pl.DataFrame:\n",
    "    merged = presnap.join(snap, on='displayName', suffix='_snap')\n",
    "    merged = merged.with_columns(\n",
    "     (pl.col(\"x\")-pl.col(\"x_snap\")).alias(\"x_dif\"),\n",
    "     (pl.col(\"y\")-pl.col(\"y_snap\")).alias(\"y_dif\")\n",
    "    ).sort((pl.col(\"y_dif\")), descending=True)\n",
    "    return merged\n",
    "\n",
    "def determine_sides(game_df:pl.DataFrame, players_df:pl.DataFrame) -> pl.DataFrame:\n",
    "    offensive_positions = {\"QB\", \"RB\", \"T\", \"FB\", \"G\", \"C\", \"WR\", \"TE\"}\n",
    "    game_with_positions = game_df.join(players_df.select([\"displayName\", \"position\"]), on=\"displayName\")\n",
    "    game_with_sides = game_with_positions.with_columns(\n",
    "        (pl.col(\"position\").is_in(offensive_positions)).alias(\"isOffence\")\n",
    "    )\n",
    "    return game_with_sides\n",
    "\n",
    "\n",
    "def analyze_man_in_motion(game_df:pl.DataFrame, players_df:pl.DataFrame) -> None:\n",
    "    mim_game_df = game_df.filter(\n",
    "        (pl.col(\"event\") == \"man_in_motion\")\n",
    "    )\n",
    "    plays = mim_game_df.group_by(\"playId\")\n",
    "    for play_id, play_df in plays:\n",
    "        pre = play_df.filter(\n",
    "            (pl.col(\"frameType\") == \"BEFORE_SNAP\")\n",
    "        )\n",
    "        snap = game_df.filter(\n",
    "            (pl.col(\"frameType\") == \"SNAP\") &\n",
    "            (pl.col(\"playId\") == play_id[0])\n",
    "        )\n",
    "        play_side_df = determine_sides(pre, players_df)\n",
    "        play_df = calculate_presnap_movement(play_side_df, snap)\n",
    "        try:\n",
    "            off = play_df.filter(\n",
    "                (pl.col(\"isOffence\") == True)\n",
    "            ).sort((pl.col(\"y_dif\")), descending=True)\n",
    "            player= off[0]['displayName'][0]\n",
    "            dis = round(off[0]['y_dif'][0], 2)\n",
    "            if dis < 1:\n",
    "                continue\n",
    "            dir = off[0]['playDirection'][0]\n",
    "            pos = off[0]['position'][0]\n",
    "            print(f\"Processed playId: {play_id[0]} -- {pos} {player} moved {dis} yards to the {dir}.\")\n",
    "        except:\n",
    "            continue"
   ]
  },
  {
   "cell_type": "code",
   "execution_count": 7,
   "metadata": {},
   "outputs": [
    {
     "data": {
      "text/html": [
       "<div><style>\n",
       ".dataframe > thead > tr,\n",
       ".dataframe > tbody > tr {\n",
       "  text-align: right;\n",
       "  white-space: pre-wrap;\n",
       "}\n",
       "</style>\n",
       "<small>shape: (495_650, 18)</small><table border=\"1\" class=\"dataframe\"><thead><tr><th>gameId</th><th>playId</th><th>nflId</th><th>displayName</th><th>frameId</th><th>frameType</th><th>time</th><th>jerseyNumber</th><th>club</th><th>playDirection</th><th>x</th><th>y</th><th>yardsPerSecond</th><th>acceleration</th><th>dis</th><th>orientation</th><th>dir</th><th>event</th></tr><tr><td>i64</td><td>i64</td><td>i64</td><td>str</td><td>i64</td><td>str</td><td>str</td><td>i64</td><td>str</td><td>str</td><td>f64</td><td>f64</td><td>f64</td><td>f64</td><td>f64</td><td>f64</td><td>f64</td><td>str</td></tr></thead><tbody><tr><td>2022101000</td><td>57</td><td>41265</td><td>&quot;Derek Carr&quot;</td><td>1</td><td>&quot;BEFORE_SNAP&quot;</td><td>&quot;2022-10-11 00:15:50.4&quot;</td><td>4</td><td>&quot;LV&quot;</td><td>&quot;right&quot;</td><td>30.79</td><td>27.19</td><td>0.01</td><td>0.02</td><td>0.05</td><td>160.57</td><td>89.24</td><td>&quot;huddle_break_offense&quot;</td></tr><tr><td>2022101000</td><td>57</td><td>41265</td><td>&quot;Derek Carr&quot;</td><td>2</td><td>&quot;BEFORE_SNAP&quot;</td><td>&quot;2022-10-11 00:15:50.5&quot;</td><td>4</td><td>&quot;LV&quot;</td><td>&quot;right&quot;</td><td>30.82</td><td>27.18</td><td>0.06</td><td>1.12</td><td>0.03</td><td>139.97</td><td>108.86</td><td>null</td></tr><tr><td>2022101000</td><td>57</td><td>41265</td><td>&quot;Derek Carr&quot;</td><td>3</td><td>&quot;BEFORE_SNAP&quot;</td><td>&quot;2022-10-11 00:15:50.6&quot;</td><td>4</td><td>&quot;LV&quot;</td><td>&quot;right&quot;</td><td>30.83</td><td>27.18</td><td>0.28</td><td>2.37</td><td>0.02</td><td>130.14</td><td>112.37</td><td>null</td></tr><tr><td>2022101000</td><td>57</td><td>41265</td><td>&quot;Derek Carr&quot;</td><td>4</td><td>&quot;BEFORE_SNAP&quot;</td><td>&quot;2022-10-11 00:15:50.7&quot;</td><td>4</td><td>&quot;LV&quot;</td><td>&quot;right&quot;</td><td>30.88</td><td>27.16</td><td>0.61</td><td>3.0</td><td>0.05</td><td>127.5</td><td>110.94</td><td>null</td></tr><tr><td>2022101000</td><td>57</td><td>41265</td><td>&quot;Derek Carr&quot;</td><td>5</td><td>&quot;BEFORE_SNAP&quot;</td><td>&quot;2022-10-11 00:15:50.8&quot;</td><td>4</td><td>&quot;LV&quot;</td><td>&quot;right&quot;</td><td>30.96</td><td>27.14</td><td>0.99</td><td>3.37</td><td>0.09</td><td>124.22</td><td>109.28</td><td>null</td></tr><tr><td>2022101000</td><td>57</td><td>41265</td><td>&quot;Derek Carr&quot;</td><td>6</td><td>&quot;BEFORE_SNAP&quot;</td><td>&quot;2022-10-11 00:15:50.9&quot;</td><td>4</td><td>&quot;LV&quot;</td><td>&quot;right&quot;</td><td>31.07</td><td>27.1</td><td>1.29</td><td>2.98</td><td>0.11</td><td>122.66</td><td>108.86</td><td>null</td></tr><tr><td>2022101000</td><td>57</td><td>41265</td><td>&quot;Derek Carr&quot;</td><td>7</td><td>&quot;BEFORE_SNAP&quot;</td><td>&quot;2022-10-11 00:15:51&quot;</td><td>4</td><td>&quot;LV&quot;</td><td>&quot;right&quot;</td><td>31.2</td><td>27.05</td><td>1.53</td><td>2.33</td><td>0.14</td><td>121.1</td><td>108.69</td><td>null</td></tr><tr><td>2022101000</td><td>57</td><td>41265</td><td>&quot;Derek Carr&quot;</td><td>8</td><td>&quot;BEFORE_SNAP&quot;</td><td>&quot;2022-10-11 00:15:51.1&quot;</td><td>4</td><td>&quot;LV&quot;</td><td>&quot;right&quot;</td><td>31.34</td><td>27.0</td><td>1.66</td><td>1.54</td><td>0.15</td><td>118.51</td><td>108.61</td><td>null</td></tr><tr><td>2022101000</td><td>57</td><td>41265</td><td>&quot;Derek Carr&quot;</td><td>9</td><td>&quot;BEFORE_SNAP&quot;</td><td>&quot;2022-10-11 00:15:51.2&quot;</td><td>4</td><td>&quot;LV&quot;</td><td>&quot;right&quot;</td><td>31.5</td><td>26.95</td><td>1.76</td><td>0.92</td><td>0.17</td><td>117.92</td><td>109.63</td><td>null</td></tr><tr><td>2022101000</td><td>57</td><td>41265</td><td>&quot;Derek Carr&quot;</td><td>10</td><td>&quot;BEFORE_SNAP&quot;</td><td>&quot;2022-10-11 00:15:51.3&quot;</td><td>4</td><td>&quot;LV&quot;</td><td>&quot;right&quot;</td><td>31.67</td><td>26.88</td><td>1.8</td><td>0.33</td><td>0.18</td><td>115.5</td><td>110.03</td><td>null</td></tr><tr><td>2022101000</td><td>57</td><td>41265</td><td>&quot;Derek Carr&quot;</td><td>11</td><td>&quot;BEFORE_SNAP&quot;</td><td>&quot;2022-10-11 00:15:51.4&quot;</td><td>4</td><td>&quot;LV&quot;</td><td>&quot;right&quot;</td><td>31.84</td><td>26.82</td><td>1.81</td><td>0.2</td><td>0.18</td><td>114.88</td><td>111.2</td><td>null</td></tr><tr><td>2022101000</td><td>57</td><td>41265</td><td>&quot;Derek Carr&quot;</td><td>12</td><td>&quot;BEFORE_SNAP&quot;</td><td>&quot;2022-10-11 00:15:51.5&quot;</td><td>4</td><td>&quot;LV&quot;</td><td>&quot;right&quot;</td><td>31.99</td><td>26.76</td><td>1.67</td><td>0.67</td><td>0.17</td><td>107.15</td><td>109.86</td><td>null</td></tr><tr><td>2022101000</td><td>57</td><td>41265</td><td>&quot;Derek Carr&quot;</td><td>13</td><td>&quot;BEFORE_SNAP&quot;</td><td>&quot;2022-10-11 00:15:51.6&quot;</td><td>4</td><td>&quot;LV&quot;</td><td>&quot;right&quot;</td><td>32.15</td><td>26.71</td><td>1.57</td><td>0.95</td><td>0.16</td><td>101.21</td><td>109.29</td><td>null</td></tr><tr><td>2022101000</td><td>57</td><td>41265</td><td>&quot;Derek Carr&quot;</td><td>14</td><td>&quot;BEFORE_SNAP&quot;</td><td>&quot;2022-10-11 00:15:51.7&quot;</td><td>4</td><td>&quot;LV&quot;</td><td>&quot;right&quot;</td><td>32.29</td><td>26.66</td><td>1.43</td><td>1.19</td><td>0.15</td><td>96.13</td><td>109.14</td><td>null</td></tr><tr><td>2022101000</td><td>57</td><td>41265</td><td>&quot;Derek Carr&quot;</td><td>15</td><td>&quot;BEFORE_SNAP&quot;</td><td>&quot;2022-10-11 00:15:51.8&quot;</td><td>4</td><td>&quot;LV&quot;</td><td>&quot;right&quot;</td><td>32.41</td><td>26.62</td><td>1.28</td><td>1.31</td><td>0.13</td><td>90.2</td><td>108.95</td><td>null</td></tr><tr><td>2022101000</td><td>57</td><td>41265</td><td>&quot;Derek Carr&quot;</td><td>16</td><td>&quot;BEFORE_SNAP&quot;</td><td>&quot;2022-10-11 00:15:51.9&quot;</td><td>4</td><td>&quot;LV&quot;</td><td>&quot;right&quot;</td><td>32.53</td><td>26.58</td><td>1.15</td><td>1.29</td><td>0.12</td><td>84.85</td><td>107.8</td><td>null</td></tr><tr><td>2022101000</td><td>57</td><td>41265</td><td>&quot;Derek Carr&quot;</td><td>17</td><td>&quot;BEFORE_SNAP&quot;</td><td>&quot;2022-10-11 00:15:52&quot;</td><td>4</td><td>&quot;LV&quot;</td><td>&quot;right&quot;</td><td>32.63</td><td>26.55</td><td>1.02</td><td>1.24</td><td>0.11</td><td>79.35</td><td>105.9</td><td>null</td></tr><tr><td>2022101000</td><td>57</td><td>41265</td><td>&quot;Derek Carr&quot;</td><td>18</td><td>&quot;BEFORE_SNAP&quot;</td><td>&quot;2022-10-11 00:15:52.1&quot;</td><td>4</td><td>&quot;LV&quot;</td><td>&quot;right&quot;</td><td>32.72</td><td>26.52</td><td>0.86</td><td>1.27</td><td>0.09</td><td>74.21</td><td>103.76</td><td>null</td></tr><tr><td>2022101000</td><td>57</td><td>41265</td><td>&quot;Derek Carr&quot;</td><td>19</td><td>&quot;BEFORE_SNAP&quot;</td><td>&quot;2022-10-11 00:15:52.2&quot;</td><td>4</td><td>&quot;LV&quot;</td><td>&quot;right&quot;</td><td>32.8</td><td>26.5</td><td>0.78</td><td>1.02</td><td>0.08</td><td>72.22</td><td>104.51</td><td>null</td></tr><tr><td>2022101000</td><td>57</td><td>41265</td><td>&quot;Derek Carr&quot;</td><td>20</td><td>&quot;BEFORE_SNAP&quot;</td><td>&quot;2022-10-11 00:15:52.3&quot;</td><td>4</td><td>&quot;LV&quot;</td><td>&quot;right&quot;</td><td>32.88</td><td>26.48</td><td>0.7</td><td>0.86</td><td>0.08</td><td>70.74</td><td>105.81</td><td>null</td></tr><tr><td>2022101000</td><td>57</td><td>41265</td><td>&quot;Derek Carr&quot;</td><td>21</td><td>&quot;BEFORE_SNAP&quot;</td><td>&quot;2022-10-11 00:15:52.4&quot;</td><td>4</td><td>&quot;LV&quot;</td><td>&quot;right&quot;</td><td>32.94</td><td>26.46</td><td>0.63</td><td>0.72</td><td>0.07</td><td>68.78</td><td>107.0</td><td>null</td></tr><tr><td>2022101000</td><td>57</td><td>41265</td><td>&quot;Derek Carr&quot;</td><td>22</td><td>&quot;BEFORE_SNAP&quot;</td><td>&quot;2022-10-11 00:15:52.5&quot;</td><td>4</td><td>&quot;LV&quot;</td><td>&quot;right&quot;</td><td>33.0</td><td>26.45</td><td>0.58</td><td>0.6</td><td>0.06</td><td>67.77</td><td>104.93</td><td>null</td></tr><tr><td>2022101000</td><td>57</td><td>41265</td><td>&quot;Derek Carr&quot;</td><td>23</td><td>&quot;BEFORE_SNAP&quot;</td><td>&quot;2022-10-11 00:15:52.6&quot;</td><td>4</td><td>&quot;LV&quot;</td><td>&quot;right&quot;</td><td>33.05</td><td>26.43</td><td>0.53</td><td>0.5</td><td>0.06</td><td>70.18</td><td>105.39</td><td>null</td></tr><tr><td>2022101000</td><td>57</td><td>41265</td><td>&quot;Derek Carr&quot;</td><td>24</td><td>&quot;BEFORE_SNAP&quot;</td><td>&quot;2022-10-11 00:15:52.7&quot;</td><td>4</td><td>&quot;LV&quot;</td><td>&quot;right&quot;</td><td>33.1</td><td>26.42</td><td>0.49</td><td>0.41</td><td>0.05</td><td>70.18</td><td>105.49</td><td>null</td></tr><tr><td>2022101000</td><td>57</td><td>41265</td><td>&quot;Derek Carr&quot;</td><td>25</td><td>&quot;BEFORE_SNAP&quot;</td><td>&quot;2022-10-11 00:15:52.8&quot;</td><td>4</td><td>&quot;LV&quot;</td><td>&quot;right&quot;</td><td>33.15</td><td>26.41</td><td>0.45</td><td>0.37</td><td>0.05</td><td>71.25</td><td>102.01</td><td>null</td></tr><tr><td>2022101000</td><td>57</td><td>41265</td><td>&quot;Derek Carr&quot;</td><td>26</td><td>&quot;BEFORE_SNAP&quot;</td><td>&quot;2022-10-11 00:15:52.9&quot;</td><td>4</td><td>&quot;LV&quot;</td><td>&quot;right&quot;</td><td>33.21</td><td>26.41</td><td>0.53</td><td>0.23</td><td>0.06</td><td>78.58</td><td>94.74</td><td>null</td></tr><tr><td>2022101000</td><td>57</td><td>41265</td><td>&quot;Derek Carr&quot;</td><td>27</td><td>&quot;BEFORE_SNAP&quot;</td><td>&quot;2022-10-11 00:15:53&quot;</td><td>4</td><td>&quot;LV&quot;</td><td>&quot;right&quot;</td><td>33.25</td><td>26.41</td><td>0.49</td><td>0.35</td><td>0.05</td><td>88.8</td><td>86.99</td><td>null</td></tr><tr><td>2022101000</td><td>57</td><td>41265</td><td>&quot;Derek Carr&quot;</td><td>28</td><td>&quot;BEFORE_SNAP&quot;</td><td>&quot;2022-10-11 00:15:53.1&quot;</td><td>4</td><td>&quot;LV&quot;</td><td>&quot;right&quot;</td><td>33.29</td><td>26.42</td><td>0.43</td><td>0.44</td><td>0.04</td><td>90.47</td><td>79.25</td><td>null</td></tr><tr><td>2022101000</td><td>57</td><td>41265</td><td>&quot;Derek Carr&quot;</td><td>29</td><td>&quot;BEFORE_SNAP&quot;</td><td>&quot;2022-10-11 00:15:53.2&quot;</td><td>4</td><td>&quot;LV&quot;</td><td>&quot;right&quot;</td><td>33.32</td><td>26.43</td><td>0.34</td><td>0.64</td><td>0.03</td><td>83.84</td><td>63.62</td><td>null</td></tr><tr><td>2022101000</td><td>57</td><td>41265</td><td>&quot;Derek Carr&quot;</td><td>30</td><td>&quot;BEFORE_SNAP&quot;</td><td>&quot;2022-10-11 00:15:53.3&quot;</td><td>4</td><td>&quot;LV&quot;</td><td>&quot;right&quot;</td><td>33.33</td><td>26.46</td><td>0.28</td><td>0.83</td><td>0.03</td><td>77.4</td><td>35.87</td><td>null</td></tr><tr><td>2022101000</td><td>57</td><td>41265</td><td>&quot;Derek Carr&quot;</td><td>31</td><td>&quot;BEFORE_SNAP&quot;</td><td>&quot;2022-10-11 00:15:53.4&quot;</td><td>4</td><td>&quot;LV&quot;</td><td>&quot;right&quot;</td><td>33.35</td><td>26.48</td><td>0.27</td><td>0.78</td><td>0.03</td><td>76.26</td><td>21.87</td><td>null</td></tr><tr><td>2022101000</td><td>57</td><td>41265</td><td>&quot;Derek Carr&quot;</td><td>32</td><td>&quot;BEFORE_SNAP&quot;</td><td>&quot;2022-10-11 00:15:53.5&quot;</td><td>4</td><td>&quot;LV&quot;</td><td>&quot;right&quot;</td><td>33.36</td><td>26.51</td><td>0.29</td><td>0.71</td><td>0.03</td><td>76.26</td><td>7.07</td><td>null</td></tr><tr><td>2022101000</td><td>57</td><td>41265</td><td>&quot;Derek Carr&quot;</td><td>33</td><td>&quot;BEFORE_SNAP&quot;</td><td>&quot;2022-10-11 00:15:53.6&quot;</td><td>4</td><td>&quot;LV&quot;</td><td>&quot;right&quot;</td><td>33.36</td><td>26.54</td><td>0.32</td><td>0.53</td><td>0.03</td><td>76.26</td><td>2.26</td><td>null</td></tr><tr><td>2022101000</td><td>57</td><td>41265</td><td>&quot;Derek Carr&quot;</td><td>34</td><td>&quot;BEFORE_SNAP&quot;</td><td>&quot;2022-10-11 00:15:53.7&quot;</td><td>4</td><td>&quot;LV&quot;</td><td>&quot;right&quot;</td><td>33.36</td><td>26.56</td><td>0.26</td><td>0.26</td><td>0.02</td><td>78.88</td><td>1.58</td><td>null</td></tr><tr><td>2022101000</td><td>57</td><td>41265</td><td>&quot;Derek Carr&quot;</td><td>35</td><td>&quot;BEFORE_SNAP&quot;</td><td>&quot;2022-10-11 00:15:53.8&quot;</td><td>4</td><td>&quot;LV&quot;</td><td>&quot;right&quot;</td><td>33.37</td><td>26.57</td><td>0.2</td><td>0.26</td><td>0.02</td><td>82.09</td><td>8.89</td><td>null</td></tr><tr><td>2022101000</td><td>57</td><td>41265</td><td>&quot;Derek Carr&quot;</td><td>36</td><td>&quot;BEFORE_SNAP&quot;</td><td>&quot;2022-10-11 00:15:53.9&quot;</td><td>4</td><td>&quot;LV&quot;</td><td>&quot;right&quot;</td><td>33.38</td><td>26.59</td><td>0.19</td><td>0.26</td><td>0.02</td><td>83.26</td><td>14.4</td><td>null</td></tr><tr><td>2022101000</td><td>57</td><td>41265</td><td>&quot;Derek Carr&quot;</td><td>37</td><td>&quot;BEFORE_SNAP&quot;</td><td>&quot;2022-10-11 00:15:54&quot;</td><td>4</td><td>&quot;LV&quot;</td><td>&quot;right&quot;</td><td>33.38</td><td>26.6</td><td>0.1</td><td>0.52</td><td>0.01</td><td>84.09</td><td>36.11</td><td>null</td></tr><tr><td>2022101000</td><td>57</td><td>41265</td><td>&quot;Derek Carr&quot;</td><td>38</td><td>&quot;BEFORE_SNAP&quot;</td><td>&quot;2022-10-11 00:15:54.1&quot;</td><td>4</td><td>&quot;LV&quot;</td><td>&quot;right&quot;</td><td>33.39</td><td>26.6</td><td>0.12</td><td>0.78</td><td>0.01</td><td>84.09</td><td>94.97</td><td>null</td></tr><tr><td>2022101000</td><td>57</td><td>41265</td><td>&quot;Derek Carr&quot;</td><td>39</td><td>&quot;BEFORE_SNAP&quot;</td><td>&quot;2022-10-11 00:15:54.2&quot;</td><td>4</td><td>&quot;LV&quot;</td><td>&quot;right&quot;</td><td>33.4</td><td>26.6</td><td>0.17</td><td>0.67</td><td>0.01</td><td>81.87</td><td>106.54</td><td>null</td></tr><tr><td>2022101000</td><td>57</td><td>41265</td><td>&quot;Derek Carr&quot;</td><td>40</td><td>&quot;BEFORE_SNAP&quot;</td><td>&quot;2022-10-11 00:15:54.3&quot;</td><td>4</td><td>&quot;LV&quot;</td><td>&quot;right&quot;</td><td>33.42</td><td>26.59</td><td>0.2</td><td>0.46</td><td>0.02</td><td>81.87</td><td>109.33</td><td>null</td></tr><tr><td>2022101000</td><td>57</td><td>41265</td><td>&quot;Derek Carr&quot;</td><td>41</td><td>&quot;BEFORE_SNAP&quot;</td><td>&quot;2022-10-11 00:15:54.4&quot;</td><td>4</td><td>&quot;LV&quot;</td><td>&quot;right&quot;</td><td>33.44</td><td>26.58</td><td>0.23</td><td>0.32</td><td>0.02</td><td>82.86</td><td>114.87</td><td>null</td></tr><tr><td>2022101000</td><td>57</td><td>41265</td><td>&quot;Derek Carr&quot;</td><td>42</td><td>&quot;BEFORE_SNAP&quot;</td><td>&quot;2022-10-11 00:15:54.5&quot;</td><td>4</td><td>&quot;LV&quot;</td><td>&quot;right&quot;</td><td>33.46</td><td>26.58</td><td>0.21</td><td>0.26</td><td>0.02</td><td>82.86</td><td>90.0</td><td>null</td></tr><tr><td>2022101000</td><td>57</td><td>41265</td><td>&quot;Derek Carr&quot;</td><td>43</td><td>&quot;BEFORE_SNAP&quot;</td><td>&quot;2022-10-11 00:15:54.6&quot;</td><td>4</td><td>&quot;LV&quot;</td><td>&quot;right&quot;</td><td>33.48</td><td>26.58</td><td>0.23</td><td>0.27</td><td>0.02</td><td>81.67</td><td>87.46</td><td>null</td></tr><tr><td>2022101000</td><td>57</td><td>41265</td><td>&quot;Derek Carr&quot;</td><td>44</td><td>&quot;BEFORE_SNAP&quot;</td><td>&quot;2022-10-11 00:15:54.7&quot;</td><td>4</td><td>&quot;LV&quot;</td><td>&quot;right&quot;</td><td>33.51</td><td>26.57</td><td>0.26</td><td>0.16</td><td>0.03</td><td>81.04</td><td>94.36</td><td>null</td></tr><tr><td>2022101000</td><td>57</td><td>41265</td><td>&quot;Derek Carr&quot;</td><td>45</td><td>&quot;BEFORE_SNAP&quot;</td><td>&quot;2022-10-11 00:15:54.8&quot;</td><td>4</td><td>&quot;LV&quot;</td><td>&quot;right&quot;</td><td>33.54</td><td>26.57</td><td>0.3</td><td>0.13</td><td>0.03</td><td>79.81</td><td>99.08</td><td>null</td></tr><tr><td>2022101000</td><td>57</td><td>41265</td><td>&quot;Derek Carr&quot;</td><td>46</td><td>&quot;BEFORE_SNAP&quot;</td><td>&quot;2022-10-11 00:15:54.9&quot;</td><td>4</td><td>&quot;LV&quot;</td><td>&quot;right&quot;</td><td>33.57</td><td>26.56</td><td>0.31</td><td>0.12</td><td>0.03</td><td>77.34</td><td>96.94</td><td>null</td></tr><tr><td>2022101000</td><td>57</td><td>41265</td><td>&quot;Derek Carr&quot;</td><td>47</td><td>&quot;BEFORE_SNAP&quot;</td><td>&quot;2022-10-11 00:15:55&quot;</td><td>4</td><td>&quot;LV&quot;</td><td>&quot;right&quot;</td><td>33.6</td><td>26.56</td><td>0.33</td><td>0.12</td><td>0.03</td><td>73.05</td><td>97.74</td><td>null</td></tr><tr><td>2022101000</td><td>57</td><td>41265</td><td>&quot;Derek Carr&quot;</td><td>48</td><td>&quot;BEFORE_SNAP&quot;</td><td>&quot;2022-10-11 00:15:55.1&quot;</td><td>4</td><td>&quot;LV&quot;</td><td>&quot;right&quot;</td><td>33.63</td><td>26.56</td><td>0.33</td><td>0.14</td><td>0.03</td><td>69.55</td><td>101.54</td><td>null</td></tr><tr><td>2022101000</td><td>57</td><td>41265</td><td>&quot;Derek Carr&quot;</td><td>49</td><td>&quot;BEFORE_SNAP&quot;</td><td>&quot;2022-10-11 00:15:55.2&quot;</td><td>4</td><td>&quot;LV&quot;</td><td>&quot;right&quot;</td><td>33.66</td><td>26.55</td><td>0.28</td><td>0.12</td><td>0.03</td><td>64.9</td><td>98.84</td><td>null</td></tr><tr><td>2022101000</td><td>57</td><td>41265</td><td>&quot;Derek Carr&quot;</td><td>50</td><td>&quot;BEFORE_SNAP&quot;</td><td>&quot;2022-10-11 00:15:55.3&quot;</td><td>4</td><td>&quot;LV&quot;</td><td>&quot;right&quot;</td><td>33.69</td><td>26.55</td><td>0.25</td><td>0.22</td><td>0.02</td><td>62.25</td><td>100.22</td><td>null</td></tr><tr><td>&hellip;</td><td>&hellip;</td><td>&hellip;</td><td>&hellip;</td><td>&hellip;</td><td>&hellip;</td><td>&hellip;</td><td>&hellip;</td><td>&hellip;</td><td>&hellip;</td><td>&hellip;</td><td>&hellip;</td><td>&hellip;</td><td>&hellip;</td><td>&hellip;</td><td>&hellip;</td><td>&hellip;</td><td>&hellip;</td></tr><tr><td>2022101000</td><td>4148</td><td>null</td><td>&quot;football&quot;</td><td>20</td><td>&quot;BEFORE_SNAP&quot;</td><td>&quot;2022-10-11 03:23:06&quot;</td><td>null</td><td>&quot;football&quot;</td><td>&quot;left&quot;</td><td>55.209999</td><td>23.84</td><td>0.0</td><td>0.0</td><td>0.0</td><td>null</td><td>null</td><td>null</td></tr><tr><td>2022101000</td><td>4148</td><td>null</td><td>&quot;football&quot;</td><td>21</td><td>&quot;BEFORE_SNAP&quot;</td><td>&quot;2022-10-11 03:23:06.1&quot;</td><td>null</td><td>&quot;football&quot;</td><td>&quot;left&quot;</td><td>55.209999</td><td>23.84</td><td>0.0</td><td>0.0</td><td>0.0</td><td>null</td><td>null</td><td>null</td></tr><tr><td>2022101000</td><td>4148</td><td>null</td><td>&quot;football&quot;</td><td>22</td><td>&quot;BEFORE_SNAP&quot;</td><td>&quot;2022-10-11 03:23:06.2&quot;</td><td>null</td><td>&quot;football&quot;</td><td>&quot;left&quot;</td><td>55.209999</td><td>23.84</td><td>0.0</td><td>0.0</td><td>0.0</td><td>null</td><td>null</td><td>null</td></tr><tr><td>2022101000</td><td>4148</td><td>null</td><td>&quot;football&quot;</td><td>23</td><td>&quot;BEFORE_SNAP&quot;</td><td>&quot;2022-10-11 03:23:06.3&quot;</td><td>null</td><td>&quot;football&quot;</td><td>&quot;left&quot;</td><td>55.209999</td><td>23.84</td><td>0.0</td><td>0.0</td><td>0.0</td><td>null</td><td>null</td><td>null</td></tr><tr><td>2022101000</td><td>4148</td><td>null</td><td>&quot;football&quot;</td><td>24</td><td>&quot;BEFORE_SNAP&quot;</td><td>&quot;2022-10-11 03:23:06.4&quot;</td><td>null</td><td>&quot;football&quot;</td><td>&quot;left&quot;</td><td>55.209999</td><td>23.84</td><td>0.0</td><td>0.0</td><td>0.0</td><td>null</td><td>null</td><td>null</td></tr><tr><td>2022101000</td><td>4148</td><td>null</td><td>&quot;football&quot;</td><td>25</td><td>&quot;BEFORE_SNAP&quot;</td><td>&quot;2022-10-11 03:23:06.5&quot;</td><td>null</td><td>&quot;football&quot;</td><td>&quot;left&quot;</td><td>55.209999</td><td>23.84</td><td>0.0</td><td>0.0</td><td>0.0</td><td>null</td><td>null</td><td>null</td></tr><tr><td>2022101000</td><td>4148</td><td>null</td><td>&quot;football&quot;</td><td>26</td><td>&quot;BEFORE_SNAP&quot;</td><td>&quot;2022-10-11 03:23:06.6&quot;</td><td>null</td><td>&quot;football&quot;</td><td>&quot;left&quot;</td><td>55.220001</td><td>23.85</td><td>0.0</td><td>0.0</td><td>0.0</td><td>null</td><td>null</td><td>null</td></tr><tr><td>2022101000</td><td>4148</td><td>null</td><td>&quot;football&quot;</td><td>27</td><td>&quot;BEFORE_SNAP&quot;</td><td>&quot;2022-10-11 03:23:06.7&quot;</td><td>null</td><td>&quot;football&quot;</td><td>&quot;left&quot;</td><td>55.220001</td><td>23.85</td><td>0.0</td><td>0.0</td><td>0.0</td><td>null</td><td>null</td><td>null</td></tr><tr><td>2022101000</td><td>4148</td><td>null</td><td>&quot;football&quot;</td><td>28</td><td>&quot;BEFORE_SNAP&quot;</td><td>&quot;2022-10-11 03:23:06.8&quot;</td><td>null</td><td>&quot;football&quot;</td><td>&quot;left&quot;</td><td>55.220001</td><td>23.85</td><td>0.0</td><td>0.0</td><td>0.0</td><td>null</td><td>null</td><td>null</td></tr><tr><td>2022101000</td><td>4148</td><td>null</td><td>&quot;football&quot;</td><td>29</td><td>&quot;BEFORE_SNAP&quot;</td><td>&quot;2022-10-11 03:23:06.9&quot;</td><td>null</td><td>&quot;football&quot;</td><td>&quot;left&quot;</td><td>55.220001</td><td>23.85</td><td>0.0</td><td>0.0</td><td>0.0</td><td>null</td><td>null</td><td>null</td></tr><tr><td>2022101000</td><td>4148</td><td>null</td><td>&quot;football&quot;</td><td>30</td><td>&quot;BEFORE_SNAP&quot;</td><td>&quot;2022-10-11 03:23:07&quot;</td><td>null</td><td>&quot;football&quot;</td><td>&quot;left&quot;</td><td>55.220001</td><td>23.85</td><td>0.0</td><td>0.0</td><td>0.0</td><td>null</td><td>null</td><td>null</td></tr><tr><td>2022101000</td><td>4148</td><td>null</td><td>&quot;football&quot;</td><td>31</td><td>&quot;BEFORE_SNAP&quot;</td><td>&quot;2022-10-11 03:23:07.1&quot;</td><td>null</td><td>&quot;football&quot;</td><td>&quot;left&quot;</td><td>55.220001</td><td>23.85</td><td>0.0</td><td>0.0</td><td>0.0</td><td>null</td><td>null</td><td>null</td></tr><tr><td>2022101000</td><td>4148</td><td>null</td><td>&quot;football&quot;</td><td>32</td><td>&quot;BEFORE_SNAP&quot;</td><td>&quot;2022-10-11 03:23:07.2&quot;</td><td>null</td><td>&quot;football&quot;</td><td>&quot;left&quot;</td><td>55.220001</td><td>23.84</td><td>0.0</td><td>0.0</td><td>0.0</td><td>null</td><td>null</td><td>null</td></tr><tr><td>2022101000</td><td>4148</td><td>null</td><td>&quot;football&quot;</td><td>33</td><td>&quot;BEFORE_SNAP&quot;</td><td>&quot;2022-10-11 03:23:07.3&quot;</td><td>null</td><td>&quot;football&quot;</td><td>&quot;left&quot;</td><td>55.220001</td><td>23.84</td><td>0.0</td><td>0.0</td><td>0.0</td><td>null</td><td>null</td><td>null</td></tr><tr><td>2022101000</td><td>4148</td><td>null</td><td>&quot;football&quot;</td><td>34</td><td>&quot;BEFORE_SNAP&quot;</td><td>&quot;2022-10-11 03:23:07.4&quot;</td><td>null</td><td>&quot;football&quot;</td><td>&quot;left&quot;</td><td>55.220001</td><td>23.85</td><td>0.0</td><td>0.0</td><td>0.0</td><td>null</td><td>null</td><td>null</td></tr><tr><td>2022101000</td><td>4148</td><td>null</td><td>&quot;football&quot;</td><td>35</td><td>&quot;BEFORE_SNAP&quot;</td><td>&quot;2022-10-11 03:23:07.5&quot;</td><td>null</td><td>&quot;football&quot;</td><td>&quot;left&quot;</td><td>55.220001</td><td>23.84</td><td>0.0</td><td>0.0</td><td>0.0</td><td>null</td><td>null</td><td>null</td></tr><tr><td>2022101000</td><td>4148</td><td>null</td><td>&quot;football&quot;</td><td>36</td><td>&quot;BEFORE_SNAP&quot;</td><td>&quot;2022-10-11 03:23:07.6&quot;</td><td>null</td><td>&quot;football&quot;</td><td>&quot;left&quot;</td><td>55.220001</td><td>23.84</td><td>0.0</td><td>0.0</td><td>0.0</td><td>null</td><td>null</td><td>null</td></tr><tr><td>2022101000</td><td>4148</td><td>null</td><td>&quot;football&quot;</td><td>37</td><td>&quot;BEFORE_SNAP&quot;</td><td>&quot;2022-10-11 03:23:07.7&quot;</td><td>null</td><td>&quot;football&quot;</td><td>&quot;left&quot;</td><td>55.220001</td><td>23.84</td><td>0.0</td><td>0.0</td><td>0.0</td><td>null</td><td>null</td><td>null</td></tr><tr><td>2022101000</td><td>4148</td><td>null</td><td>&quot;football&quot;</td><td>38</td><td>&quot;BEFORE_SNAP&quot;</td><td>&quot;2022-10-11 03:23:07.8&quot;</td><td>null</td><td>&quot;football&quot;</td><td>&quot;left&quot;</td><td>55.220001</td><td>23.84</td><td>0.0</td><td>0.0</td><td>0.0</td><td>null</td><td>null</td><td>null</td></tr><tr><td>2022101000</td><td>4148</td><td>null</td><td>&quot;football&quot;</td><td>39</td><td>&quot;BEFORE_SNAP&quot;</td><td>&quot;2022-10-11 03:23:07.9&quot;</td><td>null</td><td>&quot;football&quot;</td><td>&quot;left&quot;</td><td>55.23</td><td>23.84</td><td>0.0</td><td>0.0</td><td>0.0</td><td>null</td><td>null</td><td>null</td></tr><tr><td>2022101000</td><td>4148</td><td>null</td><td>&quot;football&quot;</td><td>40</td><td>&quot;BEFORE_SNAP&quot;</td><td>&quot;2022-10-11 03:23:08&quot;</td><td>null</td><td>&quot;football&quot;</td><td>&quot;left&quot;</td><td>55.23</td><td>23.84</td><td>0.0</td><td>0.0</td><td>0.0</td><td>null</td><td>null</td><td>null</td></tr><tr><td>2022101000</td><td>4148</td><td>null</td><td>&quot;football&quot;</td><td>41</td><td>&quot;BEFORE_SNAP&quot;</td><td>&quot;2022-10-11 03:23:08.1&quot;</td><td>null</td><td>&quot;football&quot;</td><td>&quot;left&quot;</td><td>55.23</td><td>23.84</td><td>0.0</td><td>0.0</td><td>0.0</td><td>null</td><td>null</td><td>null</td></tr><tr><td>2022101000</td><td>4148</td><td>null</td><td>&quot;football&quot;</td><td>42</td><td>&quot;BEFORE_SNAP&quot;</td><td>&quot;2022-10-11 03:23:08.2&quot;</td><td>null</td><td>&quot;football&quot;</td><td>&quot;left&quot;</td><td>55.23</td><td>23.84</td><td>0.0</td><td>0.0</td><td>0.0</td><td>null</td><td>null</td><td>null</td></tr><tr><td>2022101000</td><td>4148</td><td>null</td><td>&quot;football&quot;</td><td>43</td><td>&quot;BEFORE_SNAP&quot;</td><td>&quot;2022-10-11 03:23:08.3&quot;</td><td>null</td><td>&quot;football&quot;</td><td>&quot;left&quot;</td><td>55.23</td><td>23.84</td><td>0.0</td><td>0.0</td><td>0.0</td><td>null</td><td>null</td><td>null</td></tr><tr><td>2022101000</td><td>4148</td><td>null</td><td>&quot;football&quot;</td><td>44</td><td>&quot;BEFORE_SNAP&quot;</td><td>&quot;2022-10-11 03:23:08.4&quot;</td><td>null</td><td>&quot;football&quot;</td><td>&quot;left&quot;</td><td>55.220001</td><td>23.83</td><td>0.0</td><td>0.0</td><td>0.0</td><td>null</td><td>null</td><td>&quot;line_set&quot;</td></tr><tr><td>2022101000</td><td>4148</td><td>null</td><td>&quot;football&quot;</td><td>45</td><td>&quot;BEFORE_SNAP&quot;</td><td>&quot;2022-10-11 03:23:08.5&quot;</td><td>null</td><td>&quot;football&quot;</td><td>&quot;left&quot;</td><td>55.220001</td><td>23.83</td><td>0.0</td><td>0.0</td><td>0.0</td><td>null</td><td>null</td><td>null</td></tr><tr><td>2022101000</td><td>4148</td><td>null</td><td>&quot;football&quot;</td><td>46</td><td>&quot;BEFORE_SNAP&quot;</td><td>&quot;2022-10-11 03:23:08.6&quot;</td><td>null</td><td>&quot;football&quot;</td><td>&quot;left&quot;</td><td>55.220001</td><td>23.83</td><td>0.0</td><td>0.0</td><td>0.0</td><td>null</td><td>null</td><td>null</td></tr><tr><td>2022101000</td><td>4148</td><td>null</td><td>&quot;football&quot;</td><td>47</td><td>&quot;BEFORE_SNAP&quot;</td><td>&quot;2022-10-11 03:23:08.7&quot;</td><td>null</td><td>&quot;football&quot;</td><td>&quot;left&quot;</td><td>55.220001</td><td>23.83</td><td>0.0</td><td>0.0</td><td>0.0</td><td>null</td><td>null</td><td>null</td></tr><tr><td>2022101000</td><td>4148</td><td>null</td><td>&quot;football&quot;</td><td>48</td><td>&quot;BEFORE_SNAP&quot;</td><td>&quot;2022-10-11 03:23:08.8&quot;</td><td>null</td><td>&quot;football&quot;</td><td>&quot;left&quot;</td><td>55.220001</td><td>23.83</td><td>0.0</td><td>0.0</td><td>0.0</td><td>null</td><td>null</td><td>null</td></tr><tr><td>2022101000</td><td>4148</td><td>null</td><td>&quot;football&quot;</td><td>49</td><td>&quot;BEFORE_SNAP&quot;</td><td>&quot;2022-10-11 03:23:08.9&quot;</td><td>null</td><td>&quot;football&quot;</td><td>&quot;left&quot;</td><td>55.220001</td><td>23.83</td><td>0.0</td><td>0.0</td><td>0.0</td><td>null</td><td>null</td><td>null</td></tr><tr><td>2022101000</td><td>4148</td><td>null</td><td>&quot;football&quot;</td><td>50</td><td>&quot;BEFORE_SNAP&quot;</td><td>&quot;2022-10-11 03:23:09&quot;</td><td>null</td><td>&quot;football&quot;</td><td>&quot;left&quot;</td><td>55.220001</td><td>23.83</td><td>0.0</td><td>0.0</td><td>0.0</td><td>null</td><td>null</td><td>null</td></tr><tr><td>2022101000</td><td>4148</td><td>null</td><td>&quot;football&quot;</td><td>51</td><td>&quot;BEFORE_SNAP&quot;</td><td>&quot;2022-10-11 03:23:09.1&quot;</td><td>null</td><td>&quot;football&quot;</td><td>&quot;left&quot;</td><td>55.220001</td><td>23.83</td><td>0.0</td><td>0.0</td><td>0.0</td><td>null</td><td>null</td><td>null</td></tr><tr><td>2022101000</td><td>4148</td><td>null</td><td>&quot;football&quot;</td><td>52</td><td>&quot;BEFORE_SNAP&quot;</td><td>&quot;2022-10-11 03:23:09.2&quot;</td><td>null</td><td>&quot;football&quot;</td><td>&quot;left&quot;</td><td>55.220001</td><td>23.83</td><td>0.0</td><td>0.0</td><td>0.0</td><td>null</td><td>null</td><td>null</td></tr><tr><td>2022101000</td><td>4148</td><td>null</td><td>&quot;football&quot;</td><td>53</td><td>&quot;BEFORE_SNAP&quot;</td><td>&quot;2022-10-11 03:23:09.3&quot;</td><td>null</td><td>&quot;football&quot;</td><td>&quot;left&quot;</td><td>55.220001</td><td>23.83</td><td>0.0</td><td>0.0</td><td>0.0</td><td>null</td><td>null</td><td>null</td></tr><tr><td>2022101000</td><td>4148</td><td>null</td><td>&quot;football&quot;</td><td>54</td><td>&quot;BEFORE_SNAP&quot;</td><td>&quot;2022-10-11 03:23:09.4&quot;</td><td>null</td><td>&quot;football&quot;</td><td>&quot;left&quot;</td><td>55.220001</td><td>23.83</td><td>0.0</td><td>0.0</td><td>0.0</td><td>null</td><td>null</td><td>null</td></tr><tr><td>2022101000</td><td>4148</td><td>null</td><td>&quot;football&quot;</td><td>55</td><td>&quot;BEFORE_SNAP&quot;</td><td>&quot;2022-10-11 03:23:09.5&quot;</td><td>null</td><td>&quot;football&quot;</td><td>&quot;left&quot;</td><td>55.220001</td><td>23.82</td><td>0.0</td><td>0.0</td><td>0.0</td><td>null</td><td>null</td><td>null</td></tr><tr><td>2022101000</td><td>4148</td><td>null</td><td>&quot;football&quot;</td><td>56</td><td>&quot;BEFORE_SNAP&quot;</td><td>&quot;2022-10-11 03:23:09.6&quot;</td><td>null</td><td>&quot;football&quot;</td><td>&quot;left&quot;</td><td>55.220001</td><td>23.82</td><td>0.0</td><td>0.0</td><td>0.0</td><td>null</td><td>null</td><td>null</td></tr><tr><td>2022101000</td><td>4148</td><td>null</td><td>&quot;football&quot;</td><td>57</td><td>&quot;BEFORE_SNAP&quot;</td><td>&quot;2022-10-11 03:23:09.7&quot;</td><td>null</td><td>&quot;football&quot;</td><td>&quot;left&quot;</td><td>55.220001</td><td>23.82</td><td>0.0</td><td>0.0</td><td>0.0</td><td>null</td><td>null</td><td>null</td></tr><tr><td>2022101000</td><td>4148</td><td>null</td><td>&quot;football&quot;</td><td>58</td><td>&quot;BEFORE_SNAP&quot;</td><td>&quot;2022-10-11 03:23:09.8&quot;</td><td>null</td><td>&quot;football&quot;</td><td>&quot;left&quot;</td><td>55.220001</td><td>23.82</td><td>0.0</td><td>0.0</td><td>0.0</td><td>null</td><td>null</td><td>null</td></tr><tr><td>2022101000</td><td>4148</td><td>null</td><td>&quot;football&quot;</td><td>59</td><td>&quot;BEFORE_SNAP&quot;</td><td>&quot;2022-10-11 03:23:09.9&quot;</td><td>null</td><td>&quot;football&quot;</td><td>&quot;left&quot;</td><td>55.23</td><td>23.82</td><td>0.0</td><td>0.0</td><td>0.0</td><td>null</td><td>null</td><td>null</td></tr><tr><td>2022101000</td><td>4148</td><td>null</td><td>&quot;football&quot;</td><td>60</td><td>&quot;SNAP&quot;</td><td>&quot;2022-10-11 03:23:10&quot;</td><td>null</td><td>&quot;football&quot;</td><td>&quot;left&quot;</td><td>55.23</td><td>23.82</td><td>0.0</td><td>0.0</td><td>0.0</td><td>null</td><td>null</td><td>&quot;ball_snap&quot;</td></tr><tr><td>2022101000</td><td>4148</td><td>null</td><td>&quot;football&quot;</td><td>61</td><td>&quot;AFTER_SNAP&quot;</td><td>&quot;2022-10-11 03:23:10.1&quot;</td><td>null</td><td>&quot;football&quot;</td><td>&quot;left&quot;</td><td>55.23</td><td>23.82</td><td>0.0</td><td>0.0</td><td>0.0</td><td>null</td><td>null</td><td>null</td></tr><tr><td>2022101000</td><td>4148</td><td>null</td><td>&quot;football&quot;</td><td>62</td><td>&quot;AFTER_SNAP&quot;</td><td>&quot;2022-10-11 03:23:10.2&quot;</td><td>null</td><td>&quot;football&quot;</td><td>&quot;left&quot;</td><td>55.23</td><td>23.82</td><td>0.0</td><td>0.0</td><td>0.0</td><td>null</td><td>null</td><td>null</td></tr><tr><td>2022101000</td><td>4148</td><td>null</td><td>&quot;football&quot;</td><td>63</td><td>&quot;AFTER_SNAP&quot;</td><td>&quot;2022-10-11 03:23:10.3&quot;</td><td>null</td><td>&quot;football&quot;</td><td>&quot;left&quot;</td><td>55.240002</td><td>23.82</td><td>0.0</td><td>0.0</td><td>0.01</td><td>null</td><td>null</td><td>null</td></tr><tr><td>2022101000</td><td>4148</td><td>null</td><td>&quot;football&quot;</td><td>64</td><td>&quot;AFTER_SNAP&quot;</td><td>&quot;2022-10-11 03:23:10.4&quot;</td><td>null</td><td>&quot;football&quot;</td><td>&quot;left&quot;</td><td>55.240002</td><td>23.82</td><td>0.01</td><td>0.18</td><td>0.0</td><td>null</td><td>null</td><td>null</td></tr><tr><td>2022101000</td><td>4148</td><td>null</td><td>&quot;football&quot;</td><td>65</td><td>&quot;AFTER_SNAP&quot;</td><td>&quot;2022-10-11 03:23:10.5&quot;</td><td>null</td><td>&quot;football&quot;</td><td>&quot;left&quot;</td><td>55.25</td><td>23.82</td><td>0.11</td><td>1.02</td><td>0.01</td><td>null</td><td>null</td><td>&quot;qb_kneel&quot;</td></tr><tr><td>2022101000</td><td>4148</td><td>null</td><td>&quot;football&quot;</td><td>66</td><td>&quot;AFTER_SNAP&quot;</td><td>&quot;2022-10-11 03:23:10.6&quot;</td><td>null</td><td>&quot;football&quot;</td><td>&quot;left&quot;</td><td>55.27</td><td>23.82</td><td>0.2</td><td>0.49</td><td>0.02</td><td>null</td><td>null</td><td>null</td></tr><tr><td>2022101000</td><td>4148</td><td>null</td><td>&quot;football&quot;</td><td>67</td><td>&quot;AFTER_SNAP&quot;</td><td>&quot;2022-10-11 03:23:10.7&quot;</td><td>null</td><td>&quot;football&quot;</td><td>&quot;left&quot;</td><td>55.349998</td><td>23.83</td><td>0.5</td><td>0.31</td><td>0.08</td><td>null</td><td>null</td><td>null</td></tr><tr><td>2022101000</td><td>4148</td><td>null</td><td>&quot;football&quot;</td><td>68</td><td>&quot;AFTER_SNAP&quot;</td><td>&quot;2022-10-11 03:23:10.8&quot;</td><td>null</td><td>&quot;football&quot;</td><td>&quot;left&quot;</td><td>55.490002</td><td>23.860001</td><td>0.86</td><td>0.92</td><td>0.14</td><td>null</td><td>null</td><td>null</td></tr><tr><td>2022101000</td><td>4148</td><td>null</td><td>&quot;football&quot;</td><td>69</td><td>&quot;AFTER_SNAP&quot;</td><td>&quot;2022-10-11 03:23:10.9&quot;</td><td>null</td><td>&quot;football&quot;</td><td>&quot;left&quot;</td><td>55.59</td><td>23.860001</td><td>1.1</td><td>2.07</td><td>0.1</td><td>null</td><td>null</td><td>null</td></tr></tbody></table></div>"
      ],
      "text/plain": [
       "shape: (495_650, 18)\n",
       "┌────────────┬────────┬───────┬─────────────┬───┬──────┬─────────────┬────────┬────────────────────┐\n",
       "│ gameId     ┆ playId ┆ nflId ┆ displayName ┆ … ┆ dis  ┆ orientation ┆ dir    ┆ event              │\n",
       "│ ---        ┆ ---    ┆ ---   ┆ ---         ┆   ┆ ---  ┆ ---         ┆ ---    ┆ ---                │\n",
       "│ i64        ┆ i64    ┆ i64   ┆ str         ┆   ┆ f64  ┆ f64         ┆ f64    ┆ str                │\n",
       "╞════════════╪════════╪═══════╪═════════════╪═══╪══════╪═════════════╪════════╪════════════════════╡\n",
       "│ 2022101000 ┆ 57     ┆ 41265 ┆ Derek Carr  ┆ … ┆ 0.05 ┆ 160.57      ┆ 89.24  ┆ huddle_break_offen │\n",
       "│            ┆        ┆       ┆             ┆   ┆      ┆             ┆        ┆ se                 │\n",
       "│ 2022101000 ┆ 57     ┆ 41265 ┆ Derek Carr  ┆ … ┆ 0.03 ┆ 139.97      ┆ 108.86 ┆ null               │\n",
       "│ 2022101000 ┆ 57     ┆ 41265 ┆ Derek Carr  ┆ … ┆ 0.02 ┆ 130.14      ┆ 112.37 ┆ null               │\n",
       "│ 2022101000 ┆ 57     ┆ 41265 ┆ Derek Carr  ┆ … ┆ 0.05 ┆ 127.5       ┆ 110.94 ┆ null               │\n",
       "│ 2022101000 ┆ 57     ┆ 41265 ┆ Derek Carr  ┆ … ┆ 0.09 ┆ 124.22      ┆ 109.28 ┆ null               │\n",
       "│ 2022101000 ┆ 57     ┆ 41265 ┆ Derek Carr  ┆ … ┆ 0.11 ┆ 122.66      ┆ 108.86 ┆ null               │\n",
       "│ 2022101000 ┆ 57     ┆ 41265 ┆ Derek Carr  ┆ … ┆ 0.14 ┆ 121.1       ┆ 108.69 ┆ null               │\n",
       "│ 2022101000 ┆ 57     ┆ 41265 ┆ Derek Carr  ┆ … ┆ 0.15 ┆ 118.51      ┆ 108.61 ┆ null               │\n",
       "│ 2022101000 ┆ 57     ┆ 41265 ┆ Derek Carr  ┆ … ┆ 0.17 ┆ 117.92      ┆ 109.63 ┆ null               │\n",
       "│ 2022101000 ┆ 57     ┆ 41265 ┆ Derek Carr  ┆ … ┆ 0.18 ┆ 115.5       ┆ 110.03 ┆ null               │\n",
       "│ 2022101000 ┆ 57     ┆ 41265 ┆ Derek Carr  ┆ … ┆ 0.18 ┆ 114.88      ┆ 111.2  ┆ null               │\n",
       "│ 2022101000 ┆ 57     ┆ 41265 ┆ Derek Carr  ┆ … ┆ 0.17 ┆ 107.15      ┆ 109.86 ┆ null               │\n",
       "│ 2022101000 ┆ 57     ┆ 41265 ┆ Derek Carr  ┆ … ┆ 0.16 ┆ 101.21      ┆ 109.29 ┆ null               │\n",
       "│ 2022101000 ┆ 57     ┆ 41265 ┆ Derek Carr  ┆ … ┆ 0.15 ┆ 96.13       ┆ 109.14 ┆ null               │\n",
       "│ 2022101000 ┆ 57     ┆ 41265 ┆ Derek Carr  ┆ … ┆ 0.13 ┆ 90.2        ┆ 108.95 ┆ null               │\n",
       "│ 2022101000 ┆ 57     ┆ 41265 ┆ Derek Carr  ┆ … ┆ 0.12 ┆ 84.85       ┆ 107.8  ┆ null               │\n",
       "│ 2022101000 ┆ 57     ┆ 41265 ┆ Derek Carr  ┆ … ┆ 0.11 ┆ 79.35       ┆ 105.9  ┆ null               │\n",
       "│ 2022101000 ┆ 57     ┆ 41265 ┆ Derek Carr  ┆ … ┆ 0.09 ┆ 74.21       ┆ 103.76 ┆ null               │\n",
       "│ 2022101000 ┆ 57     ┆ 41265 ┆ Derek Carr  ┆ … ┆ 0.08 ┆ 72.22       ┆ 104.51 ┆ null               │\n",
       "│ 2022101000 ┆ 57     ┆ 41265 ┆ Derek Carr  ┆ … ┆ 0.08 ┆ 70.74       ┆ 105.81 ┆ null               │\n",
       "│ 2022101000 ┆ 57     ┆ 41265 ┆ Derek Carr  ┆ … ┆ 0.07 ┆ 68.78       ┆ 107.0  ┆ null               │\n",
       "│ 2022101000 ┆ 57     ┆ 41265 ┆ Derek Carr  ┆ … ┆ 0.06 ┆ 67.77       ┆ 104.93 ┆ null               │\n",
       "│ 2022101000 ┆ 57     ┆ 41265 ┆ Derek Carr  ┆ … ┆ 0.06 ┆ 70.18       ┆ 105.39 ┆ null               │\n",
       "│ 2022101000 ┆ 57     ┆ 41265 ┆ Derek Carr  ┆ … ┆ 0.05 ┆ 70.18       ┆ 105.49 ┆ null               │\n",
       "│ 2022101000 ┆ 57     ┆ 41265 ┆ Derek Carr  ┆ … ┆ 0.05 ┆ 71.25       ┆ 102.01 ┆ null               │\n",
       "│ 2022101000 ┆ 57     ┆ 41265 ┆ Derek Carr  ┆ … ┆ 0.06 ┆ 78.58       ┆ 94.74  ┆ null               │\n",
       "│ 2022101000 ┆ 57     ┆ 41265 ┆ Derek Carr  ┆ … ┆ 0.05 ┆ 88.8        ┆ 86.99  ┆ null               │\n",
       "│ 2022101000 ┆ 57     ┆ 41265 ┆ Derek Carr  ┆ … ┆ 0.04 ┆ 90.47       ┆ 79.25  ┆ null               │\n",
       "│ 2022101000 ┆ 57     ┆ 41265 ┆ Derek Carr  ┆ … ┆ 0.03 ┆ 83.84       ┆ 63.62  ┆ null               │\n",
       "│ 2022101000 ┆ 57     ┆ 41265 ┆ Derek Carr  ┆ … ┆ 0.03 ┆ 77.4        ┆ 35.87  ┆ null               │\n",
       "│ 2022101000 ┆ 57     ┆ 41265 ┆ Derek Carr  ┆ … ┆ 0.03 ┆ 76.26       ┆ 21.87  ┆ null               │\n",
       "│ 2022101000 ┆ 57     ┆ 41265 ┆ Derek Carr  ┆ … ┆ 0.03 ┆ 76.26       ┆ 7.07   ┆ null               │\n",
       "│ 2022101000 ┆ 57     ┆ 41265 ┆ Derek Carr  ┆ … ┆ 0.03 ┆ 76.26       ┆ 2.26   ┆ null               │\n",
       "│ 2022101000 ┆ 57     ┆ 41265 ┆ Derek Carr  ┆ … ┆ 0.02 ┆ 78.88       ┆ 1.58   ┆ null               │\n",
       "│ 2022101000 ┆ 57     ┆ 41265 ┆ Derek Carr  ┆ … ┆ 0.02 ┆ 82.09       ┆ 8.89   ┆ null               │\n",
       "│ 2022101000 ┆ 57     ┆ 41265 ┆ Derek Carr  ┆ … ┆ 0.02 ┆ 83.26       ┆ 14.4   ┆ null               │\n",
       "│ 2022101000 ┆ 57     ┆ 41265 ┆ Derek Carr  ┆ … ┆ 0.01 ┆ 84.09       ┆ 36.11  ┆ null               │\n",
       "│ 2022101000 ┆ 57     ┆ 41265 ┆ Derek Carr  ┆ … ┆ 0.01 ┆ 84.09       ┆ 94.97  ┆ null               │\n",
       "│ 2022101000 ┆ 57     ┆ 41265 ┆ Derek Carr  ┆ … ┆ 0.01 ┆ 81.87       ┆ 106.54 ┆ null               │\n",
       "│ 2022101000 ┆ 57     ┆ 41265 ┆ Derek Carr  ┆ … ┆ 0.02 ┆ 81.87       ┆ 109.33 ┆ null               │\n",
       "│ 2022101000 ┆ 57     ┆ 41265 ┆ Derek Carr  ┆ … ┆ 0.02 ┆ 82.86       ┆ 114.87 ┆ null               │\n",
       "│ 2022101000 ┆ 57     ┆ 41265 ┆ Derek Carr  ┆ … ┆ 0.02 ┆ 82.86       ┆ 90.0   ┆ null               │\n",
       "│ 2022101000 ┆ 57     ┆ 41265 ┆ Derek Carr  ┆ … ┆ 0.02 ┆ 81.67       ┆ 87.46  ┆ null               │\n",
       "│ 2022101000 ┆ 57     ┆ 41265 ┆ Derek Carr  ┆ … ┆ 0.03 ┆ 81.04       ┆ 94.36  ┆ null               │\n",
       "│ 2022101000 ┆ 57     ┆ 41265 ┆ Derek Carr  ┆ … ┆ 0.03 ┆ 79.81       ┆ 99.08  ┆ null               │\n",
       "│ 2022101000 ┆ 57     ┆ 41265 ┆ Derek Carr  ┆ … ┆ 0.03 ┆ 77.34       ┆ 96.94  ┆ null               │\n",
       "│ 2022101000 ┆ 57     ┆ 41265 ┆ Derek Carr  ┆ … ┆ 0.03 ┆ 73.05       ┆ 97.74  ┆ null               │\n",
       "│ 2022101000 ┆ 57     ┆ 41265 ┆ Derek Carr  ┆ … ┆ 0.03 ┆ 69.55       ┆ 101.54 ┆ null               │\n",
       "│ 2022101000 ┆ 57     ┆ 41265 ┆ Derek Carr  ┆ … ┆ 0.03 ┆ 64.9        ┆ 98.84  ┆ null               │\n",
       "│ 2022101000 ┆ 57     ┆ 41265 ┆ Derek Carr  ┆ … ┆ 0.02 ┆ 62.25       ┆ 100.22 ┆ null               │\n",
       "│ …          ┆ …      ┆ …     ┆ …           ┆ … ┆ …    ┆ …           ┆ …      ┆ …                  │\n",
       "│ 2022101000 ┆ 4148   ┆ null  ┆ football    ┆ … ┆ 0.0  ┆ null        ┆ null   ┆ null               │\n",
       "│ 2022101000 ┆ 4148   ┆ null  ┆ football    ┆ … ┆ 0.0  ┆ null        ┆ null   ┆ null               │\n",
       "│ 2022101000 ┆ 4148   ┆ null  ┆ football    ┆ … ┆ 0.0  ┆ null        ┆ null   ┆ null               │\n",
       "│ 2022101000 ┆ 4148   ┆ null  ┆ football    ┆ … ┆ 0.0  ┆ null        ┆ null   ┆ null               │\n",
       "│ 2022101000 ┆ 4148   ┆ null  ┆ football    ┆ … ┆ 0.0  ┆ null        ┆ null   ┆ null               │\n",
       "│ 2022101000 ┆ 4148   ┆ null  ┆ football    ┆ … ┆ 0.0  ┆ null        ┆ null   ┆ null               │\n",
       "│ 2022101000 ┆ 4148   ┆ null  ┆ football    ┆ … ┆ 0.0  ┆ null        ┆ null   ┆ null               │\n",
       "│ 2022101000 ┆ 4148   ┆ null  ┆ football    ┆ … ┆ 0.0  ┆ null        ┆ null   ┆ null               │\n",
       "│ 2022101000 ┆ 4148   ┆ null  ┆ football    ┆ … ┆ 0.0  ┆ null        ┆ null   ┆ null               │\n",
       "│ 2022101000 ┆ 4148   ┆ null  ┆ football    ┆ … ┆ 0.0  ┆ null        ┆ null   ┆ null               │\n",
       "│ 2022101000 ┆ 4148   ┆ null  ┆ football    ┆ … ┆ 0.0  ┆ null        ┆ null   ┆ null               │\n",
       "│ 2022101000 ┆ 4148   ┆ null  ┆ football    ┆ … ┆ 0.0  ┆ null        ┆ null   ┆ null               │\n",
       "│ 2022101000 ┆ 4148   ┆ null  ┆ football    ┆ … ┆ 0.0  ┆ null        ┆ null   ┆ null               │\n",
       "│ 2022101000 ┆ 4148   ┆ null  ┆ football    ┆ … ┆ 0.0  ┆ null        ┆ null   ┆ null               │\n",
       "│ 2022101000 ┆ 4148   ┆ null  ┆ football    ┆ … ┆ 0.0  ┆ null        ┆ null   ┆ null               │\n",
       "│ 2022101000 ┆ 4148   ┆ null  ┆ football    ┆ … ┆ 0.0  ┆ null        ┆ null   ┆ null               │\n",
       "│ 2022101000 ┆ 4148   ┆ null  ┆ football    ┆ … ┆ 0.0  ┆ null        ┆ null   ┆ null               │\n",
       "│ 2022101000 ┆ 4148   ┆ null  ┆ football    ┆ … ┆ 0.0  ┆ null        ┆ null   ┆ null               │\n",
       "│ 2022101000 ┆ 4148   ┆ null  ┆ football    ┆ … ┆ 0.0  ┆ null        ┆ null   ┆ null               │\n",
       "│ 2022101000 ┆ 4148   ┆ null  ┆ football    ┆ … ┆ 0.0  ┆ null        ┆ null   ┆ null               │\n",
       "│ 2022101000 ┆ 4148   ┆ null  ┆ football    ┆ … ┆ 0.0  ┆ null        ┆ null   ┆ null               │\n",
       "│ 2022101000 ┆ 4148   ┆ null  ┆ football    ┆ … ┆ 0.0  ┆ null        ┆ null   ┆ null               │\n",
       "│ 2022101000 ┆ 4148   ┆ null  ┆ football    ┆ … ┆ 0.0  ┆ null        ┆ null   ┆ null               │\n",
       "│ 2022101000 ┆ 4148   ┆ null  ┆ football    ┆ … ┆ 0.0  ┆ null        ┆ null   ┆ null               │\n",
       "│ 2022101000 ┆ 4148   ┆ null  ┆ football    ┆ … ┆ 0.0  ┆ null        ┆ null   ┆ line_set           │\n",
       "│ 2022101000 ┆ 4148   ┆ null  ┆ football    ┆ … ┆ 0.0  ┆ null        ┆ null   ┆ null               │\n",
       "│ 2022101000 ┆ 4148   ┆ null  ┆ football    ┆ … ┆ 0.0  ┆ null        ┆ null   ┆ null               │\n",
       "│ 2022101000 ┆ 4148   ┆ null  ┆ football    ┆ … ┆ 0.0  ┆ null        ┆ null   ┆ null               │\n",
       "│ 2022101000 ┆ 4148   ┆ null  ┆ football    ┆ … ┆ 0.0  ┆ null        ┆ null   ┆ null               │\n",
       "│ 2022101000 ┆ 4148   ┆ null  ┆ football    ┆ … ┆ 0.0  ┆ null        ┆ null   ┆ null               │\n",
       "│ 2022101000 ┆ 4148   ┆ null  ┆ football    ┆ … ┆ 0.0  ┆ null        ┆ null   ┆ null               │\n",
       "│ 2022101000 ┆ 4148   ┆ null  ┆ football    ┆ … ┆ 0.0  ┆ null        ┆ null   ┆ null               │\n",
       "│ 2022101000 ┆ 4148   ┆ null  ┆ football    ┆ … ┆ 0.0  ┆ null        ┆ null   ┆ null               │\n",
       "│ 2022101000 ┆ 4148   ┆ null  ┆ football    ┆ … ┆ 0.0  ┆ null        ┆ null   ┆ null               │\n",
       "│ 2022101000 ┆ 4148   ┆ null  ┆ football    ┆ … ┆ 0.0  ┆ null        ┆ null   ┆ null               │\n",
       "│ 2022101000 ┆ 4148   ┆ null  ┆ football    ┆ … ┆ 0.0  ┆ null        ┆ null   ┆ null               │\n",
       "│ 2022101000 ┆ 4148   ┆ null  ┆ football    ┆ … ┆ 0.0  ┆ null        ┆ null   ┆ null               │\n",
       "│ 2022101000 ┆ 4148   ┆ null  ┆ football    ┆ … ┆ 0.0  ┆ null        ┆ null   ┆ null               │\n",
       "│ 2022101000 ┆ 4148   ┆ null  ┆ football    ┆ … ┆ 0.0  ┆ null        ┆ null   ┆ null               │\n",
       "│ 2022101000 ┆ 4148   ┆ null  ┆ football    ┆ … ┆ 0.0  ┆ null        ┆ null   ┆ null               │\n",
       "│ 2022101000 ┆ 4148   ┆ null  ┆ football    ┆ … ┆ 0.0  ┆ null        ┆ null   ┆ ball_snap          │\n",
       "│ 2022101000 ┆ 4148   ┆ null  ┆ football    ┆ … ┆ 0.0  ┆ null        ┆ null   ┆ null               │\n",
       "│ 2022101000 ┆ 4148   ┆ null  ┆ football    ┆ … ┆ 0.0  ┆ null        ┆ null   ┆ null               │\n",
       "│ 2022101000 ┆ 4148   ┆ null  ┆ football    ┆ … ┆ 0.01 ┆ null        ┆ null   ┆ null               │\n",
       "│ 2022101000 ┆ 4148   ┆ null  ┆ football    ┆ … ┆ 0.0  ┆ null        ┆ null   ┆ null               │\n",
       "│ 2022101000 ┆ 4148   ┆ null  ┆ football    ┆ … ┆ 0.01 ┆ null        ┆ null   ┆ qb_kneel           │\n",
       "│ 2022101000 ┆ 4148   ┆ null  ┆ football    ┆ … ┆ 0.02 ┆ null        ┆ null   ┆ null               │\n",
       "│ 2022101000 ┆ 4148   ┆ null  ┆ football    ┆ … ┆ 0.08 ┆ null        ┆ null   ┆ null               │\n",
       "│ 2022101000 ┆ 4148   ┆ null  ┆ football    ┆ … ┆ 0.14 ┆ null        ┆ null   ┆ null               │\n",
       "│ 2022101000 ┆ 4148   ┆ null  ┆ football    ┆ … ┆ 0.1  ┆ null        ┆ null   ┆ null               │\n",
       "└────────────┴────────┴───────┴─────────────┴───┴──────┴─────────────┴────────┴────────────────────┘"
      ]
     },
     "execution_count": 7,
     "metadata": {},
     "output_type": "execute_result"
    }
   ],
   "source": [
    "test_game = tracking_data.filter(\n",
    "    (pl.col(\"gameId\") == 2022101000)\n",
    ")"
   ]
  },
  {
   "cell_type": "code",
   "execution_count": 49,
   "metadata": {},
   "outputs": [
    {
     "name": "stdout",
     "output_type": "stream",
     "text": [
      "Processed playId: 2155 -- TE Travis Kelce moved 4.21 yards to the right.\n",
      "Processed playId: 747 -- WR Davante Adams moved 2.05 yards to the right.\n",
      "Processed playId: 57 -- WR Mack Hollins moved 17.7 yards to the right.\n",
      "Processed playId: 3837 -- RB Jerick McKinnon moved 3.23 yards to the left.\n",
      "Processed playId: 2071 -- WR Skyy Moore moved 15.32 yards to the right.\n",
      "Processed playId: 812 -- WR Hunter Renfrow moved 14.94 yards to the right.\n",
      "Processed playId: 516 -- TE Travis Kelce moved 9.44 yards to the left.\n",
      "Processed playId: 2227 -- WR Mecole Hardman moved 7.76 yards to the right.\n",
      "Processed playId: 2176 -- WR JuJu Smith-Schuster moved 14.67 yards to the right.\n",
      "Processed playId: 224 -- WR JuJu Smith-Schuster moved 19.11 yards to the left.\n",
      "Processed playId: 2631 -- WR Mecole Hardman moved 1.66 yards to the right.\n"
     ]
    }
   ],
   "source": [
    "analyze_man_in_motion(test_game, players)"
   ]
  }
 ],
 "metadata": {
  "kernelspec": {
   "display_name": "Python 3",
   "language": "python",
   "name": "python3"
  },
  "language_info": {
   "codemirror_mode": {
    "name": "ipython",
    "version": 3
   },
   "file_extension": ".py",
   "mimetype": "text/x-python",
   "name": "python",
   "nbconvert_exporter": "python",
   "pygments_lexer": "ipython3",
   "version": "3.10.1"
  }
 },
 "nbformat": 4,
 "nbformat_minor": 2
}
