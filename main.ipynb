{
 "cells": [
  {
   "cell_type": "markdown",
   "metadata": {},
   "source": [
    "### Setup"
   ]
  },
  {
   "cell_type": "code",
   "execution_count": 1,
   "metadata": {},
   "outputs": [],
   "source": [
    "import polars as pl\n",
    "from sklearn.model_selection import train_test_split\n",
    "from sklearn.ensemble import RandomForestClassifier\n",
    "from sklearn.metrics import classification_report\n",
    "import glob"
   ]
  },
  {
   "cell_type": "code",
   "execution_count": 2,
   "metadata": {},
   "outputs": [
    {
     "data": {
      "text/plain": [
       "polars.config.Config"
      ]
     },
     "execution_count": 2,
     "metadata": {},
     "output_type": "execute_result"
    }
   ],
   "source": [
    "pl.Config.set_tbl_rows(100)"
   ]
  },
  {
   "cell_type": "markdown",
   "metadata": {},
   "source": [
    "### Load Dataframes"
   ]
  },
  {
   "cell_type": "code",
   "execution_count": 74,
   "metadata": {},
   "outputs": [],
   "source": [
    "player_plays = pl.read_csv(\"data/player_play.csv\", null_values=[\"NA\"])\n",
    "games = pl.read_csv(\"data/games.csv\", null_values=[\"NA\"])\n",
    "plays = pl.read_csv(\"data/plays.csv\", null_values=[\"NA\"])\n",
    "players = pl.read_csv(\"data/players.csv\", null_values=[\"NA\"])"
   ]
  },
  {
   "cell_type": "code",
   "execution_count": 4,
   "metadata": {},
   "outputs": [],
   "source": [
    "tracking_files = glob.glob(\"data/tracking_week_*.csv\")\n",
    "tracking_data = pl.concat([pl.read_csv(f, null_values= [\"NA\"]) for f in tracking_files])"
   ]
  },
  {
   "cell_type": "markdown",
   "metadata": {},
   "source": [
    "### Exploration"
   ]
  },
  {
   "cell_type": "code",
   "execution_count": null,
   "metadata": {},
   "outputs": [],
   "source": [
    "player_plays.head(3)"
   ]
  },
  {
   "cell_type": "code",
   "execution_count": null,
   "metadata": {},
   "outputs": [],
   "source": [
    "player_plays.columns"
   ]
  },
  {
   "cell_type": "code",
   "execution_count": null,
   "metadata": {},
   "outputs": [],
   "source": [
    "games.head(2)"
   ]
  },
  {
   "cell_type": "code",
   "execution_count": null,
   "metadata": {},
   "outputs": [],
   "source": [
    "games.columns"
   ]
  },
  {
   "cell_type": "code",
   "execution_count": null,
   "metadata": {},
   "outputs": [],
   "source": [
    "players.head(3)"
   ]
  },
  {
   "cell_type": "code",
   "execution_count": null,
   "metadata": {},
   "outputs": [],
   "source": [
    "plays.head(3)"
   ]
  },
  {
   "cell_type": "code",
   "execution_count": null,
   "metadata": {},
   "outputs": [],
   "source": [
    "plays.columns"
   ]
  },
  {
   "cell_type": "code",
   "execution_count": null,
   "metadata": {},
   "outputs": [],
   "source": [
    "tracking_data.head(3)"
   ]
  },
  {
   "cell_type": "code",
   "execution_count": null,
   "metadata": {},
   "outputs": [],
   "source": [
    "tracking_data.columns"
   ]
  },
  {
   "cell_type": "markdown",
   "metadata": {},
   "source": [
    "### Feature Engineering"
   ]
  },
  {
   "cell_type": "code",
   "execution_count": 5,
   "metadata": {},
   "outputs": [],
   "source": [
    "# Rename columns in `tracking_data`\n",
    "tracking_data = tracking_data.rename({\"s\":\"yardsPerSecond\", \"a\":\"acceleration\",\"o\":\"orientation\"})"
   ]
  },
  {
   "cell_type": "code",
   "execution_count": 6,
   "metadata": {},
   "outputs": [
    {
     "data": {
      "text/html": [
       "<div><style>\n",
       ".dataframe > thead > tr,\n",
       ".dataframe > tbody > tr {\n",
       "  text-align: right;\n",
       "  white-space: pre-wrap;\n",
       "}\n",
       "</style>\n",
       "<small>shape: (3,)</small><table border=\"1\" class=\"dataframe\"><thead><tr><th>frameType</th></tr><tr><td>str</td></tr></thead><tbody><tr><td>&quot;BEFORE_SNAP&quot;</td></tr><tr><td>&quot;AFTER_SNAP&quot;</td></tr><tr><td>&quot;SNAP&quot;</td></tr></tbody></table></div>"
      ],
      "text/plain": [
       "shape: (3,)\n",
       "Series: 'frameType' [str]\n",
       "[\n",
       "\t\"BEFORE_SNAP\"\n",
       "\t\"AFTER_SNAP\"\n",
       "\t\"SNAP\"\n",
       "]"
      ]
     },
     "execution_count": 6,
     "metadata": {},
     "output_type": "execute_result"
    }
   ],
   "source": [
    "tracking_data['frameType'].unique()"
   ]
  },
  {
   "cell_type": "markdown",
   "metadata": {},
   "source": [
    "##### Presnap movements "
   ]
  },
  {
   "cell_type": "code",
   "execution_count": 7,
   "metadata": {},
   "outputs": [],
   "source": [
    "presnap_movements = tracking_data.filter(\n",
    "    (pl.col(\"frameType\") == \"BEFORE_SNAP\")\n",
    ")"
   ]
  },
  {
   "cell_type": "code",
   "execution_count": 11,
   "metadata": {},
   "outputs": [],
   "source": [
    "df = presnap_movements.filter(\n",
    "    (pl.col(\"gameId\") == 2022101000) & \n",
    "    (pl.col(\"event\") == \"man_in_motion\")\n",
    ")"
   ]
  },
  {
   "cell_type": "code",
   "execution_count": 62,
   "metadata": {},
   "outputs": [],
   "source": [
    "snap = tracking_data.filter(\n",
    "    (pl.col(\"gameId\") == 2022101000) &\n",
    "    (pl.col(\"frameType\") == \"SNAP\")\n",
    ")"
   ]
  },
  {
   "cell_type": "code",
   "execution_count": 64,
   "metadata": {},
   "outputs": [],
   "source": [
    "unique_plays = snap[\"playId\"].unique()"
   ]
  },
  {
   "cell_type": "code",
   "execution_count": 65,
   "metadata": {},
   "outputs": [
    {
     "data": {
      "text/html": [
       "<div><style>\n",
       ".dataframe > thead > tr,\n",
       ".dataframe > tbody > tr {\n",
       "  text-align: right;\n",
       "  white-space: pre-wrap;\n",
       "}\n",
       "</style>\n",
       "<small>shape: (121,)</small><table border=\"1\" class=\"dataframe\"><thead><tr><th>playId</th></tr><tr><td>i64</td></tr></thead><tbody><tr><td>57</td></tr><tr><td>110</td></tr><tr><td>132</td></tr><tr><td>181</td></tr><tr><td>202</td></tr><tr><td>224</td></tr><tr><td>268</td></tr><tr><td>287</td></tr><tr><td>343</td></tr><tr><td>367</td></tr><tr><td>423</td></tr><tr><td>447</td></tr><tr><td>471</td></tr><tr><td>495</td></tr><tr><td>516</td></tr><tr><td>545</td></tr><tr><td>573</td></tr><tr><td>594</td></tr><tr><td>616</td></tr><tr><td>638</td></tr><tr><td>681</td></tr><tr><td>702</td></tr><tr><td>723</td></tr><tr><td>747</td></tr><tr><td>768</td></tr><tr><td>789</td></tr><tr><td>812</td></tr><tr><td>893</td></tr><tr><td>947</td></tr><tr><td>969</td></tr><tr><td>1022</td></tr><tr><td>1043</td></tr><tr><td>1067</td></tr><tr><td>1108</td></tr><tr><td>1129</td></tr><tr><td>1150</td></tr><tr><td>1172</td></tr><tr><td>1201</td></tr><tr><td>1266</td></tr><tr><td>1288</td></tr><tr><td>1310</td></tr><tr><td>1345</td></tr><tr><td>1364</td></tr><tr><td>1385</td></tr><tr><td>1406</td></tr><tr><td>1427</td></tr><tr><td>1451</td></tr><tr><td>1475</td></tr><tr><td>1500</td></tr><tr><td>1593</td></tr><tr><td>&hellip;</td></tr><tr><td>2515</td></tr><tr><td>2548</td></tr><tr><td>2588</td></tr><tr><td>2609</td></tr><tr><td>2631</td></tr><tr><td>2660</td></tr><tr><td>2688</td></tr><tr><td>2709</td></tr><tr><td>2749</td></tr><tr><td>2768</td></tr><tr><td>2842</td></tr><tr><td>2866</td></tr><tr><td>2889</td></tr><tr><td>2910</td></tr><tr><td>2941</td></tr><tr><td>2979</td></tr><tr><td>3003</td></tr><tr><td>3083</td></tr><tr><td>3104</td></tr><tr><td>3183</td></tr><tr><td>3223</td></tr><tr><td>3263</td></tr><tr><td>3284</td></tr><tr><td>3305</td></tr><tr><td>3327</td></tr><tr><td>3386</td></tr><tr><td>3407</td></tr><tr><td>3436</td></tr><tr><td>3465</td></tr><tr><td>3526</td></tr><tr><td>3550</td></tr><tr><td>3572</td></tr><tr><td>3601</td></tr><tr><td>3625</td></tr><tr><td>3648</td></tr><tr><td>3674</td></tr><tr><td>3740</td></tr><tr><td>3764</td></tr><tr><td>3785</td></tr><tr><td>3809</td></tr><tr><td>3837</td></tr><tr><td>3885</td></tr><tr><td>3906</td></tr><tr><td>3927</td></tr><tr><td>3980</td></tr><tr><td>4001</td></tr><tr><td>4023</td></tr><tr><td>4047</td></tr><tr><td>4126</td></tr><tr><td>4148</td></tr></tbody></table></div>"
      ],
      "text/plain": [
       "shape: (121,)\n",
       "Series: 'playId' [i64]\n",
       "[\n",
       "\t57\n",
       "\t110\n",
       "\t132\n",
       "\t181\n",
       "\t202\n",
       "\t224\n",
       "\t268\n",
       "\t287\n",
       "\t343\n",
       "\t367\n",
       "\t423\n",
       "\t447\n",
       "\t471\n",
       "\t495\n",
       "\t516\n",
       "\t545\n",
       "\t573\n",
       "\t594\n",
       "\t616\n",
       "\t638\n",
       "\t681\n",
       "\t702\n",
       "\t723\n",
       "\t747\n",
       "\t768\n",
       "\t789\n",
       "\t812\n",
       "\t893\n",
       "\t947\n",
       "\t969\n",
       "\t1022\n",
       "\t1043\n",
       "\t1067\n",
       "\t1108\n",
       "\t1129\n",
       "\t1150\n",
       "\t1172\n",
       "\t1201\n",
       "\t1266\n",
       "\t1288\n",
       "\t1310\n",
       "\t1345\n",
       "\t1364\n",
       "\t1385\n",
       "\t1406\n",
       "\t1427\n",
       "\t1451\n",
       "\t1475\n",
       "\t1500\n",
       "\t1593\n",
       "\t…\n",
       "\t2515\n",
       "\t2548\n",
       "\t2588\n",
       "\t2609\n",
       "\t2631\n",
       "\t2660\n",
       "\t2688\n",
       "\t2709\n",
       "\t2749\n",
       "\t2768\n",
       "\t2842\n",
       "\t2866\n",
       "\t2889\n",
       "\t2910\n",
       "\t2941\n",
       "\t2979\n",
       "\t3003\n",
       "\t3083\n",
       "\t3104\n",
       "\t3183\n",
       "\t3223\n",
       "\t3263\n",
       "\t3284\n",
       "\t3305\n",
       "\t3327\n",
       "\t3386\n",
       "\t3407\n",
       "\t3436\n",
       "\t3465\n",
       "\t3526\n",
       "\t3550\n",
       "\t3572\n",
       "\t3601\n",
       "\t3625\n",
       "\t3648\n",
       "\t3674\n",
       "\t3740\n",
       "\t3764\n",
       "\t3785\n",
       "\t3809\n",
       "\t3837\n",
       "\t3885\n",
       "\t3906\n",
       "\t3927\n",
       "\t3980\n",
       "\t4001\n",
       "\t4023\n",
       "\t4047\n",
       "\t4126\n",
       "\t4148\n",
       "]"
      ]
     },
     "execution_count": 65,
     "metadata": {},
     "output_type": "execute_result"
    }
   ],
   "source": [
    "unique_plays"
   ]
  },
  {
   "cell_type": "code",
   "execution_count": 71,
   "metadata": {},
   "outputs": [],
   "source": [
    "df = df.filter(\n",
    "    (pl.col(\"playId\") == 100)\n",
    ")"
   ]
  },
  {
   "cell_type": "code",
   "execution_count": 72,
   "metadata": {},
   "outputs": [
    {
     "data": {
      "text/html": [
       "<div><style>\n",
       ".dataframe > thead > tr,\n",
       ".dataframe > tbody > tr {\n",
       "  text-align: right;\n",
       "  white-space: pre-wrap;\n",
       "}\n",
       "</style>\n",
       "<small>shape: (0, 18)</small><table border=\"1\" class=\"dataframe\"><thead><tr><th>gameId</th><th>playId</th><th>nflId</th><th>displayName</th><th>frameId</th><th>frameType</th><th>time</th><th>jerseyNumber</th><th>club</th><th>playDirection</th><th>x</th><th>y</th><th>yardsPerSecond</th><th>acceleration</th><th>dis</th><th>orientation</th><th>dir</th><th>event</th></tr><tr><td>i64</td><td>i64</td><td>i64</td><td>str</td><td>i64</td><td>str</td><td>str</td><td>i64</td><td>str</td><td>str</td><td>f64</td><td>f64</td><td>f64</td><td>f64</td><td>f64</td><td>f64</td><td>f64</td><td>str</td></tr></thead><tbody></tbody></table></div>"
      ],
      "text/plain": [
       "shape: (0, 18)\n",
       "┌────────┬────────┬───────┬─────────────┬───┬─────┬─────────────┬─────┬───────┐\n",
       "│ gameId ┆ playId ┆ nflId ┆ displayName ┆ … ┆ dis ┆ orientation ┆ dir ┆ event │\n",
       "│ ---    ┆ ---    ┆ ---   ┆ ---         ┆   ┆ --- ┆ ---         ┆ --- ┆ ---   │\n",
       "│ i64    ┆ i64    ┆ i64   ┆ str         ┆   ┆ f64 ┆ f64         ┆ f64 ┆ str   │\n",
       "╞════════╪════════╪═══════╪═════════════╪═══╪═════╪═════════════╪═════╪═══════╡\n",
       "└────────┴────────┴───────┴─────────────┴───┴─────┴─────────────┴─────┴───────┘"
      ]
     },
     "execution_count": 72,
     "metadata": {},
     "output_type": "execute_result"
    }
   ],
   "source": [
    "df"
   ]
  },
  {
   "cell_type": "code",
   "execution_count": 66,
   "metadata": {},
   "outputs": [],
   "source": [
    "snap = snap.filter(\n",
    "    (pl.col(\"playId\") == 4148)\n",
    ")"
   ]
  },
  {
   "cell_type": "code",
   "execution_count": 69,
   "metadata": {},
   "outputs": [
    {
     "data": {
      "text/html": [
       "<div><style>\n",
       ".dataframe > thead > tr,\n",
       ".dataframe > tbody > tr {\n",
       "  text-align: right;\n",
       "  white-space: pre-wrap;\n",
       "}\n",
       "</style>\n",
       "<small>shape: (23, 18)</small><table border=\"1\" class=\"dataframe\"><thead><tr><th>gameId</th><th>playId</th><th>nflId</th><th>displayName</th><th>frameId</th><th>frameType</th><th>time</th><th>jerseyNumber</th><th>club</th><th>playDirection</th><th>x</th><th>y</th><th>yardsPerSecond</th><th>acceleration</th><th>dis</th><th>orientation</th><th>dir</th><th>event</th></tr><tr><td>i64</td><td>i64</td><td>i64</td><td>str</td><td>i64</td><td>str</td><td>str</td><td>i64</td><td>str</td><td>str</td><td>f64</td><td>f64</td><td>f64</td><td>f64</td><td>f64</td><td>f64</td><td>f64</td><td>str</td></tr></thead><tbody><tr><td>2022101000</td><td>4148</td><td>40039</td><td>&quot;Duron Harmon&quot;</td><td>60</td><td>&quot;SNAP&quot;</td><td>&quot;2022-10-11 03:23:10&quot;</td><td>30</td><td>&quot;LV&quot;</td><td>&quot;left&quot;</td><td>49.33</td><td>26.67</td><td>0.05</td><td>0.03</td><td>0.0</td><td>93.24</td><td>314.23</td><td>&quot;ball_snap&quot;</td></tr><tr><td>2022101000</td><td>4148</td><td>41325</td><td>&quot;Jerick McKinnon&quot;</td><td>60</td><td>&quot;SNAP&quot;</td><td>&quot;2022-10-11 03:23:10&quot;</td><td>1</td><td>&quot;KC&quot;</td><td>&quot;left&quot;</td><td>56.78</td><td>22.89</td><td>0.02</td><td>0.02</td><td>0.0</td><td>334.38</td><td>326.97</td><td>&quot;ball_snap&quot;</td></tr><tr><td>2022101000</td><td>4148</td><td>42391</td><td>&quot;Denzel Perryman&quot;</td><td>60</td><td>&quot;SNAP&quot;</td><td>&quot;2022-10-11 03:23:10&quot;</td><td>52</td><td>&quot;LV&quot;</td><td>&quot;left&quot;</td><td>52.55</td><td>25.21</td><td>0.47</td><td>0.53</td><td>0.05</td><td>98.17</td><td>86.43</td><td>&quot;ball_snap&quot;</td></tr><tr><td>2022101000</td><td>4148</td><td>42511</td><td>&quot;Michael Burton&quot;</td><td>60</td><td>&quot;SNAP&quot;</td><td>&quot;2022-10-11 03:23:10&quot;</td><td>45</td><td>&quot;KC&quot;</td><td>&quot;left&quot;</td><td>56.68</td><td>24.64</td><td>0.01</td><td>0.01</td><td>0.0</td><td>220.14</td><td>227.48</td><td>&quot;ball_snap&quot;</td></tr><tr><td>2022101000</td><td>4148</td><td>43367</td><td>&quot;Joe Thuney&quot;</td><td>60</td><td>&quot;SNAP&quot;</td><td>&quot;2022-10-11 03:23:10&quot;</td><td>62</td><td>&quot;KC&quot;</td><td>&quot;left&quot;</td><td>55.8</td><td>22.53</td><td>0.02</td><td>0.02</td><td>0.0</td><td>273.72</td><td>134.49</td><td>&quot;ball_snap&quot;</td></tr><tr><td>2022101000</td><td>4148</td><td>43411</td><td>&quot;Andrew Billings&quot;</td><td>60</td><td>&quot;SNAP&quot;</td><td>&quot;2022-10-11 03:23:10&quot;</td><td>97</td><td>&quot;LV&quot;</td><td>&quot;left&quot;</td><td>54.52</td><td>23.97</td><td>0.01</td><td>0.01</td><td>0.02</td><td>73.47</td><td>68.9</td><td>&quot;ball_snap&quot;</td></tr><tr><td>2022101000</td><td>4148</td><td>44822</td><td>&quot;Patrick Mahomes&quot;</td><td>60</td><td>&quot;SNAP&quot;</td><td>&quot;2022-10-11 03:23:10&quot;</td><td>15</td><td>&quot;KC&quot;</td><td>&quot;left&quot;</td><td>56.44</td><td>23.81</td><td>0.02</td><td>0.02</td><td>0.01</td><td>257.52</td><td>349.69</td><td>&quot;ball_snap&quot;</td></tr><tr><td>2022101000</td><td>4148</td><td>45695</td><td>&quot;Andrew Wylie&quot;</td><td>60</td><td>&quot;SNAP&quot;</td><td>&quot;2022-10-11 03:23:10&quot;</td><td>77</td><td>&quot;KC&quot;</td><td>&quot;left&quot;</td><td>55.62</td><td>25.97</td><td>0.02</td><td>0.02</td><td>0.0</td><td>272.5</td><td>128.67</td><td>&quot;ball_snap&quot;</td></tr><tr><td>2022101000</td><td>4148</td><td>46152</td><td>&quot;Orlando Brown&quot;</td><td>60</td><td>&quot;SNAP&quot;</td><td>&quot;2022-10-11 03:23:10&quot;</td><td>57</td><td>&quot;KC&quot;</td><td>&quot;left&quot;</td><td>55.69</td><td>21.5</td><td>0.07</td><td>0.07</td><td>0.01</td><td>288.15</td><td>50.74</td><td>&quot;ball_snap&quot;</td></tr><tr><td>2022101000</td><td>4148</td><td>46213</td><td>&quot;Justin Watson&quot;</td><td>60</td><td>&quot;SNAP&quot;</td><td>&quot;2022-10-11 03:23:10&quot;</td><td>84</td><td>&quot;KC&quot;</td><td>&quot;left&quot;</td><td>68.57</td><td>23.68</td><td>0.01</td><td>0.01</td><td>0.0</td><td>282.47</td><td>113.81</td><td>&quot;ball_snap&quot;</td></tr><tr><td>2022101000</td><td>4148</td><td>46214</td><td>&quot;Bilal Nichols&quot;</td><td>60</td><td>&quot;SNAP&quot;</td><td>&quot;2022-10-11 03:23:10&quot;</td><td>91</td><td>&quot;LV&quot;</td><td>&quot;left&quot;</td><td>54.43</td><td>22.61</td><td>0.14</td><td>0.05</td><td>0.02</td><td>74.05</td><td>351.3</td><td>&quot;ball_snap&quot;</td></tr><tr><td>2022101000</td><td>4148</td><td>46387</td><td>&quot;Kendal Vickers&quot;</td><td>60</td><td>&quot;SNAP&quot;</td><td>&quot;2022-10-11 03:23:10&quot;</td><td>95</td><td>&quot;LV&quot;</td><td>&quot;left&quot;</td><td>54.34</td><td>21.12</td><td>0.06</td><td>0.09</td><td>0.0</td><td>83.43</td><td>190.83</td><td>&quot;ball_snap&quot;</td></tr><tr><td>2022101000</td><td>4148</td><td>47787</td><td>&quot;Clelin Ferrell&quot;</td><td>60</td><td>&quot;SNAP&quot;</td><td>&quot;2022-10-11 03:23:10&quot;</td><td>99</td><td>&quot;LV&quot;</td><td>&quot;left&quot;</td><td>54.16</td><td>18.78</td><td>0.16</td><td>0.54</td><td>0.02</td><td>18.73</td><td>59.67</td><td>&quot;ball_snap&quot;</td></tr><tr><td>2022101000</td><td>4148</td><td>47810</td><td>&quot;Johnathan Abram&quot;</td><td>60</td><td>&quot;SNAP&quot;</td><td>&quot;2022-10-11 03:23:10&quot;</td><td>24</td><td>&quot;LV&quot;</td><td>&quot;left&quot;</td><td>50.81</td><td>20.85</td><td>0.35</td><td>0.16</td><td>0.04</td><td>68.36</td><td>47.01</td><td>&quot;ball_snap&quot;</td></tr><tr><td>2022101000</td><td>4148</td><td>47817</td><td>&quot;Rock Ya-Sin&quot;</td><td>60</td><td>&quot;SNAP&quot;</td><td>&quot;2022-10-11 03:23:10&quot;</td><td>26</td><td>&quot;LV&quot;</td><td>&quot;left&quot;</td><td>47.85</td><td>17.48</td><td>0.17</td><td>0.4</td><td>0.02</td><td>34.27</td><td>82.73</td><td>&quot;ball_snap&quot;</td></tr><tr><td>2022101000</td><td>4148</td><td>47889</td><td>&quot;Maxx Crosby&quot;</td><td>60</td><td>&quot;SNAP&quot;</td><td>&quot;2022-10-11 03:23:10&quot;</td><td>98</td><td>&quot;LV&quot;</td><td>&quot;left&quot;</td><td>54.47</td><td>24.77</td><td>0.29</td><td>1.44</td><td>0.03</td><td>102.27</td><td>215.97</td><td>&quot;ball_snap&quot;</td></tr><tr><td>2022101000</td><td>4148</td><td>47999</td><td>&quot;Nick Allegretti&quot;</td><td>60</td><td>&quot;SNAP&quot;</td><td>&quot;2022-10-11 03:23:10&quot;</td><td>73</td><td>&quot;KC&quot;</td><td>&quot;left&quot;</td><td>55.49</td><td>24.91</td><td>0.02</td><td>0.18</td><td>0.0</td><td>286.89</td><td>50.78</td><td>&quot;ball_snap&quot;</td></tr><tr><td>2022101000</td><td>4148</td><td>48683</td><td>&quot;Joe Fortson&quot;</td><td>60</td><td>&quot;SNAP&quot;</td><td>&quot;2022-10-11 03:23:10&quot;</td><td>88</td><td>&quot;KC&quot;</td><td>&quot;left&quot;</td><td>55.87</td><td>27.49</td><td>0.01</td><td>0.01</td><td>0.01</td><td>272.24</td><td>248.5</td><td>&quot;ball_snap&quot;</td></tr><tr><td>2022101000</td><td>4148</td><td>53492</td><td>&quot;Creed Humphrey&quot;</td><td>60</td><td>&quot;SNAP&quot;</td><td>&quot;2022-10-11 03:23:10&quot;</td><td>52</td><td>&quot;KC&quot;</td><td>&quot;left&quot;</td><td>55.3</td><td>23.66</td><td>0.03</td><td>0.03</td><td>0.01</td><td>267.93</td><td>215.78</td><td>&quot;ball_snap&quot;</td></tr><tr><td>2022101000</td><td>4148</td><td>53509</td><td>&quot;Divine Deablo&quot;</td><td>60</td><td>&quot;SNAP&quot;</td><td>&quot;2022-10-11 03:23:10&quot;</td><td>5</td><td>&quot;LV&quot;</td><td>&quot;left&quot;</td><td>54.36</td><td>30.23</td><td>0.46</td><td>0.87</td><td>0.04</td><td>141.4</td><td>259.6</td><td>&quot;ball_snap&quot;</td></tr><tr><td>2022101000</td><td>4148</td><td>53591</td><td>&quot;Noah Gray&quot;</td><td>60</td><td>&quot;SNAP&quot;</td><td>&quot;2022-10-11 03:23:10&quot;</td><td>83</td><td>&quot;KC&quot;</td><td>&quot;left&quot;</td><td>55.79</td><td>20.12</td><td>0.02</td><td>0.03</td><td>0.0</td><td>255.92</td><td>182.75</td><td>&quot;ball_snap&quot;</td></tr><tr><td>2022101000</td><td>4148</td><td>53596</td><td>&quot;Nate Hobbs&quot;</td><td>60</td><td>&quot;SNAP&quot;</td><td>&quot;2022-10-11 03:23:10&quot;</td><td>39</td><td>&quot;LV&quot;</td><td>&quot;left&quot;</td><td>50.56</td><td>31.96</td><td>0.26</td><td>0.33</td><td>0.03</td><td>144.85</td><td>286.51</td><td>&quot;ball_snap&quot;</td></tr><tr><td>2022101000</td><td>4148</td><td>null</td><td>&quot;football&quot;</td><td>60</td><td>&quot;SNAP&quot;</td><td>&quot;2022-10-11 03:23:10&quot;</td><td>null</td><td>&quot;football&quot;</td><td>&quot;left&quot;</td><td>55.23</td><td>23.82</td><td>0.0</td><td>0.0</td><td>0.0</td><td>null</td><td>null</td><td>&quot;ball_snap&quot;</td></tr></tbody></table></div>"
      ],
      "text/plain": [
       "shape: (23, 18)\n",
       "┌────────────┬────────┬───────┬─────────────────┬───┬──────┬─────────────┬────────┬───────────┐\n",
       "│ gameId     ┆ playId ┆ nflId ┆ displayName     ┆ … ┆ dis  ┆ orientation ┆ dir    ┆ event     │\n",
       "│ ---        ┆ ---    ┆ ---   ┆ ---             ┆   ┆ ---  ┆ ---         ┆ ---    ┆ ---       │\n",
       "│ i64        ┆ i64    ┆ i64   ┆ str             ┆   ┆ f64  ┆ f64         ┆ f64    ┆ str       │\n",
       "╞════════════╪════════╪═══════╪═════════════════╪═══╪══════╪═════════════╪════════╪═══════════╡\n",
       "│ 2022101000 ┆ 4148   ┆ 40039 ┆ Duron Harmon    ┆ … ┆ 0.0  ┆ 93.24       ┆ 314.23 ┆ ball_snap │\n",
       "│ 2022101000 ┆ 4148   ┆ 41325 ┆ Jerick McKinnon ┆ … ┆ 0.0  ┆ 334.38      ┆ 326.97 ┆ ball_snap │\n",
       "│ 2022101000 ┆ 4148   ┆ 42391 ┆ Denzel Perryman ┆ … ┆ 0.05 ┆ 98.17       ┆ 86.43  ┆ ball_snap │\n",
       "│ 2022101000 ┆ 4148   ┆ 42511 ┆ Michael Burton  ┆ … ┆ 0.0  ┆ 220.14      ┆ 227.48 ┆ ball_snap │\n",
       "│ 2022101000 ┆ 4148   ┆ 43367 ┆ Joe Thuney      ┆ … ┆ 0.0  ┆ 273.72      ┆ 134.49 ┆ ball_snap │\n",
       "│ 2022101000 ┆ 4148   ┆ 43411 ┆ Andrew Billings ┆ … ┆ 0.02 ┆ 73.47       ┆ 68.9   ┆ ball_snap │\n",
       "│ 2022101000 ┆ 4148   ┆ 44822 ┆ Patrick Mahomes ┆ … ┆ 0.01 ┆ 257.52      ┆ 349.69 ┆ ball_snap │\n",
       "│ 2022101000 ┆ 4148   ┆ 45695 ┆ Andrew Wylie    ┆ … ┆ 0.0  ┆ 272.5       ┆ 128.67 ┆ ball_snap │\n",
       "│ 2022101000 ┆ 4148   ┆ 46152 ┆ Orlando Brown   ┆ … ┆ 0.01 ┆ 288.15      ┆ 50.74  ┆ ball_snap │\n",
       "│ 2022101000 ┆ 4148   ┆ 46213 ┆ Justin Watson   ┆ … ┆ 0.0  ┆ 282.47      ┆ 113.81 ┆ ball_snap │\n",
       "│ 2022101000 ┆ 4148   ┆ 46214 ┆ Bilal Nichols   ┆ … ┆ 0.02 ┆ 74.05       ┆ 351.3  ┆ ball_snap │\n",
       "│ 2022101000 ┆ 4148   ┆ 46387 ┆ Kendal Vickers  ┆ … ┆ 0.0  ┆ 83.43       ┆ 190.83 ┆ ball_snap │\n",
       "│ 2022101000 ┆ 4148   ┆ 47787 ┆ Clelin Ferrell  ┆ … ┆ 0.02 ┆ 18.73       ┆ 59.67  ┆ ball_snap │\n",
       "│ 2022101000 ┆ 4148   ┆ 47810 ┆ Johnathan Abram ┆ … ┆ 0.04 ┆ 68.36       ┆ 47.01  ┆ ball_snap │\n",
       "│ 2022101000 ┆ 4148   ┆ 47817 ┆ Rock Ya-Sin     ┆ … ┆ 0.02 ┆ 34.27       ┆ 82.73  ┆ ball_snap │\n",
       "│ 2022101000 ┆ 4148   ┆ 47889 ┆ Maxx Crosby     ┆ … ┆ 0.03 ┆ 102.27      ┆ 215.97 ┆ ball_snap │\n",
       "│ 2022101000 ┆ 4148   ┆ 47999 ┆ Nick Allegretti ┆ … ┆ 0.0  ┆ 286.89      ┆ 50.78  ┆ ball_snap │\n",
       "│ 2022101000 ┆ 4148   ┆ 48683 ┆ Joe Fortson     ┆ … ┆ 0.01 ┆ 272.24      ┆ 248.5  ┆ ball_snap │\n",
       "│ 2022101000 ┆ 4148   ┆ 53492 ┆ Creed Humphrey  ┆ … ┆ 0.01 ┆ 267.93      ┆ 215.78 ┆ ball_snap │\n",
       "│ 2022101000 ┆ 4148   ┆ 53509 ┆ Divine Deablo   ┆ … ┆ 0.04 ┆ 141.4       ┆ 259.6  ┆ ball_snap │\n",
       "│ 2022101000 ┆ 4148   ┆ 53591 ┆ Noah Gray       ┆ … ┆ 0.0  ┆ 255.92      ┆ 182.75 ┆ ball_snap │\n",
       "│ 2022101000 ┆ 4148   ┆ 53596 ┆ Nate Hobbs      ┆ … ┆ 0.03 ┆ 144.85      ┆ 286.51 ┆ ball_snap │\n",
       "│ 2022101000 ┆ 4148   ┆ null  ┆ football        ┆ … ┆ 0.0  ┆ null        ┆ null   ┆ ball_snap │\n",
       "└────────────┴────────┴───────┴─────────────────┴───┴──────┴─────────────┴────────┴───────────┘"
      ]
     },
     "execution_count": 69,
     "metadata": {},
     "output_type": "execute_result"
    }
   ],
   "source": [
    "snap"
   ]
  },
  {
   "cell_type": "code",
   "execution_count": 58,
   "metadata": {},
   "outputs": [],
   "source": [
    "def calculate_presnap_movement(presnap:pl.DataFrame, snap:pl.DataFrame) -> pl.DataFrame:\n",
    "    merged = presnap.join(snap, on='displayName', suffix='_snap')\n",
    "    merged = merged.with_columns(\n",
    "     (pl.col(\"x\")-pl.col(\"x_snap\")).alias(\"x_dif\"),\n",
    "     (pl.col(\"y\")-pl.col(\"y_snap\")).alias(\"y_dif\")\n",
    "    ).sort((pl.col(\"y_dif\")), descending=True)\n",
    "    return merged"
   ]
  },
  {
   "cell_type": "code",
   "execution_count": 68,
   "metadata": {},
   "outputs": [
    {
     "data": {
      "text/html": [
       "<div><style>\n",
       ".dataframe > thead > tr,\n",
       ".dataframe > tbody > tr {\n",
       "  text-align: right;\n",
       "  white-space: pre-wrap;\n",
       "}\n",
       "</style>\n",
       "<small>shape: (0, 37)</small><table border=\"1\" class=\"dataframe\"><thead><tr><th>gameId</th><th>playId</th><th>nflId</th><th>displayName</th><th>frameId</th><th>frameType</th><th>time</th><th>jerseyNumber</th><th>club</th><th>playDirection</th><th>x</th><th>y</th><th>yardsPerSecond</th><th>acceleration</th><th>dis</th><th>orientation</th><th>dir</th><th>event</th><th>gameId_snap</th><th>playId_snap</th><th>nflId_snap</th><th>frameId_snap</th><th>frameType_snap</th><th>time_snap</th><th>jerseyNumber_snap</th><th>club_snap</th><th>playDirection_snap</th><th>x_snap</th><th>y_snap</th><th>yardsPerSecond_snap</th><th>acceleration_snap</th><th>dis_snap</th><th>orientation_snap</th><th>dir_snap</th><th>event_snap</th><th>x_dif</th><th>y_dif</th></tr><tr><td>i64</td><td>i64</td><td>i64</td><td>str</td><td>i64</td><td>str</td><td>str</td><td>i64</td><td>str</td><td>str</td><td>f64</td><td>f64</td><td>f64</td><td>f64</td><td>f64</td><td>f64</td><td>f64</td><td>str</td><td>i64</td><td>i64</td><td>i64</td><td>i64</td><td>str</td><td>str</td><td>i64</td><td>str</td><td>str</td><td>f64</td><td>f64</td><td>f64</td><td>f64</td><td>f64</td><td>f64</td><td>f64</td><td>str</td><td>f64</td><td>f64</td></tr></thead><tbody></tbody></table></div>"
      ],
      "text/plain": [
       "shape: (0, 37)\n",
       "┌────────┬────────┬───────┬─────────────┬───┬──────────┬────────────┬───────┬───────┐\n",
       "│ gameId ┆ playId ┆ nflId ┆ displayName ┆ … ┆ dir_snap ┆ event_snap ┆ x_dif ┆ y_dif │\n",
       "│ ---    ┆ ---    ┆ ---   ┆ ---         ┆   ┆ ---      ┆ ---        ┆ ---   ┆ ---   │\n",
       "│ i64    ┆ i64    ┆ i64   ┆ str         ┆   ┆ f64      ┆ str        ┆ f64   ┆ f64   │\n",
       "╞════════╪════════╪═══════╪═════════════╪═══╪══════════╪════════════╪═══════╪═══════╡\n",
       "└────────┴────────┴───────┴─────────────┴───┴──────────┴────────────┴───────┴───────┘"
      ]
     },
     "execution_count": 68,
     "metadata": {},
     "output_type": "execute_result"
    }
   ],
   "source": [
    "new = calculate_presnap_movement(df, snap)\n",
    "new"
   ]
  }
 ],
 "metadata": {
  "kernelspec": {
   "display_name": "Python 3",
   "language": "python",
   "name": "python3"
  },
  "language_info": {
   "codemirror_mode": {
    "name": "ipython",
    "version": 3
   },
   "file_extension": ".py",
   "mimetype": "text/x-python",
   "name": "python",
   "nbconvert_exporter": "python",
   "pygments_lexer": "ipython3",
   "version": "3.9.7"
  }
 },
 "nbformat": 4,
 "nbformat_minor": 2
}
