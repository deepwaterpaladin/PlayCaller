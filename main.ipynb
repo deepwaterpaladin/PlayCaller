{
 "cells": [
  {
   "cell_type": "code",
   "execution_count": 1,
   "metadata": {},
   "outputs": [],
   "source": [
    "import polars as pl\n",
    "from sklearn.model_selection import train_test_split\n",
    "from sklearn.ensemble import RandomForestClassifier\n",
    "from sklearn.metrics import classification_report\n",
    "import glob\n"
   ]
  },
  {
   "cell_type": "code",
   "execution_count": 27,
   "metadata": {},
   "outputs": [],
   "source": [
    "player_plays = pl.read_csv(\n",
    "    \"data/player_play.csv\",\n",
    "    # columns=[\n",
    "    #     \"gameId\", \"playId\", \"nflId\", \"teamAbbr\", \"hadRushAttempt\", \"rushingYards\",\n",
    "    #     \"hadDropback\", \"passingYards\", \"sackYardsAsOffense\", \"hadPassReception\",\n",
    "    #     \"receivingYards\", \"wasTargettedReceiver\", \"yardageGainedAfterTheCatch\", \n",
    "    #     \"forcedFumbleAsDefense\", \"quarterbackHit\", \"sackYardsAsDefense\", \"soloTackle\", \n",
    "    #     \"tackleForALoss\", \"tackleForALossYardage\", \"hadInterception\", \"penaltyYards\", \n",
    "    #     \"wasInitialPassRusher\", \"causedPressure\", \"inMotionAtBallSnap\", \"shiftSinceLineset\", \n",
    "    #     \"motionSinceLineset\", \"wasRunningRoute\", \"routeRan\", \"pressureAllowedAsBlocker\",\n",
    "    #     \"pff_defensiveCoverageAssignment\", \"pff_primaryDefensiveCoverageMatchupNflId\"\n",
    "    # ]\n",
    ")"
   ]
  },
  {
   "cell_type": "markdown",
   "metadata": {},
   "source": [
    "Why is route-running effeiency important? Easy – take a look at timeToPressureAsPassRusher & tackleForALoss. What is the average time a QB has to get a pass off before he's sacked. On "
   ]
  },
  {
   "cell_type": "code",
   "execution_count": 42,
   "metadata": {},
   "outputs": [
    {
     "data": {
      "text/html": [
       "<div><style>\n",
       ".dataframe > thead > tr,\n",
       ".dataframe > tbody > tr {\n",
       "  text-align: right;\n",
       "  white-space: pre-wrap;\n",
       "}\n",
       "</style>\n",
       "<small>shape: (1_160, 50)</small><table border=\"1\" class=\"dataframe\"><thead><tr><th>gameId</th><th>playId</th><th>nflId</th><th>teamAbbr</th><th>hadRushAttempt</th><th>rushingYards</th><th>hadDropback</th><th>passingYards</th><th>sackYardsAsOffense</th><th>hadPassReception</th><th>receivingYards</th><th>wasTargettedReceiver</th><th>yardageGainedAfterTheCatch</th><th>fumbles</th><th>fumbleLost</th><th>fumbleOutOfBounds</th><th>assistedTackle</th><th>forcedFumbleAsDefense</th><th>halfSackYardsAsDefense</th><th>passDefensed</th><th>quarterbackHit</th><th>sackYardsAsDefense</th><th>safetyAsDefense</th><th>soloTackle</th><th>tackleAssist</th><th>tackleForALoss</th><th>tackleForALossYardage</th><th>hadInterception</th><th>interceptionYards</th><th>fumbleRecoveries</th><th>fumbleRecoveryYards</th><th>penaltyYards</th><th>penaltyNames</th><th>wasInitialPassRusher</th><th>causedPressure</th><th>timeToPressureAsPassRusher</th><th>getOffTimeAsPassRusher</th><th>inMotionAtBallSnap</th><th>shiftSinceLineset</th><th>motionSinceLineset</th><th>wasRunningRoute</th><th>routeRan</th><th>blockedPlayerNFLId1</th><th>blockedPlayerNFLId2</th><th>blockedPlayerNFLId3</th><th>pressureAllowedAsBlocker</th><th>timeToPressureAllowedAsBlocker</th><th>pff_defensiveCoverageAssignment</th><th>pff_primaryDefensiveCoverageMatchupNflId</th><th>pff_secondaryDefensiveCoverageMatchupNflId</th></tr><tr><td>i64</td><td>i64</td><td>i64</td><td>str</td><td>i64</td><td>i64</td><td>i64</td><td>i64</td><td>i64</td><td>i64</td><td>i64</td><td>i64</td><td>i64</td><td>i64</td><td>i64</td><td>i64</td><td>i64</td><td>i64</td><td>i64</td><td>i64</td><td>i64</td><td>i64</td><td>i64</td><td>i64</td><td>i64</td><td>i64</td><td>i64</td><td>i64</td><td>i64</td><td>i64</td><td>i64</td><td>i64</td><td>str</td><td>str</td><td>bool</td><td>str</td><td>str</td><td>str</td><td>str</td><td>str</td><td>str</td><td>str</td><td>str</td><td>str</td><td>str</td><td>str</td><td>str</td><td>str</td><td>str</td><td>str</td></tr></thead><tbody><tr><td>2022090800</td><td>467</td><td>37075</td><td>&quot;BUF&quot;</td><td>0</td><td>0</td><td>0</td><td>0</td><td>0</td><td>0</td><td>0</td><td>0</td><td>0</td><td>0</td><td>0</td><td>0</td><td>0</td><td>0</td><td>0</td><td>0</td><td>1</td><td>-8</td><td>0</td><td>1</td><td>0</td><td>1</td><td>8</td><td>0</td><td>0</td><td>0</td><td>0</td><td>0</td><td>&quot;NA&quot;</td><td>&quot;1&quot;</td><td>true</td><td>&quot;2.5&quot;</td><td>&quot;0.935999989509583&quot;</td><td>&quot;NA&quot;</td><td>&quot;NA&quot;</td><td>&quot;NA&quot;</td><td>&quot;NA&quot;</td><td>&quot;NA&quot;</td><td>&quot;NA&quot;</td><td>&quot;NA&quot;</td><td>&quot;NA&quot;</td><td>&quot;NA&quot;</td><td>&quot;NA&quot;</td><td>&quot;NA&quot;</td><td>&quot;NA&quot;</td><td>&quot;NA&quot;</td></tr><tr><td>2022090800</td><td>550</td><td>41239</td><td>&quot;LA&quot;</td><td>0</td><td>0</td><td>0</td><td>0</td><td>0</td><td>0</td><td>0</td><td>0</td><td>0</td><td>0</td><td>0</td><td>0</td><td>0</td><td>0</td><td>0</td><td>0</td><td>1</td><td>-1</td><td>0</td><td>1</td><td>0</td><td>1</td><td>1</td><td>0</td><td>0</td><td>0</td><td>0</td><td>0</td><td>&quot;NA&quot;</td><td>&quot;1&quot;</td><td>true</td><td>&quot;2.29999995231628&quot;</td><td>&quot;0.845000028610229&quot;</td><td>&quot;NA&quot;</td><td>&quot;NA&quot;</td><td>&quot;NA&quot;</td><td>&quot;NA&quot;</td><td>&quot;NA&quot;</td><td>&quot;NA&quot;</td><td>&quot;NA&quot;</td><td>&quot;NA&quot;</td><td>&quot;NA&quot;</td><td>&quot;NA&quot;</td><td>&quot;NA&quot;</td><td>&quot;NA&quot;</td><td>&quot;NA&quot;</td></tr><tr><td>2022090800</td><td>1315</td><td>42395</td><td>&quot;BUF&quot;</td><td>0</td><td>0</td><td>0</td><td>0</td><td>0</td><td>0</td><td>0</td><td>0</td><td>0</td><td>0</td><td>0</td><td>0</td><td>0</td><td>0</td><td>0</td><td>0</td><td>1</td><td>-10</td><td>0</td><td>1</td><td>0</td><td>1</td><td>10</td><td>0</td><td>0</td><td>0</td><td>0</td><td>0</td><td>&quot;NA&quot;</td><td>&quot;1&quot;</td><td>true</td><td>&quot;2.20000004768372&quot;</td><td>&quot;0.994000017642975&quot;</td><td>&quot;NA&quot;</td><td>&quot;NA&quot;</td><td>&quot;NA&quot;</td><td>&quot;NA&quot;</td><td>&quot;NA&quot;</td><td>&quot;NA&quot;</td><td>&quot;NA&quot;</td><td>&quot;NA&quot;</td><td>&quot;NA&quot;</td><td>&quot;NA&quot;</td><td>&quot;NA&quot;</td><td>&quot;NA&quot;</td><td>&quot;NA&quot;</td></tr><tr><td>2022090800</td><td>1504</td><td>38577</td><td>&quot;LA&quot;</td><td>0</td><td>0</td><td>0</td><td>0</td><td>0</td><td>0</td><td>0</td><td>0</td><td>0</td><td>0</td><td>0</td><td>0</td><td>0</td><td>0</td><td>0</td><td>0</td><td>1</td><td>-4</td><td>0</td><td>1</td><td>0</td><td>1</td><td>4</td><td>0</td><td>0</td><td>0</td><td>0</td><td>0</td><td>&quot;NA&quot;</td><td>&quot;1&quot;</td><td>true</td><td>&quot;2&quot;</td><td>&quot;NA&quot;</td><td>&quot;NA&quot;</td><td>&quot;NA&quot;</td><td>&quot;NA&quot;</td><td>&quot;NA&quot;</td><td>&quot;NA&quot;</td><td>&quot;NA&quot;</td><td>&quot;NA&quot;</td><td>&quot;NA&quot;</td><td>&quot;NA&quot;</td><td>&quot;NA&quot;</td><td>&quot;NA&quot;</td><td>&quot;NA&quot;</td><td>&quot;NA&quot;</td></tr><tr><td>2022090800</td><td>1836</td><td>37075</td><td>&quot;BUF&quot;</td><td>0</td><td>0</td><td>0</td><td>0</td><td>0</td><td>0</td><td>0</td><td>0</td><td>0</td><td>0</td><td>0</td><td>0</td><td>0</td><td>0</td><td>0</td><td>0</td><td>0</td><td>0</td><td>0</td><td>1</td><td>0</td><td>1</td><td>1</td><td>0</td><td>0</td><td>0</td><td>0</td><td>0</td><td>&quot;NA&quot;</td><td>&quot;0&quot;</td><td>false</td><td>&quot;NA&quot;</td><td>&quot;NA&quot;</td><td>&quot;NA&quot;</td><td>&quot;NA&quot;</td><td>&quot;NA&quot;</td><td>&quot;NA&quot;</td><td>&quot;NA&quot;</td><td>&quot;NA&quot;</td><td>&quot;NA&quot;</td><td>&quot;NA&quot;</td><td>&quot;NA&quot;</td><td>&quot;NA&quot;</td><td>&quot;NA&quot;</td><td>&quot;NA&quot;</td><td>&quot;NA&quot;</td></tr><tr><td>&hellip;</td><td>&hellip;</td><td>&hellip;</td><td>&hellip;</td><td>&hellip;</td><td>&hellip;</td><td>&hellip;</td><td>&hellip;</td><td>&hellip;</td><td>&hellip;</td><td>&hellip;</td><td>&hellip;</td><td>&hellip;</td><td>&hellip;</td><td>&hellip;</td><td>&hellip;</td><td>&hellip;</td><td>&hellip;</td><td>&hellip;</td><td>&hellip;</td><td>&hellip;</td><td>&hellip;</td><td>&hellip;</td><td>&hellip;</td><td>&hellip;</td><td>&hellip;</td><td>&hellip;</td><td>&hellip;</td><td>&hellip;</td><td>&hellip;</td><td>&hellip;</td><td>&hellip;</td><td>&hellip;</td><td>&hellip;</td><td>&hellip;</td><td>&hellip;</td><td>&hellip;</td><td>&hellip;</td><td>&hellip;</td><td>&hellip;</td><td>&hellip;</td><td>&hellip;</td><td>&hellip;</td><td>&hellip;</td><td>&hellip;</td><td>&hellip;</td><td>&hellip;</td><td>&hellip;</td><td>&hellip;</td><td>&hellip;</td></tr><tr><td>2022110700</td><td>2465</td><td>37145</td><td>&quot;BAL&quot;</td><td>0</td><td>0</td><td>0</td><td>0</td><td>0</td><td>0</td><td>0</td><td>0</td><td>0</td><td>0</td><td>0</td><td>0</td><td>0</td><td>0</td><td>0</td><td>0</td><td>1</td><td>-2</td><td>0</td><td>1</td><td>0</td><td>1</td><td>2</td><td>0</td><td>0</td><td>0</td><td>0</td><td>0</td><td>&quot;NA&quot;</td><td>&quot;1&quot;</td><td>true</td><td>&quot;3.59999990463257&quot;</td><td>&quot;0.714999973773956&quot;</td><td>&quot;NA&quot;</td><td>&quot;NA&quot;</td><td>&quot;NA&quot;</td><td>&quot;NA&quot;</td><td>&quot;NA&quot;</td><td>&quot;NA&quot;</td><td>&quot;NA&quot;</td><td>&quot;NA&quot;</td><td>&quot;NA&quot;</td><td>&quot;NA&quot;</td><td>&quot;NA&quot;</td><td>&quot;NA&quot;</td><td>&quot;NA&quot;</td></tr><tr><td>2022110700</td><td>2637</td><td>44828</td><td>&quot;BAL&quot;</td><td>0</td><td>0</td><td>0</td><td>0</td><td>0</td><td>0</td><td>0</td><td>0</td><td>0</td><td>0</td><td>0</td><td>0</td><td>0</td><td>0</td><td>0</td><td>0</td><td>1</td><td>-9</td><td>0</td><td>1</td><td>0</td><td>1</td><td>9</td><td>0</td><td>0</td><td>0</td><td>0</td><td>0</td><td>&quot;NA&quot;</td><td>&quot;1&quot;</td><td>true</td><td>&quot;1.60000002384186&quot;</td><td>&quot;0.799000024795532&quot;</td><td>&quot;NA&quot;</td><td>&quot;NA&quot;</td><td>&quot;NA&quot;</td><td>&quot;NA&quot;</td><td>&quot;NA&quot;</td><td>&quot;NA&quot;</td><td>&quot;NA&quot;</td><td>&quot;NA&quot;</td><td>&quot;NA&quot;</td><td>&quot;NA&quot;</td><td>&quot;NA&quot;</td><td>&quot;NA&quot;</td><td>&quot;NA&quot;</td></tr><tr><td>2022110700</td><td>3037</td><td>53457</td><td>&quot;NO&quot;</td><td>0</td><td>0</td><td>0</td><td>0</td><td>0</td><td>0</td><td>0</td><td>0</td><td>0</td><td>0</td><td>0</td><td>0</td><td>0</td><td>0</td><td>0</td><td>0</td><td>0</td><td>0</td><td>0</td><td>1</td><td>0</td><td>1</td><td>4</td><td>0</td><td>0</td><td>0</td><td>0</td><td>0</td><td>&quot;NA&quot;</td><td>&quot;NA&quot;</td><td>false</td><td>&quot;NA&quot;</td><td>&quot;0.944999992847443&quot;</td><td>&quot;NA&quot;</td><td>&quot;NA&quot;</td><td>&quot;NA&quot;</td><td>&quot;NA&quot;</td><td>&quot;NA&quot;</td><td>&quot;NA&quot;</td><td>&quot;NA&quot;</td><td>&quot;NA&quot;</td><td>&quot;NA&quot;</td><td>&quot;NA&quot;</td><td>&quot;NA&quot;</td><td>&quot;NA&quot;</td><td>&quot;NA&quot;</td></tr><tr><td>2022110700</td><td>3278</td><td>33131</td><td>&quot;BAL&quot;</td><td>0</td><td>0</td><td>0</td><td>0</td><td>0</td><td>0</td><td>0</td><td>0</td><td>0</td><td>0</td><td>0</td><td>0</td><td>0</td><td>0</td><td>0</td><td>0</td><td>0</td><td>0</td><td>0</td><td>1</td><td>0</td><td>1</td><td>4</td><td>0</td><td>0</td><td>0</td><td>0</td><td>0</td><td>&quot;NA&quot;</td><td>&quot;NA&quot;</td><td>false</td><td>&quot;NA&quot;</td><td>&quot;0.665000021457672&quot;</td><td>&quot;NA&quot;</td><td>&quot;NA&quot;</td><td>&quot;NA&quot;</td><td>&quot;NA&quot;</td><td>&quot;NA&quot;</td><td>&quot;NA&quot;</td><td>&quot;NA&quot;</td><td>&quot;NA&quot;</td><td>&quot;NA&quot;</td><td>&quot;NA&quot;</td><td>&quot;NA&quot;</td><td>&quot;NA&quot;</td><td>&quot;NA&quot;</td></tr><tr><td>2022110700</td><td>3740</td><td>48537</td><td>&quot;NO&quot;</td><td>0</td><td>0</td><td>0</td><td>0</td><td>0</td><td>0</td><td>0</td><td>0</td><td>0</td><td>0</td><td>0</td><td>0</td><td>0</td><td>0</td><td>0</td><td>0</td><td>0</td><td>0</td><td>0</td><td>1</td><td>0</td><td>1</td><td>7</td><td>0</td><td>0</td><td>0</td><td>0</td><td>0</td><td>&quot;NA&quot;</td><td>&quot;NA&quot;</td><td>false</td><td>&quot;NA&quot;</td><td>&quot;0.824999988079071&quot;</td><td>&quot;NA&quot;</td><td>&quot;NA&quot;</td><td>&quot;NA&quot;</td><td>&quot;NA&quot;</td><td>&quot;NA&quot;</td><td>&quot;NA&quot;</td><td>&quot;NA&quot;</td><td>&quot;NA&quot;</td><td>&quot;NA&quot;</td><td>&quot;NA&quot;</td><td>&quot;NA&quot;</td><td>&quot;NA&quot;</td><td>&quot;NA&quot;</td></tr></tbody></table></div>"
      ],
      "text/plain": [
       "shape: (1_160, 50)\n",
       "┌────────────┬────────┬───────┬──────────┬───┬─────────────┬─────────────┬────────────┬────────────┐\n",
       "│ gameId     ┆ playId ┆ nflId ┆ teamAbbr ┆ … ┆ timeToPress ┆ pff_defensi ┆ pff_primar ┆ pff_second │\n",
       "│ ---        ┆ ---    ┆ ---   ┆ ---      ┆   ┆ ureAllowedA ┆ veCoverageA ┆ yDefensive ┆ aryDefensi │\n",
       "│ i64        ┆ i64    ┆ i64   ┆ str      ┆   ┆ sBlocker    ┆ ssignmen…   ┆ CoverageMa ┆ veCoverage │\n",
       "│            ┆        ┆       ┆          ┆   ┆ ---         ┆ ---         ┆ …          ┆ …          │\n",
       "│            ┆        ┆       ┆          ┆   ┆ str         ┆ str         ┆ ---        ┆ ---        │\n",
       "│            ┆        ┆       ┆          ┆   ┆             ┆             ┆ str        ┆ str        │\n",
       "╞════════════╪════════╪═══════╪══════════╪═══╪═════════════╪═════════════╪════════════╪════════════╡\n",
       "│ 2022090800 ┆ 467    ┆ 37075 ┆ BUF      ┆ … ┆ NA          ┆ NA          ┆ NA         ┆ NA         │\n",
       "│ 2022090800 ┆ 550    ┆ 41239 ┆ LA       ┆ … ┆ NA          ┆ NA          ┆ NA         ┆ NA         │\n",
       "│ 2022090800 ┆ 1315   ┆ 42395 ┆ BUF      ┆ … ┆ NA          ┆ NA          ┆ NA         ┆ NA         │\n",
       "│ 2022090800 ┆ 1504   ┆ 38577 ┆ LA       ┆ … ┆ NA          ┆ NA          ┆ NA         ┆ NA         │\n",
       "│ 2022090800 ┆ 1836   ┆ 37075 ┆ BUF      ┆ … ┆ NA          ┆ NA          ┆ NA         ┆ NA         │\n",
       "│ …          ┆ …      ┆ …     ┆ …        ┆ … ┆ …           ┆ …           ┆ …          ┆ …          │\n",
       "│ 2022110700 ┆ 2465   ┆ 37145 ┆ BAL      ┆ … ┆ NA          ┆ NA          ┆ NA         ┆ NA         │\n",
       "│ 2022110700 ┆ 2637   ┆ 44828 ┆ BAL      ┆ … ┆ NA          ┆ NA          ┆ NA         ┆ NA         │\n",
       "│ 2022110700 ┆ 3037   ┆ 53457 ┆ NO       ┆ … ┆ NA          ┆ NA          ┆ NA         ┆ NA         │\n",
       "│ 2022110700 ┆ 3278   ┆ 33131 ┆ BAL      ┆ … ┆ NA          ┆ NA          ┆ NA         ┆ NA         │\n",
       "│ 2022110700 ┆ 3740   ┆ 48537 ┆ NO       ┆ … ┆ NA          ┆ NA          ┆ NA         ┆ NA         │\n",
       "└────────────┴────────┴───────┴──────────┴───┴─────────────┴─────────────┴────────────┴────────────┘"
      ]
     },
     "execution_count": 42,
     "metadata": {},
     "output_type": "execute_result"
    }
   ],
   "source": [
    "tfl = player_plays.filter(\n",
    "    (pl.col(\"tackleForALoss\") == True)\n",
    ")\n",
    "tfl"
   ]
  },
  {
   "cell_type": "code",
   "execution_count": 30,
   "metadata": {},
   "outputs": [],
   "source": [
    "# Filter for plays that are relevant to quarterback scrambling (e.g., dropbacks with defensive pressures)\n",
    "scramble_plays = player_plays.filter(\n",
    "    (pl.col(\"hadDropback\") == True)\n",
    ")"
   ]
  },
  {
   "cell_type": "code",
   "execution_count": 38,
   "metadata": {},
   "outputs": [],
   "source": [
    "inMotionAtBallSnapDf = player_plays.filter(\n",
    "    (pl.col(\"inMotionAtBallSnap\") == \"TRUE\")\n",
    ")"
   ]
  },
  {
   "cell_type": "code",
   "execution_count": 39,
   "metadata": {},
   "outputs": [
    {
     "data": {
      "text/html": [
       "<div><style>\n",
       ".dataframe > thead > tr,\n",
       ".dataframe > tbody > tr {\n",
       "  text-align: right;\n",
       "  white-space: pre-wrap;\n",
       "}\n",
       "</style>\n",
       "<small>shape: (4_572, 50)</small><table border=\"1\" class=\"dataframe\"><thead><tr><th>gameId</th><th>playId</th><th>nflId</th><th>teamAbbr</th><th>hadRushAttempt</th><th>rushingYards</th><th>hadDropback</th><th>passingYards</th><th>sackYardsAsOffense</th><th>hadPassReception</th><th>receivingYards</th><th>wasTargettedReceiver</th><th>yardageGainedAfterTheCatch</th><th>fumbles</th><th>fumbleLost</th><th>fumbleOutOfBounds</th><th>assistedTackle</th><th>forcedFumbleAsDefense</th><th>halfSackYardsAsDefense</th><th>passDefensed</th><th>quarterbackHit</th><th>sackYardsAsDefense</th><th>safetyAsDefense</th><th>soloTackle</th><th>tackleAssist</th><th>tackleForALoss</th><th>tackleForALossYardage</th><th>hadInterception</th><th>interceptionYards</th><th>fumbleRecoveries</th><th>fumbleRecoveryYards</th><th>penaltyYards</th><th>penaltyNames</th><th>wasInitialPassRusher</th><th>causedPressure</th><th>timeToPressureAsPassRusher</th><th>getOffTimeAsPassRusher</th><th>inMotionAtBallSnap</th><th>shiftSinceLineset</th><th>motionSinceLineset</th><th>wasRunningRoute</th><th>routeRan</th><th>blockedPlayerNFLId1</th><th>blockedPlayerNFLId2</th><th>blockedPlayerNFLId3</th><th>pressureAllowedAsBlocker</th><th>timeToPressureAllowedAsBlocker</th><th>pff_defensiveCoverageAssignment</th><th>pff_primaryDefensiveCoverageMatchupNflId</th><th>pff_secondaryDefensiveCoverageMatchupNflId</th></tr><tr><td>i64</td><td>i64</td><td>i64</td><td>str</td><td>i64</td><td>i64</td><td>i64</td><td>i64</td><td>i64</td><td>i64</td><td>i64</td><td>i64</td><td>i64</td><td>i64</td><td>i64</td><td>i64</td><td>i64</td><td>i64</td><td>i64</td><td>i64</td><td>i64</td><td>i64</td><td>i64</td><td>i64</td><td>i64</td><td>i64</td><td>i64</td><td>i64</td><td>i64</td><td>i64</td><td>i64</td><td>i64</td><td>str</td><td>str</td><td>bool</td><td>str</td><td>str</td><td>str</td><td>str</td><td>str</td><td>str</td><td>str</td><td>str</td><td>str</td><td>str</td><td>str</td><td>str</td><td>str</td><td>str</td><td>str</td></tr></thead><tbody><tr><td>2022090800</td><td>80</td><td>47857</td><td>&quot;BUF&quot;</td><td>0</td><td>0</td><td>0</td><td>0</td><td>0</td><td>0</td><td>0</td><td>0</td><td>0</td><td>0</td><td>0</td><td>0</td><td>0</td><td>0</td><td>0</td><td>0</td><td>0</td><td>0</td><td>0</td><td>0</td><td>0</td><td>0</td><td>0</td><td>0</td><td>0</td><td>0</td><td>0</td><td>0</td><td>&quot;NA&quot;</td><td>&quot;NA&quot;</td><td>false</td><td>&quot;NA&quot;</td><td>&quot;NA&quot;</td><td>&quot;TRUE&quot;</td><td>&quot;FALSE&quot;</td><td>&quot;TRUE&quot;</td><td>&quot;NA&quot;</td><td>&quot;NA&quot;</td><td>&quot;NA&quot;</td><td>&quot;NA&quot;</td><td>&quot;NA&quot;</td><td>&quot;NA&quot;</td><td>&quot;NA&quot;</td><td>&quot;NA&quot;</td><td>&quot;NA&quot;</td><td>&quot;NA&quot;</td></tr><tr><td>2022090800</td><td>101</td><td>53079</td><td>&quot;BUF&quot;</td><td>0</td><td>0</td><td>0</td><td>0</td><td>0</td><td>0</td><td>0</td><td>0</td><td>0</td><td>0</td><td>0</td><td>0</td><td>0</td><td>0</td><td>0</td><td>0</td><td>0</td><td>0</td><td>0</td><td>0</td><td>0</td><td>0</td><td>0</td><td>0</td><td>0</td><td>0</td><td>0</td><td>0</td><td>&quot;NA&quot;</td><td>&quot;NA&quot;</td><td>false</td><td>&quot;NA&quot;</td><td>&quot;NA&quot;</td><td>&quot;TRUE&quot;</td><td>&quot;FALSE&quot;</td><td>&quot;TRUE&quot;</td><td>&quot;NA&quot;</td><td>&quot;NA&quot;</td><td>&quot;NA&quot;</td><td>&quot;NA&quot;</td><td>&quot;NA&quot;</td><td>&quot;NA&quot;</td><td>&quot;NA&quot;</td><td>&quot;NA&quot;</td><td>&quot;NA&quot;</td><td>&quot;NA&quot;</td></tr><tr><td>2022090800</td><td>212</td><td>47879</td><td>&quot;BUF&quot;</td><td>0</td><td>0</td><td>0</td><td>0</td><td>0</td><td>0</td><td>0</td><td>0</td><td>0</td><td>0</td><td>0</td><td>0</td><td>0</td><td>0</td><td>0</td><td>0</td><td>0</td><td>0</td><td>0</td><td>0</td><td>0</td><td>0</td><td>0</td><td>0</td><td>0</td><td>0</td><td>0</td><td>0</td><td>&quot;NA&quot;</td><td>&quot;NA&quot;</td><td>false</td><td>&quot;NA&quot;</td><td>&quot;NA&quot;</td><td>&quot;TRUE&quot;</td><td>&quot;FALSE&quot;</td><td>&quot;TRUE&quot;</td><td>&quot;1&quot;</td><td>&quot;IN&quot;</td><td>&quot;NA&quot;</td><td>&quot;NA&quot;</td><td>&quot;NA&quot;</td><td>&quot;NA&quot;</td><td>&quot;NA&quot;</td><td>&quot;NA&quot;</td><td>&quot;NA&quot;</td><td>&quot;NA&quot;</td></tr><tr><td>2022090800</td><td>236</td><td>52536</td><td>&quot;BUF&quot;</td><td>0</td><td>0</td><td>0</td><td>0</td><td>0</td><td>1</td><td>26</td><td>1</td><td>11</td><td>0</td><td>0</td><td>0</td><td>0</td><td>0</td><td>0</td><td>0</td><td>0</td><td>0</td><td>0</td><td>0</td><td>0</td><td>0</td><td>0</td><td>0</td><td>0</td><td>0</td><td>0</td><td>0</td><td>&quot;NA&quot;</td><td>&quot;NA&quot;</td><td>false</td><td>&quot;NA&quot;</td><td>&quot;NA&quot;</td><td>&quot;TRUE&quot;</td><td>&quot;FALSE&quot;</td><td>&quot;TRUE&quot;</td><td>&quot;1&quot;</td><td>&quot;CORNER&quot;</td><td>&quot;NA&quot;</td><td>&quot;NA&quot;</td><td>&quot;NA&quot;</td><td>&quot;NA&quot;</td><td>&quot;NA&quot;</td><td>&quot;NA&quot;</td><td>&quot;NA&quot;</td><td>&quot;NA&quot;</td></tr><tr><td>2022090800</td><td>299</td><td>44881</td><td>&quot;LA&quot;</td><td>0</td><td>0</td><td>0</td><td>0</td><td>0</td><td>0</td><td>0</td><td>0</td><td>0</td><td>0</td><td>0</td><td>0</td><td>0</td><td>0</td><td>0</td><td>0</td><td>0</td><td>0</td><td>0</td><td>0</td><td>0</td><td>0</td><td>0</td><td>0</td><td>0</td><td>0</td><td>0</td><td>0</td><td>&quot;NA&quot;</td><td>&quot;NA&quot;</td><td>false</td><td>&quot;NA&quot;</td><td>&quot;NA&quot;</td><td>&quot;TRUE&quot;</td><td>&quot;FALSE&quot;</td><td>&quot;TRUE&quot;</td><td>&quot;NA&quot;</td><td>&quot;NA&quot;</td><td>&quot;NA&quot;</td><td>&quot;NA&quot;</td><td>&quot;NA&quot;</td><td>&quot;NA&quot;</td><td>&quot;NA&quot;</td><td>&quot;NA&quot;</td><td>&quot;NA&quot;</td><td>&quot;NA&quot;</td></tr><tr><td>&hellip;</td><td>&hellip;</td><td>&hellip;</td><td>&hellip;</td><td>&hellip;</td><td>&hellip;</td><td>&hellip;</td><td>&hellip;</td><td>&hellip;</td><td>&hellip;</td><td>&hellip;</td><td>&hellip;</td><td>&hellip;</td><td>&hellip;</td><td>&hellip;</td><td>&hellip;</td><td>&hellip;</td><td>&hellip;</td><td>&hellip;</td><td>&hellip;</td><td>&hellip;</td><td>&hellip;</td><td>&hellip;</td><td>&hellip;</td><td>&hellip;</td><td>&hellip;</td><td>&hellip;</td><td>&hellip;</td><td>&hellip;</td><td>&hellip;</td><td>&hellip;</td><td>&hellip;</td><td>&hellip;</td><td>&hellip;</td><td>&hellip;</td><td>&hellip;</td><td>&hellip;</td><td>&hellip;</td><td>&hellip;</td><td>&hellip;</td><td>&hellip;</td><td>&hellip;</td><td>&hellip;</td><td>&hellip;</td><td>&hellip;</td><td>&hellip;</td><td>&hellip;</td><td>&hellip;</td><td>&hellip;</td><td>&hellip;</td></tr><tr><td>2022110700</td><td>2286</td><td>54604</td><td>&quot;BAL&quot;</td><td>0</td><td>0</td><td>0</td><td>0</td><td>0</td><td>0</td><td>0</td><td>0</td><td>0</td><td>0</td><td>0</td><td>0</td><td>0</td><td>0</td><td>0</td><td>0</td><td>0</td><td>0</td><td>0</td><td>0</td><td>0</td><td>0</td><td>0</td><td>0</td><td>0</td><td>0</td><td>0</td><td>0</td><td>&quot;NA&quot;</td><td>&quot;NA&quot;</td><td>false</td><td>&quot;NA&quot;</td><td>&quot;NA&quot;</td><td>&quot;TRUE&quot;</td><td>&quot;FALSE&quot;</td><td>&quot;NA&quot;</td><td>&quot;NA&quot;</td><td>&quot;NA&quot;</td><td>&quot;NA&quot;</td><td>&quot;NA&quot;</td><td>&quot;NA&quot;</td><td>&quot;NA&quot;</td><td>&quot;NA&quot;</td><td>&quot;NA&quot;</td><td>&quot;NA&quot;</td><td>&quot;NA&quot;</td></tr><tr><td>2022110700</td><td>2387</td><td>45244</td><td>&quot;NO&quot;</td><td>0</td><td>0</td><td>0</td><td>0</td><td>0</td><td>0</td><td>0</td><td>0</td><td>0</td><td>0</td><td>0</td><td>0</td><td>0</td><td>0</td><td>0</td><td>0</td><td>0</td><td>0</td><td>0</td><td>0</td><td>0</td><td>0</td><td>0</td><td>0</td><td>0</td><td>0</td><td>0</td><td>0</td><td>&quot;NA&quot;</td><td>&quot;NA&quot;</td><td>false</td><td>&quot;NA&quot;</td><td>&quot;NA&quot;</td><td>&quot;TRUE&quot;</td><td>&quot;FALSE&quot;</td><td>&quot;NA&quot;</td><td>&quot;NA&quot;</td><td>&quot;NA&quot;</td><td>&quot;NA&quot;</td><td>&quot;NA&quot;</td><td>&quot;NA&quot;</td><td>&quot;NA&quot;</td><td>&quot;NA&quot;</td><td>&quot;NA&quot;</td><td>&quot;NA&quot;</td><td>&quot;NA&quot;</td></tr><tr><td>2022110700</td><td>2902</td><td>45268</td><td>&quot;BAL&quot;</td><td>0</td><td>0</td><td>0</td><td>0</td><td>0</td><td>0</td><td>0</td><td>0</td><td>0</td><td>0</td><td>0</td><td>0</td><td>0</td><td>0</td><td>0</td><td>0</td><td>0</td><td>0</td><td>0</td><td>0</td><td>0</td><td>0</td><td>0</td><td>0</td><td>0</td><td>0</td><td>0</td><td>0</td><td>&quot;NA&quot;</td><td>&quot;NA&quot;</td><td>false</td><td>&quot;NA&quot;</td><td>&quot;NA&quot;</td><td>&quot;TRUE&quot;</td><td>&quot;FALSE&quot;</td><td>&quot;NA&quot;</td><td>&quot;NA&quot;</td><td>&quot;NA&quot;</td><td>&quot;NA&quot;</td><td>&quot;NA&quot;</td><td>&quot;NA&quot;</td><td>&quot;NA&quot;</td><td>&quot;NA&quot;</td><td>&quot;NA&quot;</td><td>&quot;NA&quot;</td><td>&quot;NA&quot;</td></tr><tr><td>2022110700</td><td>3153</td><td>45268</td><td>&quot;BAL&quot;</td><td>0</td><td>0</td><td>0</td><td>0</td><td>0</td><td>0</td><td>0</td><td>0</td><td>0</td><td>0</td><td>0</td><td>0</td><td>0</td><td>0</td><td>0</td><td>0</td><td>0</td><td>0</td><td>0</td><td>0</td><td>0</td><td>0</td><td>0</td><td>0</td><td>0</td><td>0</td><td>0</td><td>0</td><td>&quot;NA&quot;</td><td>&quot;NA&quot;</td><td>false</td><td>&quot;NA&quot;</td><td>&quot;NA&quot;</td><td>&quot;TRUE&quot;</td><td>&quot;FALSE&quot;</td><td>&quot;TRUE&quot;</td><td>&quot;NA&quot;</td><td>&quot;NA&quot;</td><td>&quot;NA&quot;</td><td>&quot;NA&quot;</td><td>&quot;NA&quot;</td><td>&quot;NA&quot;</td><td>&quot;NA&quot;</td><td>&quot;NA&quot;</td><td>&quot;NA&quot;</td><td>&quot;NA&quot;</td></tr><tr><td>2022110700</td><td>3581</td><td>52500</td><td>&quot;BAL&quot;</td><td>0</td><td>0</td><td>0</td><td>0</td><td>0</td><td>0</td><td>0</td><td>0</td><td>0</td><td>0</td><td>0</td><td>0</td><td>0</td><td>0</td><td>0</td><td>0</td><td>0</td><td>0</td><td>0</td><td>0</td><td>0</td><td>0</td><td>0</td><td>0</td><td>0</td><td>0</td><td>0</td><td>0</td><td>&quot;NA&quot;</td><td>&quot;NA&quot;</td><td>false</td><td>&quot;NA&quot;</td><td>&quot;NA&quot;</td><td>&quot;TRUE&quot;</td><td>&quot;FALSE&quot;</td><td>&quot;NA&quot;</td><td>&quot;NA&quot;</td><td>&quot;NA&quot;</td><td>&quot;NA&quot;</td><td>&quot;NA&quot;</td><td>&quot;NA&quot;</td><td>&quot;NA&quot;</td><td>&quot;NA&quot;</td><td>&quot;NA&quot;</td><td>&quot;NA&quot;</td><td>&quot;NA&quot;</td></tr></tbody></table></div>"
      ],
      "text/plain": [
       "shape: (4_572, 50)\n",
       "┌────────────┬────────┬───────┬──────────┬───┬─────────────┬─────────────┬────────────┬────────────┐\n",
       "│ gameId     ┆ playId ┆ nflId ┆ teamAbbr ┆ … ┆ timeToPress ┆ pff_defensi ┆ pff_primar ┆ pff_second │\n",
       "│ ---        ┆ ---    ┆ ---   ┆ ---      ┆   ┆ ureAllowedA ┆ veCoverageA ┆ yDefensive ┆ aryDefensi │\n",
       "│ i64        ┆ i64    ┆ i64   ┆ str      ┆   ┆ sBlocker    ┆ ssignmen…   ┆ CoverageMa ┆ veCoverage │\n",
       "│            ┆        ┆       ┆          ┆   ┆ ---         ┆ ---         ┆ …          ┆ …          │\n",
       "│            ┆        ┆       ┆          ┆   ┆ str         ┆ str         ┆ ---        ┆ ---        │\n",
       "│            ┆        ┆       ┆          ┆   ┆             ┆             ┆ str        ┆ str        │\n",
       "╞════════════╪════════╪═══════╪══════════╪═══╪═════════════╪═════════════╪════════════╪════════════╡\n",
       "│ 2022090800 ┆ 80     ┆ 47857 ┆ BUF      ┆ … ┆ NA          ┆ NA          ┆ NA         ┆ NA         │\n",
       "│ 2022090800 ┆ 101    ┆ 53079 ┆ BUF      ┆ … ┆ NA          ┆ NA          ┆ NA         ┆ NA         │\n",
       "│ 2022090800 ┆ 212    ┆ 47879 ┆ BUF      ┆ … ┆ NA          ┆ NA          ┆ NA         ┆ NA         │\n",
       "│ 2022090800 ┆ 236    ┆ 52536 ┆ BUF      ┆ … ┆ NA          ┆ NA          ┆ NA         ┆ NA         │\n",
       "│ 2022090800 ┆ 299    ┆ 44881 ┆ LA       ┆ … ┆ NA          ┆ NA          ┆ NA         ┆ NA         │\n",
       "│ …          ┆ …      ┆ …     ┆ …        ┆ … ┆ …           ┆ …           ┆ …          ┆ …          │\n",
       "│ 2022110700 ┆ 2286   ┆ 54604 ┆ BAL      ┆ … ┆ NA          ┆ NA          ┆ NA         ┆ NA         │\n",
       "│ 2022110700 ┆ 2387   ┆ 45244 ┆ NO       ┆ … ┆ NA          ┆ NA          ┆ NA         ┆ NA         │\n",
       "│ 2022110700 ┆ 2902   ┆ 45268 ┆ BAL      ┆ … ┆ NA          ┆ NA          ┆ NA         ┆ NA         │\n",
       "│ 2022110700 ┆ 3153   ┆ 45268 ┆ BAL      ┆ … ┆ NA          ┆ NA          ┆ NA         ┆ NA         │\n",
       "│ 2022110700 ┆ 3581   ┆ 52500 ┆ BAL      ┆ … ┆ NA          ┆ NA          ┆ NA         ┆ NA         │\n",
       "└────────────┴────────┴───────┴──────────┴───┴─────────────┴─────────────┴────────────┴────────────┘"
      ]
     },
     "execution_count": 39,
     "metadata": {},
     "output_type": "execute_result"
    }
   ],
   "source": [
    "inMotionAtBallSnapDf"
   ]
  },
  {
   "cell_type": "code",
   "execution_count": 31,
   "metadata": {},
   "outputs": [
    {
     "data": {
      "text/html": [
       "<div><style>\n",
       ".dataframe > thead > tr,\n",
       ".dataframe > tbody > tr {\n",
       "  text-align: right;\n",
       "  white-space: pre-wrap;\n",
       "}\n",
       "</style>\n",
       "<small>shape: (6_233, 50)</small><table border=\"1\" class=\"dataframe\"><thead><tr><th>gameId</th><th>playId</th><th>nflId</th><th>teamAbbr</th><th>hadRushAttempt</th><th>rushingYards</th><th>hadDropback</th><th>passingYards</th><th>sackYardsAsOffense</th><th>hadPassReception</th><th>receivingYards</th><th>wasTargettedReceiver</th><th>yardageGainedAfterTheCatch</th><th>fumbles</th><th>fumbleLost</th><th>fumbleOutOfBounds</th><th>assistedTackle</th><th>forcedFumbleAsDefense</th><th>halfSackYardsAsDefense</th><th>passDefensed</th><th>quarterbackHit</th><th>sackYardsAsDefense</th><th>safetyAsDefense</th><th>soloTackle</th><th>tackleAssist</th><th>tackleForALoss</th><th>tackleForALossYardage</th><th>hadInterception</th><th>interceptionYards</th><th>fumbleRecoveries</th><th>fumbleRecoveryYards</th><th>penaltyYards</th><th>penaltyNames</th><th>wasInitialPassRusher</th><th>causedPressure</th><th>timeToPressureAsPassRusher</th><th>getOffTimeAsPassRusher</th><th>inMotionAtBallSnap</th><th>shiftSinceLineset</th><th>motionSinceLineset</th><th>wasRunningRoute</th><th>routeRan</th><th>blockedPlayerNFLId1</th><th>blockedPlayerNFLId2</th><th>blockedPlayerNFLId3</th><th>pressureAllowedAsBlocker</th><th>timeToPressureAllowedAsBlocker</th><th>pff_defensiveCoverageAssignment</th><th>pff_primaryDefensiveCoverageMatchupNflId</th><th>pff_secondaryDefensiveCoverageMatchupNflId</th></tr><tr><td>i64</td><td>i64</td><td>i64</td><td>str</td><td>i64</td><td>i64</td><td>i64</td><td>i64</td><td>i64</td><td>i64</td><td>i64</td><td>i64</td><td>i64</td><td>i64</td><td>i64</td><td>i64</td><td>i64</td><td>i64</td><td>i64</td><td>i64</td><td>i64</td><td>i64</td><td>i64</td><td>i64</td><td>i64</td><td>i64</td><td>i64</td><td>i64</td><td>i64</td><td>i64</td><td>i64</td><td>i64</td><td>str</td><td>str</td><td>bool</td><td>str</td><td>str</td><td>str</td><td>str</td><td>str</td><td>str</td><td>str</td><td>str</td><td>str</td><td>str</td><td>str</td><td>str</td><td>str</td><td>str</td><td>str</td></tr></thead><tbody><tr><td>2022090800</td><td>56</td><td>46076</td><td>&quot;BUF&quot;</td><td>0</td><td>0</td><td>1</td><td>6</td><td>0</td><td>0</td><td>0</td><td>0</td><td>0</td><td>0</td><td>0</td><td>0</td><td>0</td><td>0</td><td>0</td><td>0</td><td>0</td><td>0</td><td>0</td><td>0</td><td>0</td><td>0</td><td>0</td><td>0</td><td>0</td><td>0</td><td>0</td><td>0</td><td>&quot;NA&quot;</td><td>&quot;NA&quot;</td><td>false</td><td>&quot;NA&quot;</td><td>&quot;NA&quot;</td><td>&quot;FALSE&quot;</td><td>&quot;FALSE&quot;</td><td>&quot;FALSE&quot;</td><td>&quot;NA&quot;</td><td>&quot;NA&quot;</td><td>&quot;NA&quot;</td><td>&quot;NA&quot;</td><td>&quot;NA&quot;</td><td>&quot;NA&quot;</td><td>&quot;NA&quot;</td><td>&quot;NA&quot;</td><td>&quot;NA&quot;</td><td>&quot;NA&quot;</td></tr><tr><td>2022090800</td><td>122</td><td>46076</td><td>&quot;BUF&quot;</td><td>0</td><td>0</td><td>1</td><td>6</td><td>0</td><td>0</td><td>0</td><td>0</td><td>0</td><td>0</td><td>0</td><td>0</td><td>0</td><td>0</td><td>0</td><td>0</td><td>0</td><td>0</td><td>0</td><td>0</td><td>0</td><td>0</td><td>0</td><td>0</td><td>0</td><td>0</td><td>0</td><td>0</td><td>&quot;NA&quot;</td><td>&quot;NA&quot;</td><td>false</td><td>&quot;NA&quot;</td><td>&quot;NA&quot;</td><td>&quot;FALSE&quot;</td><td>&quot;FALSE&quot;</td><td>&quot;FALSE&quot;</td><td>&quot;NA&quot;</td><td>&quot;NA&quot;</td><td>&quot;NA&quot;</td><td>&quot;NA&quot;</td><td>&quot;NA&quot;</td><td>&quot;NA&quot;</td><td>&quot;NA&quot;</td><td>&quot;NA&quot;</td><td>&quot;NA&quot;</td><td>&quot;NA&quot;</td></tr><tr><td>2022090800</td><td>167</td><td>46076</td><td>&quot;BUF&quot;</td><td>0</td><td>0</td><td>1</td><td>12</td><td>0</td><td>0</td><td>0</td><td>0</td><td>0</td><td>0</td><td>0</td><td>0</td><td>0</td><td>0</td><td>0</td><td>0</td><td>0</td><td>0</td><td>0</td><td>0</td><td>0</td><td>0</td><td>0</td><td>0</td><td>0</td><td>0</td><td>0</td><td>0</td><td>&quot;NA&quot;</td><td>&quot;NA&quot;</td><td>false</td><td>&quot;NA&quot;</td><td>&quot;NA&quot;</td><td>&quot;FALSE&quot;</td><td>&quot;FALSE&quot;</td><td>&quot;FALSE&quot;</td><td>&quot;NA&quot;</td><td>&quot;NA&quot;</td><td>&quot;NA&quot;</td><td>&quot;NA&quot;</td><td>&quot;NA&quot;</td><td>&quot;NA&quot;</td><td>&quot;NA&quot;</td><td>&quot;NA&quot;</td><td>&quot;NA&quot;</td><td>&quot;NA&quot;</td></tr><tr><td>2022090800</td><td>212</td><td>46076</td><td>&quot;BUF&quot;</td><td>0</td><td>0</td><td>1</td><td>8</td><td>0</td><td>0</td><td>0</td><td>0</td><td>0</td><td>0</td><td>0</td><td>0</td><td>0</td><td>0</td><td>0</td><td>0</td><td>0</td><td>0</td><td>0</td><td>0</td><td>0</td><td>0</td><td>0</td><td>0</td><td>0</td><td>0</td><td>0</td><td>0</td><td>&quot;NA&quot;</td><td>&quot;NA&quot;</td><td>false</td><td>&quot;NA&quot;</td><td>&quot;NA&quot;</td><td>&quot;FALSE&quot;</td><td>&quot;FALSE&quot;</td><td>&quot;FALSE&quot;</td><td>&quot;NA&quot;</td><td>&quot;NA&quot;</td><td>&quot;NA&quot;</td><td>&quot;NA&quot;</td><td>&quot;NA&quot;</td><td>&quot;NA&quot;</td><td>&quot;NA&quot;</td><td>&quot;NA&quot;</td><td>&quot;NA&quot;</td><td>&quot;NA&quot;</td></tr><tr><td>2022090800</td><td>236</td><td>46076</td><td>&quot;BUF&quot;</td><td>0</td><td>0</td><td>1</td><td>26</td><td>0</td><td>0</td><td>0</td><td>0</td><td>0</td><td>0</td><td>0</td><td>0</td><td>0</td><td>0</td><td>0</td><td>0</td><td>0</td><td>0</td><td>0</td><td>0</td><td>0</td><td>0</td><td>0</td><td>0</td><td>0</td><td>0</td><td>0</td><td>0</td><td>&quot;NA&quot;</td><td>&quot;NA&quot;</td><td>false</td><td>&quot;NA&quot;</td><td>&quot;NA&quot;</td><td>&quot;FALSE&quot;</td><td>&quot;FALSE&quot;</td><td>&quot;FALSE&quot;</td><td>&quot;NA&quot;</td><td>&quot;NA&quot;</td><td>&quot;NA&quot;</td><td>&quot;NA&quot;</td><td>&quot;NA&quot;</td><td>&quot;NA&quot;</td><td>&quot;NA&quot;</td><td>&quot;NA&quot;</td><td>&quot;NA&quot;</td><td>&quot;NA&quot;</td></tr><tr><td>&hellip;</td><td>&hellip;</td><td>&hellip;</td><td>&hellip;</td><td>&hellip;</td><td>&hellip;</td><td>&hellip;</td><td>&hellip;</td><td>&hellip;</td><td>&hellip;</td><td>&hellip;</td><td>&hellip;</td><td>&hellip;</td><td>&hellip;</td><td>&hellip;</td><td>&hellip;</td><td>&hellip;</td><td>&hellip;</td><td>&hellip;</td><td>&hellip;</td><td>&hellip;</td><td>&hellip;</td><td>&hellip;</td><td>&hellip;</td><td>&hellip;</td><td>&hellip;</td><td>&hellip;</td><td>&hellip;</td><td>&hellip;</td><td>&hellip;</td><td>&hellip;</td><td>&hellip;</td><td>&hellip;</td><td>&hellip;</td><td>&hellip;</td><td>&hellip;</td><td>&hellip;</td><td>&hellip;</td><td>&hellip;</td><td>&hellip;</td><td>&hellip;</td><td>&hellip;</td><td>&hellip;</td><td>&hellip;</td><td>&hellip;</td><td>&hellip;</td><td>&hellip;</td><td>&hellip;</td><td>&hellip;</td><td>&hellip;</td></tr><tr><td>2022110700</td><td>3299</td><td>37110</td><td>&quot;NO&quot;</td><td>0</td><td>0</td><td>1</td><td>5</td><td>0</td><td>0</td><td>0</td><td>0</td><td>0</td><td>0</td><td>0</td><td>0</td><td>0</td><td>0</td><td>0</td><td>0</td><td>0</td><td>0</td><td>0</td><td>0</td><td>0</td><td>0</td><td>0</td><td>0</td><td>0</td><td>0</td><td>0</td><td>0</td><td>&quot;NA&quot;</td><td>&quot;NA&quot;</td><td>false</td><td>&quot;NA&quot;</td><td>&quot;NA&quot;</td><td>&quot;NA&quot;</td><td>&quot;FALSE&quot;</td><td>&quot;NA&quot;</td><td>&quot;NA&quot;</td><td>&quot;NA&quot;</td><td>&quot;NA&quot;</td><td>&quot;NA&quot;</td><td>&quot;NA&quot;</td><td>&quot;NA&quot;</td><td>&quot;NA&quot;</td><td>&quot;NA&quot;</td><td>&quot;NA&quot;</td><td>&quot;NA&quot;</td></tr><tr><td>2022110700</td><td>3323</td><td>37110</td><td>&quot;NO&quot;</td><td>0</td><td>0</td><td>1</td><td>11</td><td>0</td><td>0</td><td>0</td><td>0</td><td>0</td><td>0</td><td>0</td><td>0</td><td>0</td><td>0</td><td>0</td><td>0</td><td>0</td><td>0</td><td>0</td><td>0</td><td>0</td><td>0</td><td>0</td><td>0</td><td>0</td><td>0</td><td>0</td><td>0</td><td>&quot;NA&quot;</td><td>&quot;NA&quot;</td><td>false</td><td>&quot;NA&quot;</td><td>&quot;NA&quot;</td><td>&quot;NA&quot;</td><td>&quot;FALSE&quot;</td><td>&quot;NA&quot;</td><td>&quot;NA&quot;</td><td>&quot;NA&quot;</td><td>&quot;NA&quot;</td><td>&quot;NA&quot;</td><td>&quot;NA&quot;</td><td>&quot;NA&quot;</td><td>&quot;NA&quot;</td><td>&quot;NA&quot;</td><td>&quot;NA&quot;</td><td>&quot;NA&quot;</td></tr><tr><td>2022110700</td><td>3347</td><td>37110</td><td>&quot;NO&quot;</td><td>0</td><td>0</td><td>1</td><td>7</td><td>0</td><td>0</td><td>0</td><td>0</td><td>0</td><td>0</td><td>0</td><td>0</td><td>0</td><td>0</td><td>0</td><td>0</td><td>0</td><td>0</td><td>0</td><td>0</td><td>0</td><td>0</td><td>0</td><td>0</td><td>0</td><td>0</td><td>0</td><td>0</td><td>&quot;NA&quot;</td><td>&quot;NA&quot;</td><td>false</td><td>&quot;NA&quot;</td><td>&quot;NA&quot;</td><td>&quot;FALSE&quot;</td><td>&quot;FALSE&quot;</td><td>&quot;FALSE&quot;</td><td>&quot;NA&quot;</td><td>&quot;NA&quot;</td><td>&quot;NA&quot;</td><td>&quot;NA&quot;</td><td>&quot;NA&quot;</td><td>&quot;NA&quot;</td><td>&quot;NA&quot;</td><td>&quot;NA&quot;</td><td>&quot;NA&quot;</td><td>&quot;NA&quot;</td></tr><tr><td>2022110700</td><td>3401</td><td>37110</td><td>&quot;NO&quot;</td><td>0</td><td>0</td><td>1</td><td>9</td><td>0</td><td>0</td><td>0</td><td>0</td><td>0</td><td>0</td><td>0</td><td>0</td><td>0</td><td>0</td><td>0</td><td>0</td><td>0</td><td>0</td><td>0</td><td>0</td><td>0</td><td>0</td><td>0</td><td>0</td><td>0</td><td>0</td><td>0</td><td>0</td><td>&quot;NA&quot;</td><td>&quot;NA&quot;</td><td>false</td><td>&quot;NA&quot;</td><td>&quot;NA&quot;</td><td>&quot;FALSE&quot;</td><td>&quot;FALSE&quot;</td><td>&quot;FALSE&quot;</td><td>&quot;NA&quot;</td><td>&quot;NA&quot;</td><td>&quot;NA&quot;</td><td>&quot;NA&quot;</td><td>&quot;NA&quot;</td><td>&quot;NA&quot;</td><td>&quot;NA&quot;</td><td>&quot;NA&quot;</td><td>&quot;NA&quot;</td><td>&quot;NA&quot;</td></tr><tr><td>2022110700</td><td>3480</td><td>37110</td><td>&quot;NO&quot;</td><td>0</td><td>0</td><td>1</td><td>41</td><td>0</td><td>0</td><td>0</td><td>0</td><td>0</td><td>0</td><td>0</td><td>0</td><td>0</td><td>0</td><td>0</td><td>0</td><td>0</td><td>0</td><td>0</td><td>0</td><td>0</td><td>0</td><td>0</td><td>0</td><td>0</td><td>0</td><td>0</td><td>0</td><td>&quot;NA&quot;</td><td>&quot;NA&quot;</td><td>false</td><td>&quot;NA&quot;</td><td>&quot;NA&quot;</td><td>&quot;FALSE&quot;</td><td>&quot;FALSE&quot;</td><td>&quot;FALSE&quot;</td><td>&quot;NA&quot;</td><td>&quot;NA&quot;</td><td>&quot;NA&quot;</td><td>&quot;NA&quot;</td><td>&quot;NA&quot;</td><td>&quot;NA&quot;</td><td>&quot;NA&quot;</td><td>&quot;NA&quot;</td><td>&quot;NA&quot;</td><td>&quot;NA&quot;</td></tr></tbody></table></div>"
      ],
      "text/plain": [
       "shape: (6_233, 50)\n",
       "┌────────────┬────────┬───────┬──────────┬───┬─────────────┬─────────────┬────────────┬────────────┐\n",
       "│ gameId     ┆ playId ┆ nflId ┆ teamAbbr ┆ … ┆ timeToPress ┆ pff_defensi ┆ pff_primar ┆ pff_second │\n",
       "│ ---        ┆ ---    ┆ ---   ┆ ---      ┆   ┆ ureAllowedA ┆ veCoverageA ┆ yDefensive ┆ aryDefensi │\n",
       "│ i64        ┆ i64    ┆ i64   ┆ str      ┆   ┆ sBlocker    ┆ ssignmen…   ┆ CoverageMa ┆ veCoverage │\n",
       "│            ┆        ┆       ┆          ┆   ┆ ---         ┆ ---         ┆ …          ┆ …          │\n",
       "│            ┆        ┆       ┆          ┆   ┆ str         ┆ str         ┆ ---        ┆ ---        │\n",
       "│            ┆        ┆       ┆          ┆   ┆             ┆             ┆ str        ┆ str        │\n",
       "╞════════════╪════════╪═══════╪══════════╪═══╪═════════════╪═════════════╪════════════╪════════════╡\n",
       "│ 2022090800 ┆ 56     ┆ 46076 ┆ BUF      ┆ … ┆ NA          ┆ NA          ┆ NA         ┆ NA         │\n",
       "│ 2022090800 ┆ 122    ┆ 46076 ┆ BUF      ┆ … ┆ NA          ┆ NA          ┆ NA         ┆ NA         │\n",
       "│ 2022090800 ┆ 167    ┆ 46076 ┆ BUF      ┆ … ┆ NA          ┆ NA          ┆ NA         ┆ NA         │\n",
       "│ 2022090800 ┆ 212    ┆ 46076 ┆ BUF      ┆ … ┆ NA          ┆ NA          ┆ NA         ┆ NA         │\n",
       "│ 2022090800 ┆ 236    ┆ 46076 ┆ BUF      ┆ … ┆ NA          ┆ NA          ┆ NA         ┆ NA         │\n",
       "│ …          ┆ …      ┆ …     ┆ …        ┆ … ┆ …           ┆ …           ┆ …          ┆ …          │\n",
       "│ 2022110700 ┆ 3299   ┆ 37110 ┆ NO       ┆ … ┆ NA          ┆ NA          ┆ NA         ┆ NA         │\n",
       "│ 2022110700 ┆ 3323   ┆ 37110 ┆ NO       ┆ … ┆ NA          ┆ NA          ┆ NA         ┆ NA         │\n",
       "│ 2022110700 ┆ 3347   ┆ 37110 ┆ NO       ┆ … ┆ NA          ┆ NA          ┆ NA         ┆ NA         │\n",
       "│ 2022110700 ┆ 3401   ┆ 37110 ┆ NO       ┆ … ┆ NA          ┆ NA          ┆ NA         ┆ NA         │\n",
       "│ 2022110700 ┆ 3480   ┆ 37110 ┆ NO       ┆ … ┆ NA          ┆ NA          ┆ NA         ┆ NA         │\n",
       "└────────────┴────────┴───────┴──────────┴───┴─────────────┴─────────────┴────────────┴────────────┘"
      ]
     },
     "execution_count": 31,
     "metadata": {},
     "output_type": "execute_result"
    }
   ],
   "source": [
    "scramble_plays"
   ]
  },
  {
   "cell_type": "code",
   "execution_count": 11,
   "metadata": {},
   "outputs": [],
   "source": [
    "# Load and process tracking data for all weeks\n",
    "tracking_files = glob.glob(\"data/tracking_week_*.csv\")\n",
    "tracking_data = []\n",
    "for file in tracking_files:\n",
    "    week_data = pl.read_csv(\n",
    "        file,\n",
    "        columns=[\n",
    "            \"gameId\", \"playId\", \"nflId\", \"displayName\", \"frameId\", \"frameType\",\n",
    "            \"time\", \"jerseyNumber\", \"club\", \"playDirection\", \"x\", \"y\", \"s\", \"a\",\n",
    "            \"dis\", \"o\", \"dir\", \"event\"\n",
    "        ],\n",
    "        null_values= [\"NA\"]\n",
    "    )\n",
    "    # Feature engineering: Aggregate relevant tracking metrics per play\n",
    "    week_data_grouped = (\n",
    "        week_data.group_by([\"gameId\", \"playId\"])\n",
    "        .agg([\n",
    "            pl.col(\"s\").mean().alias(\"avg_speed\"),\n",
    "            pl.col(\"a\").mean().alias(\"avg_acceleration\"),\n",
    "            pl.col(\"o\").mean().alias(\"avg_orientation\"),\n",
    "            pl.col(\"dir\").mean().alias(\"avg_direction\"),\n",
    "            (pl.col(\"displayName\") == \"QB\").sum().alias(\"qb_in_play\")\n",
    "        ])\n",
    "    )\n",
    "    tracking_data.append(week_data_grouped)\n",
    "\n",
    "# Concatenate all tracking data for each week\n",
    "all_tracking_data = pl.concat(tracking_data)"
   ]
  },
  {
   "cell_type": "code",
   "execution_count": 18,
   "metadata": {},
   "outputs": [],
   "source": [
    "# Merge tracking data with the filtered scramble plays\n",
    "model_data = scramble_plays.join(all_tracking_data, on=[\"gameId\", \"playId\"])\n",
    "\n",
    "# Select relevant features for training\n",
    "features = [\n",
    "    \"avg_speed\", \"avg_acceleration\", \"avg_orientation\", \"avg_direction\", \"qb_in_play\",\n",
    "    \"sackYardsAsOffense\", \"tackleForALoss\", \"penaltyYards\", \"pff_defensiveCoverageAssignment\",\n",
    "    \"shiftSinceLineset\", \"motionSinceLineset\"\n",
    "]\n",
    "target = \"causedPressure\"  # Adjust target as needed for defensive prediction\n",
    "\n",
    "# Prepare the data for modeling\n",
    "X = model_data.select(features)\n",
    "y = model_data.select([target]).to_numpy().flatten()\n",
    "\n"
   ]
  },
  {
   "cell_type": "code",
   "execution_count": 19,
   "metadata": {},
   "outputs": [
    {
     "data": {
      "text/html": [
       "<div><style>\n",
       ".dataframe > thead > tr,\n",
       ".dataframe > tbody > tr {\n",
       "  text-align: right;\n",
       "  white-space: pre-wrap;\n",
       "}\n",
       "</style>\n",
       "<small>shape: (0, 11)</small><table border=\"1\" class=\"dataframe\"><thead><tr><th>avg_speed</th><th>avg_acceleration</th><th>avg_orientation</th><th>avg_direction</th><th>qb_in_play</th><th>sackYardsAsOffense</th><th>tackleForALoss</th><th>penaltyYards</th><th>pff_defensiveCoverageAssignment</th><th>shiftSinceLineset</th><th>motionSinceLineset</th></tr><tr><td>f64</td><td>f64</td><td>f64</td><td>f64</td><td>u32</td><td>i64</td><td>i64</td><td>i64</td><td>str</td><td>str</td><td>str</td></tr></thead><tbody></tbody></table></div>"
      ],
      "text/plain": [
       "shape: (0, 11)\n",
       "┌───────────┬───────────┬───────────┬───────────┬───┬───────────┬───────────┬───────────┬──────────┐\n",
       "│ avg_speed ┆ avg_accel ┆ avg_orien ┆ avg_direc ┆ … ┆ penaltyYa ┆ pff_defen ┆ shiftSinc ┆ motionSi │\n",
       "│ ---       ┆ eration   ┆ tation    ┆ tion      ┆   ┆ rds       ┆ siveCover ┆ eLineset  ┆ nceLines │\n",
       "│ f64       ┆ ---       ┆ ---       ┆ ---       ┆   ┆ ---       ┆ ageAssign ┆ ---       ┆ et       │\n",
       "│           ┆ f64       ┆ f64       ┆ f64       ┆   ┆ i64       ┆ men…      ┆ str       ┆ ---      │\n",
       "│           ┆           ┆           ┆           ┆   ┆           ┆ ---       ┆           ┆ str      │\n",
       "│           ┆           ┆           ┆           ┆   ┆           ┆ str       ┆           ┆          │\n",
       "╞═══════════╪═══════════╪═══════════╪═══════════╪═══╪═══════════╪═══════════╪═══════════╪══════════╡\n",
       "└───────────┴───────────┴───────────┴───────────┴───┴───────────┴───────────┴───────────┴──────────┘"
      ]
     },
     "execution_count": 19,
     "metadata": {},
     "output_type": "execute_result"
    }
   ],
   "source": [
    "X"
   ]
  },
  {
   "cell_type": "code",
   "execution_count": null,
   "metadata": {},
   "outputs": [],
   "source": [
    "# Split the data into training and testing sets\n",
    "X_train, X_test, y_train, y_test = train_test_split(X, y, test_size=0.2, random_state=42)\n",
    "\n",
    "# Train a model (Random Forest for simplicity)\n",
    "model = RandomForestClassifier(n_estimators=100, random_state=42)\n",
    "model.fit(X_train, y_train)\n",
    "\n",
    "# Evaluate the model\n",
    "y_pred = model.predict(X_test)\n",
    "print(classification_report(y_test, y_pred))\n",
    "\n",
    "# Show feature importance to interpret the model (optional)\n",
    "feature_importances = model.feature_importances_\n",
    "for feature, importance in zip(features, feature_importances):\n",
    "    print(f\"{feature}: {importance:.4f}\")"
   ]
  }
 ],
 "metadata": {
  "kernelspec": {
   "display_name": "Python 3",
   "language": "python",
   "name": "python3"
  },
  "language_info": {
   "codemirror_mode": {
    "name": "ipython",
    "version": 3
   },
   "file_extension": ".py",
   "mimetype": "text/x-python",
   "name": "python",
   "nbconvert_exporter": "python",
   "pygments_lexer": "ipython3",
   "version": "3.10.1"
  }
 },
 "nbformat": 4,
 "nbformat_minor": 2
}
